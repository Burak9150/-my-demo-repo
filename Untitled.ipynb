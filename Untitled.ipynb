{
  "nbformat": 4,
  "nbformat_minor": 0,
  "metadata": {
    "colab": {
      "name": "Untitled",
      "provenance": [],
      "authorship_tag": "ABX9TyOknKfKrwnx6/I/s5/DsDiK",
      "include_colab_link": true
    },
    "kernelspec": {
      "name": "python3",
      "display_name": "Python 3"
    },
    "language_info": {
      "name": "python"
    }
  },
  "cells": [
    {
      "cell_type": "markdown",
      "metadata": {
        "id": "view-in-github",
        "colab_type": "text"
      },
      "source": [
        "<a href=\"https://colab.research.google.com/github/Burak9150/Python-soru-kutuphanesi/blob/main/Untitled.ipynb\" target=\"_parent\"><img src=\"https://colab.research.google.com/assets/colab-badge.svg\" alt=\"Open In Colab\"/></a>"
      ]
    },
    {
      "cell_type": "code",
      "metadata": {
        "id": "kxt_h4bwtKBP"
      },
      "source": [
        ""
      ],
      "execution_count": null,
      "outputs": []
    },
    {
      "cell_type": "markdown",
      "metadata": {
        "id": "cmGVVXzCtRpO"
      },
      "source": [
        "Interview'larda Google, Facebook, Microsoft firmalarınca kullanılan bir soru. Biriken su birim miktarını bulmaca.\n",
        "--\n",
        "orjinal metin :\n",
        "Given an array of non-negative integers representing an elevation map as shown below where the width of each bar is 1, compute how much water will be trapped on terrain after raining. To clarify further, the black boxes represents terrain and its height, and the blue boxes represents the water that could be trapped on the terrain."
      ]
    },
    {
      "cell_type": "code",
      "metadata": {
        "id": "u_K45NGltq5R"
      },
      "source": [
        "listt = []\n",
        "sayac1, sayac2, total = 0, 0, 0\n",
        "while True:\n",
        "    answer = input(\"Please enter an non-negative integer or press 'q' to stop adding into the list > \")\n",
        "    if answer.lower() == 'q':\n",
        "        break\n",
        "    else:\n",
        "        listt.append(int(answer))\n",
        "\n",
        "for x in range(max(listt)):\n",
        "    listt2 = []\n",
        "    for i in listt:\n",
        "        if i != 0:\n",
        "            a = listt.index(i)\n",
        "            break\n",
        "    for k in listt[::-1]:\n",
        "        if k != 0:\n",
        "            b = listt[::-1].index(k)\n",
        "            b = len(listt) - (b + 1)\n",
        "            break\n",
        "    \n",
        "    if a == b:\n",
        "        break\n",
        "    \n",
        "    for v in listt[a:b]:\n",
        "        sayac1 += 1\n",
        "        if v != 0:\n",
        "            sayac2 += 1\n",
        "    total = sayac1 - sayac2\n",
        "    \n",
        "    for p in listt:\n",
        "        if p == 0:\n",
        "            listt2.append(p)\n",
        "        else:\n",
        "            p = p - 1\n",
        "            listt2.append(p)\n",
        "    listt = listt2\n",
        "print('{} bars of water will be trapped on terrain after raining.'.format(total))"
      ],
      "execution_count": null,
      "outputs": []
    },
    {
      "cell_type": "code",
      "metadata": {
        "id": "69ZLa1aDt0x7"
      },
      "source": [
        "ls = [0, 1, 0, 2, 1, 0, 1, 3, 2, 1, 2, 1]\n",
        "n = 0\n",
        "a = 0\n",
        "b = 1\n",
        "while ls.count(max(ls)) == 1:\n",
        "    ls[ls.index(max(ls))]-=1\n",
        "while b < len(ls):\n",
        "    if ls[a] > ls[b]:\n",
        "        while ls[a] > ls[b]:\n",
        "            if ls[a] not in ls[b:]:\n",
        "                break\n",
        "            else:\n",
        "                n+=ls[a]-ls[b]\n",
        "                b+=1\n",
        "                if b == len(ls):\n",
        "                    break\n",
        "        a = b\n",
        "        b = a+1\n",
        "    else:\n",
        "        a+=1\n",
        "        b+=1\n",
        "print(n)"
      ],
      "execution_count": null,
      "outputs": []
    },
    {
      "cell_type": "code",
      "metadata": {
        "id": "saec6jGSt41P"
      },
      "source": [
        "def solution(array):\n",
        "    water = 0\n",
        "    x = 0 \n",
        "    while x < len(array)-1:\n",
        "        for ind in range(x+1,len(array)):\n",
        "            if array[ind] >= array[x] :\n",
        "                water += (ind-x-1) * array[x] - sum(array[x+1:ind])\n",
        "                x = ind\n",
        "                break\n",
        "        else:\n",
        "            t = max(array[x+1:])\n",
        "            t_index = array[x+1:].index(t) + x+1\n",
        "            water += (t_index-x-1)*t - sum(array[x+1:t_index])\n",
        "            x = t_index\n",
        "    return water\n",
        "\n",
        "input1 = [0,1,0,2,1,0,1,3,2,1,2,1]\n",
        "solution(input1)"
      ],
      "execution_count": null,
      "outputs": []
    },
    {
      "cell_type": "code",
      "metadata": {
        "id": "KHG3bTLWuAwo"
      },
      "source": [
        "total_water = 0\n",
        "for width in range(2,len(terrain) -1):\n",
        "    for i in range(len(terrain) - width):\n",
        "        chunk = terrain[i:i+width+1]\n",
        "        if all(element < chunk[0] for element in chunk[1:-1]) and all(element < chunk[-1] for element in chunk[1:-1]):\n",
        "            height = min(chunk[0],chunk[-1]) - max(chunk[1:-1])\n",
        "            total_water += (width-1)*height"
      ],
      "execution_count": null,
      "outputs": []
    },
    {
      "cell_type": "code",
      "metadata": {
        "id": "ejKQFWr7t5Wt"
      },
      "source": [
        ""
      ],
      "execution_count": null,
      "outputs": []
    }
  ]
}