{
  "nbformat": 4,
  "nbformat_minor": 0,
  "metadata": {
    "colab": {
      "name": "Untitled24.ipynb",
      "provenance": [],
      "authorship_tag": "ABX9TyMs3KeOc6/4nxt3/H5OrnCN",
      "include_colab_link": true
    },
    "kernelspec": {
      "name": "python3",
      "display_name": "Python 3"
    },
    "language_info": {
      "name": "python"
    }
  },
  "cells": [
    {
      "cell_type": "markdown",
      "metadata": {
        "id": "view-in-github",
        "colab_type": "text"
      },
      "source": [
        "<a href=\"https://colab.research.google.com/github/Burak9150/Python-soru-kutuphanesi/blob/main/Untitled24.ipynb\" target=\"_parent\"><img src=\"https://colab.research.google.com/assets/colab-badge.svg\" alt=\"Open In Colab\"/></a>"
      ]
    },
    {
      "cell_type": "code",
      "metadata": {
        "id": "flp-88z6hNez"
      },
      "source": [
        "sayı=input(\"sayı giriniz :\")\n",
        "int_olmayan=[\".\",\"-\",\":\"]\n",
        "liste=[]\n",
        "liste1=[]\n",
        "for i in sayı:\n",
        "  if i in int_olmayan:\n",
        "   print(\"Geçersiz bir giriş. Sayısal olmayan, kayan nokta veya negatif değerler kullanmayın!\")\n",
        "if sayı.isalpha():\n",
        "  print(\"Geçersiz bir giriş. Sayısal olmayan, kayan nokta veya negatif değerler kullanmayın!\")\n",
        "elif sayı.isdigit():\n",
        "  \n",
        "  sayı1=list(sayı)\n",
        "  for j in sayı1:\n",
        "    liste.append(int(j))\n",
        "  for k in liste:\n",
        "    k=k**len(liste)\n",
        "    liste1.append(k)\n",
        "    x=sum(liste1)\n",
        "  if x==(int(sayı)):\n",
        "    print(\"{} bir Armstrong numarasıdır\".format(sayı))\n",
        "  else:\n",
        "    print(\"{} bir Armstrong sayısı değildir\".format(sayı))"
      ],
      "execution_count": null,
      "outputs": []
    }
  ]
}