{
  "nbformat": 4,
  "nbformat_minor": 0,
  "metadata": {
    "colab": {
      "name": "Untitled25.ipynb",
      "provenance": [],
      "authorship_tag": "ABX9TyOHdEg23ufxfKliDLkwiijE",
      "include_colab_link": true
    },
    "kernelspec": {
      "name": "python3",
      "display_name": "Python 3"
    },
    "language_info": {
      "name": "python"
    }
  },
  "cells": [
    {
      "cell_type": "markdown",
      "metadata": {
        "id": "view-in-github",
        "colab_type": "text"
      },
      "source": [
        "<a href=\"https://colab.research.google.com/github/Burak9150/Python-soru-kutuphanesi/blob/main/Untitled25.ipynb\" target=\"_parent\"><img src=\"https://colab.research.google.com/assets/colab-badge.svg\" alt=\"Open In Colab\"/></a>"
      ]
    },
    {
      "cell_type": "code",
      "metadata": {
        "id": "NxTR_Is9ae3n"
      },
      "source": [
        ""
      ],
      "execution_count": null,
      "outputs": []
    },
    {
      "cell_type": "markdown",
      "metadata": {
        "id": "6rrm8uEYahvB"
      },
      "source": [
        "Bir kelime dizisi verildiğinde, en yüksek puanlı kelimeyi bulmanız gerekir.\n",
        "Bir kelimenin her harfi alfabedeki konumuna göre puan alır: a = 1, b = 2, c = 3 vb.\n",
        "En yüksek puanlı kelimeyi bir dize olarak döndürmeniz gerekir.\n",
        "İki sözcük aynı puanı alırsa, orijinal dizede en erken görünen sözcüğü döndürün.\n",
        "Tüm harfler küçük olacak ve tüm girişler geçerli olacaktır.\n",
        "Örnekler:\n",
        "'adamım ubud'a kadar bir taksiye ihtiyacım var' ---> 'taksi'\n",
        "'volkana ne zaman tırmanıyoruz' ----> 'volkan'\n",
        "'beni semynak'a götür' ---> 'semynak'\n",
        "'aa b' ---> 'aa'\n",
        "'b aa' ---> 'b'\n",
        "'bb d' --- > 'bb'\n",
        "'d bb' ---> 'd'\n",
        "\"aaa b\" --> \"aaa\"\n"
      ]
    },
    {
      "cell_type": "code",
      "metadata": {
        "id": "zlpftGLfy6QN"
      },
      "source": [
        "alphabet = [chr(i) for i in range(97, 123)]\n",
        "dictt_1 = {}\n",
        "dictt_2 = {}\n",
        "for i in range(len(alphabet)):\n",
        "    dictt_1[alphabet[i]] = i + 1\n",
        "text = input('Please enter your text here > ')\n",
        "text_list = text.lower().split()\n",
        "for i in text_list:\n",
        "    total = 0\n",
        "    for x in i:\n",
        "        total += dictt_1[x]\n",
        "    dictt_2[i] = total\n",
        "listt = list(dictt_2.values())\n",
        "biggest = max(listt)\n",
        "for x, y in dictt_2.items():\n",
        "    if y == biggest:\n",
        "        print(x)\n",
        "        break"
      ],
      "execution_count": null,
      "outputs": []
    },
    {
      "cell_type": "code",
      "metadata": {
        "id": "9SIQbhxJy6NG"
      },
      "source": [
        "sentence = [input(\"Please enter a sentence\").lower()]\n",
        "sen_list = sentence[0].split()\n",
        "letters_point = {}\n",
        "letters = [\"a\",\"b\",\"c\",\"d\",\"e\",\"f\",\"g\",\"h\",\"ı\",\"j\",\"k\",\"l\",\"m\",\"n\",\"o\",\"p\",\"q\",\"r\",\"s\",\"t\",\"u\",\"v\",\"w\",\"x\",\"y\",\"z\"]\n",
        "i = 0\n",
        "k = 1\n",
        "while i < 26:\n",
        "  a = letters[i]\n",
        "  letters_point[a] = k\n",
        "  i += 1\n",
        "  k += 1\n",
        "total_word ={} \n",
        "for word in sen_list:\n",
        "  total_point = 0\n",
        "  for item in word:\n",
        "    total_point += letters_point[item]\n",
        "  total_word[word] = total_point\n",
        "max_word = max(total_word, key = total_word.get)\n",
        "print(max_word)"
      ],
      "execution_count": null,
      "outputs": []
    },
    {
      "cell_type": "code",
      "metadata": {
        "id": "2cfeANNRy6K-"
      },
      "source": [
        "sentence = input(\"Please write a sentencense:\")\n",
        "sentence = sentence.lower()\n",
        "words =sentence.split(\" \")\n",
        "words_dict = dict()\n",
        "for i in words:\n",
        "    words_dict[i] = 0\n",
        "    for a in i:\n",
        "        words_dict[i] +=  ord(a)\n",
        "list_of_keys = list(words_dict.keys())\n",
        "list_of_values = list(words_dict.values())\n",
        "maximum_value = max(list_of_values)\n",
        "position = list_of_values.index(maximum_value)\n",
        "print(list_of_keys[position])"
      ],
      "execution_count": null,
      "outputs": []
    },
    {
      "cell_type": "code",
      "metadata": {
        "id": "pMAFQgZpzTEt"
      },
      "source": [
        "def chrr(n):\n",
        "    return [i for i in n]\n",
        "x = list(enumerate([chr(i) for i in range(97,123)] ,1))\n",
        "y = \"what time are we climbing up the volcano\".split()\n",
        "z = list(map(chrr ,y))\n",
        "for k in z:\n",
        "    for i in range(len(k)):\n",
        "        for j,t in x:\n",
        "            if t == k[i]:\n",
        "                k[i]=j\n",
        "m =[sum(i) for i in z]\n",
        "u = m.index(max(m))\n",
        "print(y[u])"
      ],
      "execution_count": null,
      "outputs": []
    },
    {
      "cell_type": "code",
      "metadata": {
        "id": "zwxl8N4gy6H1"
      },
      "source": [
        "alphabet=(\"a\",\"b\",\"c\",\"d\",\"e\",\"f\",\"g\",\"h\",\"i\",\"j\",\"k\",\"l\",\"m\",\"n\",\"o\",\"p\",\"q\",\"r\",\"s\",\"t\",\"u\",\"v\",\"x\",\"w\",\"y\",\"z\")\n",
        "tup=[i for i in range(1,len(alphabet)+1)]\n",
        "dicc=dict(list(zip(alphabet,tup)))\n",
        "sent=input(\"please enter your string\").lower().split(\" \")\n",
        "print(sent)\n",
        "numbers=[]\n",
        "toplam,sayac=0,0\n",
        "while sayac<len(sent):\n",
        "    for k in sent[sayac]:\n",
        "        toplam += dicc[k]\n",
        "    numbers.append(toplam)\n",
        "    sayac +=1\n",
        "    toplam=0\n",
        "print(numbers)\n",
        "print(sent[numbers.index(max(numbers))])"
      ],
      "execution_count": null,
      "outputs": []
    },
    {
      "cell_type": "code",
      "metadata": {
        "id": "wHW_c0fPzaon"
      },
      "source": [
        "sentence=list(input(\"enter a sentence, please = \").lower().split(\" \"))\n",
        "list_my=list(range(1,29))\n",
        "a=0\n",
        "b=0\n",
        "abc=dict()\n",
        "for i in range(ord('a'), ord('z')+1):\n",
        "  abc.update({chr(i):list_my[a]})\n",
        "  a+=1\n",
        "#print(abc)\n",
        "a=0\n",
        "c=\"\"\n",
        "for i in sentence:\n",
        "    for j in range(len(i)):\n",
        "        a=a+abc.get(list(i)[j])\n",
        "        #print(i +\" kelimenin puani \" + str(a))\n",
        "    if  a>b:\n",
        "        b=a\n",
        "        c=i\n",
        "        a=0 \n",
        "    else:\n",
        "        a=0\n",
        "print(\"en yuksek puan \" + c +\" puani= \"+ str(b))"
      ],
      "execution_count": null,
      "outputs": []
    },
    {
      "cell_type": "code",
      "metadata": {
        "id": "lXMD1nDqzdM1"
      },
      "source": [
        ""
      ],
      "execution_count": null,
      "outputs": []
    }
  ]
}