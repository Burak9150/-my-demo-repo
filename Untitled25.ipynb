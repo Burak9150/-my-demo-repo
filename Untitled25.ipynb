{
  "nbformat": 4,
  "nbformat_minor": 0,
  "metadata": {
    "colab": {
      "name": "Untitled25.ipynb",
      "provenance": [],
      "authorship_tag": "ABX9TyOlv6kYWcti/9XIhTUmLy10",
      "include_colab_link": true
    },
    "kernelspec": {
      "name": "python3",
      "display_name": "Python 3"
    },
    "language_info": {
      "name": "python"
    }
  },
  "cells": [
    {
      "cell_type": "markdown",
      "metadata": {
        "id": "view-in-github",
        "colab_type": "text"
      },
      "source": [
        "<a href=\"https://colab.research.google.com/github/Burak9150/Python-soru-kutuphanesi/blob/main/Untitled25.ipynb\" target=\"_parent\"><img src=\"https://colab.research.google.com/assets/colab-badge.svg\" alt=\"Open In Colab\"/></a>"
      ]
    },
    {
      "cell_type": "code",
      "metadata": {
        "id": "NxTR_Is9ae3n"
      },
      "source": [
        ""
      ],
      "execution_count": null,
      "outputs": []
    },
    {
      "cell_type": "markdown",
      "metadata": {
        "id": "6rrm8uEYahvB"
      },
      "source": [
        "\n",
        "Aşağıdaki listeyi .sort() liste yöntemini kullanmadan sıralamak için bir Python kodu yazın. liste öğeleri = [999, 333, 2, 8982, 12, 45, 77, 99, 11] Beklenen çıktı: [2, 11, 12, 45, 77, 99, 333, 999, 8982]"
      ]
    },
    {
      "cell_type": "code",
      "metadata": {
        "id": "_lTG7cmDbh2W"
      },
      "source": [
        "list = [999, 333, 2, 8982, 12, 45, 77, 99, 11]\n",
        "new_list = []\n",
        "i = 0\n",
        "len_list = len(list)\n",
        "while i< len_list:\n",
        "  k = min(list)\n",
        "  new_list.append(k)\n",
        "  list.remove(k)\n",
        "  i += 1\n",
        "print(new_list)"
      ],
      "execution_count": null,
      "outputs": []
    },
    {
      "cell_type": "code",
      "metadata": {
        "id": "LZ8mTVRZco34"
      },
      "source": [
        "list_ = [999, 333, 2, 8982, 12, 45, 77, 99, 11]\n",
        "new_list = []\n",
        "while list_:\n",
        "    min_element = list_[0]\n",
        "    for i in list_:\n",
        "        if i < min_element:\n",
        "            min_element = i\n",
        "    new_list.append(min_element)\n",
        "    list_.remove(min_element)\n",
        "print(new_list)"
      ],
      "execution_count": null,
      "outputs": []
    },
    {
      "cell_type": "code",
      "metadata": {
        "id": "mm2P94eoct1g"
      },
      "source": [
        "elements = [999, 333, 2, 8982, 12, 45, 77, 99, 11] \n",
        "sorted1 = []\n",
        "for i in range(1,len(elements)+1):\n",
        "    x in elements\n",
        "    x = min(elements)\n",
        "    sorted1.append(x)\n",
        "    elements.remove(x)\n",
        "print(sorted1)"
      ],
      "execution_count": null,
      "outputs": []
    },
    {
      "cell_type": "code",
      "metadata": {
        "id": "j2ThFDkQcyL_"
      },
      "source": [
        "liste = [999, 333, 2, 8982, 12, 45, 77, 99, 11]\n",
        "liste2 = []\n",
        "for i in range(len(liste)):\n",
        "    minimum = min(liste)\n",
        "    liste2.append(minimum)\n",
        "    liste.remove(minimum)\n",
        "print(liste2)"
      ],
      "execution_count": null,
      "outputs": []
    },
    {
      "cell_type": "code",
      "metadata": {
        "id": "amR-0cd0c08G"
      },
      "source": [
        "my_list = [999, 333, 2, 8982, 12, 45, 77, 99, 11]\n",
        "for i in range(0, len(my_list)):\n",
        "    for x in range(0, len(my_list)-1):\n",
        "        if my_list[x] > my_list[x+1]:\n",
        "            my_list[x], my_list[x+1] = my_list[x+1],  my_list[x]\n",
        "        else:\n",
        "            continue\n",
        "print(my_list)"
      ],
      "execution_count": null,
      "outputs": []
    },
    {
      "cell_type": "code",
      "metadata": {
        "id": "NhXV5sJUc4vZ"
      },
      "source": [
        "my_list = [999, 333, 2, 8982, 12, 45, 77, 99, 11]\n",
        "for i in range(len(my_list)):\n",
        "    for j in range(i+1, len(my_list)):\n",
        "        if my_list[i] > my_list[j]:\n",
        "            my_list[i], my_list[j] = my_list[j],  my_list[i]\n",
        "print(my_list)"
      ],
      "execution_count": null,
      "outputs": []
    },
    {
      "cell_type": "code",
      "metadata": {
        "id": "AOyd8Rh3c_S4"
      },
      "source": [
        "elements_list = [999, 333, 2, 8982, 12, 45, 77, 99, 11]\n",
        "new_list = []\n",
        "i = 1\n",
        "loop = len(elements_list)\n",
        "while i <= loop:\n",
        "    min1 = min(elements_list)\n",
        "    new_list.append(min1)\n",
        "    elements_list.remove(min1)\n",
        "    i += 1\n",
        "print(new_list)"
      ],
      "execution_count": null,
      "outputs": []
    }
  ]
}