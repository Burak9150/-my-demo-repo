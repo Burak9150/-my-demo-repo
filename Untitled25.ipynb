{
  "nbformat": 4,
  "nbformat_minor": 0,
  "metadata": {
    "colab": {
      "name": "Untitled25.ipynb",
      "provenance": [],
      "authorship_tag": "ABX9TyM08XwoSusERB0p7Tz4rWPZ",
      "include_colab_link": true
    },
    "kernelspec": {
      "name": "python3",
      "display_name": "Python 3"
    },
    "language_info": {
      "name": "python"
    }
  },
  "cells": [
    {
      "cell_type": "markdown",
      "metadata": {
        "id": "view-in-github",
        "colab_type": "text"
      },
      "source": [
        "<a href=\"https://colab.research.google.com/github/Burak9150/Python-soru-kutuphanesi/blob/main/Untitled25.ipynb\" target=\"_parent\"><img src=\"https://colab.research.google.com/assets/colab-badge.svg\" alt=\"Open In Colab\"/></a>"
      ]
    },
    {
      "cell_type": "code",
      "metadata": {
        "id": "NxTR_Is9ae3n"
      },
      "source": [
        ""
      ],
      "execution_count": null,
      "outputs": []
    },
    {
      "cell_type": "markdown",
      "metadata": {
        "id": "6rrm8uEYahvB"
      },
      "source": [
        "Kullanıcı ile “inekler ve boğalar” oyununu oynayacak bir program oluşturun. Oyun şu şekilde çalışır:\n",
        "Rastgele 4 basamaklı bir sayı oluşturun. Kullanıcıdan 4 basamaklı bir sayı tahmin etmesini isteyin. Kullanıcının doğru yerde doğru tahmin ettiği her rakam için bir “inek” vardır. Kullanıcının yanlış yerde doğru tahmin ettiği her rakam için bir “boğa” dır. Kullanıcı her tahminde bulunduğunda, onlara kaç tane \"inek\" ve \"boğa\" olduğunu söyleyin. Kullanıcı doğru sayıyı tahmin ettiğinde oyun biter. Kullanıcının oyun boyunca yaptığı tahmin sayısını takip edin ve sonunda kullanıcıya söyleyin.\n",
        "Bilgisayar tarafından üretilen sayının 1038 olduğunu söyleyin. Örnek bir etkileşim şöyle görünebilir:\n",
        "  İnekler ve Boğalar Oyununa Hoş Geldiniz!\n",
        "  Bir sayı girin:\n",
        "  >>> 1234\n",
        "  2 inek, 0 boğa\n",
        "  >>> 1256\n",
        "  1 inek, 1 boğa\n"
      ]
    },
    {
      "cell_type": "code",
      "metadata": {
        "id": "lXMD1nDqzdM1"
      },
      "source": [
        "import random\n",
        "print(\"  Welcome to the Cows and Bulls Game! \")\n",
        "random_num = str(random.randrange(1000,10000))\n",
        "user_num = input(\"Enter a 4 digit number: \")\n",
        "cows = 0\n",
        "bulls = 0\n",
        "r = 0\n",
        "u = 0\n",
        "while r < 4 and u <4:\n",
        "  if random_num[r] == user_num[u] :\n",
        "    cows +=1\n",
        "  elif random_num[r] in list(user_num) and random_num[r] != user_num[u]:\n",
        "    bulls += 1\n",
        "  r += 1\n",
        "  u += 1\n",
        "print(f\"{cows} cow and {bulls} bull\")\n",
        "print(\"###########################\")\n",
        "print(\" You can check by comparing the values below:  \")\n",
        "print(\"Random numbers: \", random_num)\n",
        "print(\"User numbers: \", user_num)\n",
        "print(\"###########################\")"
      ],
      "execution_count": null,
      "outputs": []
    },
    {
      "cell_type": "code",
      "metadata": {
        "id": "SOxIXmdGz-8J"
      },
      "source": [
        "import random\n",
        "print(\"Welcome to the Cows and Bulls Game!\")\n",
        "random_number = str(random.randrange(1000,10000))  # 10000 de dahil edilmis olur bu sekilde. 9999 olarak duzeltebilirsiniz.\n",
        "print(random_number)  # Bunu yazdirmakta fayda var, cunku dogru tahmin edene kadar donguden cikamazsiniz.\n",
        "random_number_list = list(str(random_number))\n",
        "while True:\n",
        "    entering_number = input(\"Enter a number:\")\n",
        "    entering_number_list = list(entering_number)\n",
        "    if int(random_number) == int(entering_number):  # Burada random number string, entering number int'e donusturuluyor. Hicbir zaman esit olmazlar. Onun icin random number'i int'e donusturdum.\n",
        "        print(f\"Congratulations, you got the number. The number is {random_number}\")\n",
        "        break  # \n",
        "    cows = 0\n",
        "    bulls = 0\n",
        "    for a in range(len(entering_number_list)):\n",
        "        if entering_number_list[a] == random_number_list[a]:\n",
        "            cows += 1\n",
        "        elif entering_number_list[a] in random_number_list:\n",
        "            bulls += 1\n",
        "    print(f\"{cows} cows, {bulls} bulls.\")"
      ],
      "execution_count": null,
      "outputs": []
    },
    {
      "cell_type": "code",
      "metadata": {
        "id": "BhXHzibyz-vp"
      },
      "source": [
        "import random\n",
        "print(\"Welcome to the Cows and Bulls Game!\")\n",
        "random_sayi = str(random.randint(1000, 9999))\n",
        "oyun = \"Oyuna devam!\"\n",
        "while oyun == \"Oyuna devam!\":\n",
        "    user_sayi = input(\"What is your guess? : \")\n",
        "    cows = 0\n",
        "    bulls = 0\n",
        "    for i in range(len(user_sayi)):\n",
        "        for j in range(len(user_sayi)):\n",
        "            if (user_sayi[i] == random_sayi[j]):\n",
        "                if(i == j):\n",
        "                    cows +=1\n",
        "                else:\n",
        "                    bulls +=1\n",
        "            else:\n",
        "                None\n",
        "    if (cows == 4):\n",
        "        oyun = \"Oyun bitti..\"\n",
        "        print(\"Well Done!\")\n",
        "    else:\n",
        "        if (cows <= 1 & bulls <= 1):\n",
        "            print(\"{} cow, {} bull\".format(cows, bulls))\n",
        "        elif (cows <= 1 & bulls > 1):\n",
        "            print(\"{} cow, {} bulls\".format(cows, bulls))\n",
        "        elif (cows > 1 & bulls <= 1):\n",
        "            print(\"{} cows, {} bull\".format(cows, bulls))\n",
        "        else:\n",
        "            print(\"{} cows, {} bulls\".format(cows, bulls))"
      ],
      "execution_count": null,
      "outputs": []
    },
    {
      "cell_type": "code",
      "metadata": {
        "id": "Z-lSpwMxz-lB"
      },
      "source": [
        "import random\n",
        "cow1 = cow2 = bull1 = bull2 = 0\n",
        "while True:\n",
        "    num = list(str(random.randint(1000,9999)))\n",
        "    guess1 = list(str(input(\"guess a 4-digit number(Player1): \")))\n",
        "    guess2 = list(str(input(\"guess a 4-digit number(Player2): \")))\n",
        "    if num != guess1 or guess2:\n",
        "        for i in guess1:\n",
        "            if guess1[guess1.index(i)] == num[guess1.index(i)]:\n",
        "                cow1 += 1  \n",
        "            elif i in num:\n",
        "                bull1 += 1                  \n",
        "        for i in guess2:\n",
        "            if guess2[guess2.index(i)] == num[guess2.index(i)]:\n",
        "                cow2 += 1  \n",
        "            elif i in num:\n",
        "                bull2 += 1\n",
        "        print(\"Random number:\",num,\"\\nAnswer of Player 1:\",guess1,\"cow:\",cow1,\"bull:\",bull1,\\\n",
        "            \"\\nAnswer of Player 2:\",guess2,\"cow:\",cow2,\"bull:\",bull2)\n",
        "    else:\n",
        "        print(\"Congratulations, you guessed correctly\\n\")\n",
        "        print(\"Random number:\",num,\"\\nAnswer of Player 1:\",guess1,\"cow:\",cow1,\"bull:\",bull1,\\\n",
        "            \"\\nAnswer of Player 2:\",guess2,\"cow:\",cow2,\"bull:\",bull2)\n",
        "        break"
      ],
      "execution_count": null,
      "outputs": []
    }
  ]
}