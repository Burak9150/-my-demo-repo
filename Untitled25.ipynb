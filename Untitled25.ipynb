{
  "nbformat": 4,
  "nbformat_minor": 0,
  "metadata": {
    "colab": {
      "name": "Untitled25.ipynb",
      "provenance": [],
      "authorship_tag": "ABX9TyOpExFk6UArm43UYvnegVzm",
      "include_colab_link": true
    },
    "kernelspec": {
      "name": "python3",
      "display_name": "Python 3"
    },
    "language_info": {
      "name": "python"
    }
  },
  "cells": [
    {
      "cell_type": "markdown",
      "metadata": {
        "id": "view-in-github",
        "colab_type": "text"
      },
      "source": [
        "<a href=\"https://colab.research.google.com/github/Burak9150/Python-soru-kutuphanesi/blob/main/Untitled25.ipynb\" target=\"_parent\"><img src=\"https://colab.research.google.com/assets/colab-badge.svg\" alt=\"Open In Colab\"/></a>"
      ]
    },
    {
      "cell_type": "code",
      "metadata": {
        "id": "NxTR_Is9ae3n"
      },
      "source": [
        ""
      ],
      "execution_count": null,
      "outputs": []
    },
    {
      "cell_type": "markdown",
      "metadata": {
        "id": "6rrm8uEYahvB"
      },
      "source": [
        "\n",
        "Kullanıcıdan bir cümle alan ve cümle içerisinde geçen sesli harflerin her birinden kaçar tane olduğunu çıktı veren bir program yazınız.\n",
        "Girilen harflerin küçük/büyük olabileceği ihtimalini göz önünde bulundurunuz.\n",
        "Kolay Gelsin...\n",
        "Beklenen Çıktı:\n",
        "cümle: Sakla samanı gelir zamanı.\n",
        "a: 6\n",
        "ı: 2\n",
        "e: 1\n",
        "i: 1 (edited) "
      ]
    },
    {
      "cell_type": "code",
      "metadata": {
        "id": "gxQJiEYCdfnC"
      },
      "source": [
        "kelime=str(input(\"kelime giriniz : \")).lower()\n",
        "kelime=list(kelime)\n",
        "liste1=[]\n",
        "liste2={}\n",
        "liste=(\"a\",\"e\",\"ı\",\"i\",\"o\",\"ö\",\"u\",\"ü\")\n",
        "for i in kelime:\n",
        " if i in liste:\n",
        "   liste1.append(i)\n",
        "for i in liste1:\n",
        "        if i in liste2:\n",
        "            liste2[i] += 1\n",
        "        else:\n",
        "            liste2[i] = 1\n",
        "print(liste2)"
      ],
      "execution_count": null,
      "outputs": []
    },
    {
      "cell_type": "code",
      "metadata": {
        "id": "EdQbt2HOdyFV"
      },
      "source": [
        "cumle = \"Sakla samani gelir zamani\"\n",
        "vowels = \"aeiouAEIOU\"\n",
        "a={}\n",
        "for i in cumle:\n",
        "    if i in vowels:\n",
        "        if i not in a:\n",
        "            a[i] = 1\n",
        "        else:\n",
        "            a[i] = cumle.count(i)  \n",
        "print(a)"
      ],
      "execution_count": null,
      "outputs": []
    },
    {
      "cell_type": "code",
      "metadata": {
        "id": "XJdm0hMbd1K0"
      },
      "source": [
        "text = input('Enter your text here > ')\n",
        "vowels = ['a', 'e', 'u', 'i', 'o']  # for only English characters\n",
        "dictt = {}\n",
        "for i in text:\n",
        "    if i in vowels:\n",
        "        if i not in dictt:\n",
        "            dictt[i] = 1\n",
        "        else:\n",
        "            dictt[i] += 1\n",
        "print('\\n'.join(\"{}: {}\".format(k, v) for k, v in dictt.items()))"
      ],
      "execution_count": null,
      "outputs": []
    },
    {
      "cell_type": "code",
      "metadata": {
        "id": "rKiDzCK4d3n2"
      },
      "source": [
        "# A different solution\n",
        "text = input('Enter your text here > ')\n",
        "vowels = ['a', 'e', 'u', 'i', 'o']  # for only English characters\n",
        "dictt = {}\n",
        "for i in text:\n",
        "    if i in vowels:\n",
        "        dictt[i] = dictt.get(i, 0) + 1\n",
        "print('\\n'.join(\"{}: {}\".format(k, v) for k, v in dictt.items()))"
      ],
      "execution_count": null,
      "outputs": []
    },
    {
      "cell_type": "code",
      "metadata": {
        "id": "N-8d4z1ld6i3"
      },
      "source": [
        "wovels = \"a\", \"e\", \"i\", \"o\", \"u\", \"ü\", \"ö\", \"ı\"\n",
        "sentence = input(\"enter a sentence: \").strip()\n",
        "sentence_format = list(sentence.replace(\" \",\"\").lower())\n",
        "wovels_check = []\n",
        "number = {}\n",
        "for i in range(len(sentence_format)):\n",
        "    if sentence_format[i] in wovels:\n",
        "        wovels_check.append(sentence_format[i])\n",
        "for x in wovels_check:\n",
        "    number.update({x:wovels_check.count(x)})\n",
        "print(sentence, \"\\nThe wovels in this sentence are \",set(wovels_check),\"\\n\",number)"
      ],
      "execution_count": null,
      "outputs": []
    },
    {
      "cell_type": "code",
      "metadata": {
        "id": "M_1yQeIfd-th"
      },
      "source": [
        "sentence = list((input('Enter a sentence, please :').lower()))\n",
        "vowels = ['a', 'e', 'i', 'o', 'u', 'ı', 'ü','ö']\n",
        "for i in vowels :\n",
        "    if i in sentence :\n",
        "        print( i+':', sentence.count(i))"
      ],
      "execution_count": null,
      "outputs": []
    },
    {
      "cell_type": "code",
      "metadata": {
        "id": "QNja8y1deEVb"
      },
      "source": [
        "cumle = list((input('Enter a sentence, please :').lower()))\n",
        "famous = ['a', 'ı', 'e', 'i', 'o', 'u', 'ö', 'ü']\n",
        "for i in famous :\n",
        "    if i in cumle :\n",
        "        print( i+':', cumle.count(i))"
      ],
      "execution_count": null,
      "outputs": []
    },
    {
      "cell_type": "code",
      "metadata": {
        "id": "fy-UVBDaeHBX"
      },
      "source": [
        "sentence=input('Write a sentence to count the vowel letters in it: ')\n",
        "sentence=list(sentence.lower())\n",
        "vowel=set('aeuıoüiö')\n",
        "for i in vowel:\n",
        "  print(f\"The letter '{i}' is repeated {sentence.count(i)} times in the sentence.\")"
      ],
      "execution_count": null,
      "outputs": []
    }
  ]
}