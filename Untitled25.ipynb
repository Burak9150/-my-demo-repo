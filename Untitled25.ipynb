{
  "nbformat": 4,
  "nbformat_minor": 0,
  "metadata": {
    "colab": {
      "name": "Untitled25.ipynb",
      "provenance": [],
      "authorship_tag": "ABX9TyO6WpBVj7ZTyCX7EEKLWLzl",
      "include_colab_link": true
    },
    "kernelspec": {
      "name": "python3",
      "display_name": "Python 3"
    },
    "language_info": {
      "name": "python"
    }
  },
  "cells": [
    {
      "cell_type": "markdown",
      "metadata": {
        "id": "view-in-github",
        "colab_type": "text"
      },
      "source": [
        "<a href=\"https://colab.research.google.com/github/Burak9150/Python-soru-kutuphanesi/blob/main/Untitled25.ipynb\" target=\"_parent\"><img src=\"https://colab.research.google.com/assets/colab-badge.svg\" alt=\"Open In Colab\"/></a>"
      ]
    },
    {
      "cell_type": "code",
      "metadata": {
        "id": "NxTR_Is9ae3n"
      },
      "source": [
        ""
      ],
      "execution_count": null,
      "outputs": []
    },
    {
      "cell_type": "markdown",
      "metadata": {
        "id": "6rrm8uEYahvB"
      },
      "source": [
        "\n",
        "Bir dize kabul eden ve büyük harf ve küçük harf sayısını hesaplayan bir Python işlevi yazın. \n",
        "Örnek Dizge : 'The quick Brow Fox'\n",
        "Beklenen Çıktı :\n",
        "Büyük harf karakter sayısı : 3\n",
        "Küçük harf karakter sayısı : 12"
      ]
    },
    {
      "cell_type": "code",
      "metadata": {
        "id": "RZbLuetasE4m"
      },
      "source": [
        "text = input('Enter your text here > ')\n",
        "capital = 0\n",
        "lower = 0\n",
        "a = [chr(i) for i in range(65, 90)]\n",
        "b = [chr(i) for i in range(97, 122)]\n",
        "c = a + b\n",
        "for i in text:\n",
        "    if i in c:\n",
        "        if i.upper() == i:\n",
        "            capital += 1\n",
        "        else:\n",
        "            lower += 1\n",
        "print(f'Buyuk harf karakter sayisi : {capital}')\n",
        "print(f'Kucuk harf karakter sayisi : {lower}')"
      ],
      "execution_count": null,
      "outputs": []
    },
    {
      "cell_type": "code",
      "metadata": {
        "id": "XQwt-vu6sEn2"
      },
      "source": [
        "kelime = input(\"bir kelime giriniz\")\n",
        "küçük = 0\n",
        "büyük = 0\n",
        "for i in kelime:\n",
        "    if i.upper() == i :\n",
        "        büyük += 1\n",
        "    else :\n",
        "        küçük += 1\n",
        "print(\"Büyük harf sayısı {}\".format(büyük))\n",
        "print(\"Küçük harf sayısı {}\".format(küçük))"
      ],
      "execution_count": null,
      "outputs": []
    },
    {
      "cell_type": "code",
      "metadata": {
        "id": "R_br5VZGsEk5"
      },
      "source": [
        "string_ = \"The quick Brow Fox\"\n",
        "new_string_ = \"\".join(string_.split(\" \"))\n",
        "up , low = 0,0\n",
        "for i in new_string_:\n",
        "    if i.isupper():\n",
        "        up += 1\n",
        "    else:\n",
        "        low += 1\n",
        "print(\"Büyük harf karakter sayısı : {}\\nKüçük harf karakter sayısı : {}\".format(up,low))"
      ],
      "execution_count": null,
      "outputs": []
    },
    {
      "cell_type": "code",
      "metadata": {
        "id": "bFJvQrRPsX-q"
      },
      "source": [
        "text ='The quick Brow Fox'\n",
        "liste={\"lower\":0,\"upper\":0}\n",
        "for i in text:\n",
        "  if i.islower():\n",
        "    liste[\"lower\"]+=1\n",
        "  elif i.isupper():\n",
        "    liste[\"upper\"]+=1\n",
        "  else:\n",
        "      pass\n",
        "print(\"Büyük harf sayısı : \",liste[\"upper\"])\n",
        "print(\"Küçük harf sayısı : \",liste[\"lower\"])"
      ],
      "execution_count": null,
      "outputs": []
    },
    {
      "cell_type": "code",
      "metadata": {
        "id": "EAZnQxz0sXC-"
      },
      "source": [
        "sentence=\"The quick Brow Fox\"\n",
        "sentence=sentence.replace(\" \",\"\")\n",
        "lisbig=[]\n",
        "[lisbig.append(g) for g in sentence if g.count(g.upper())]\n",
        "kucuk,buyuk=len(sentence)-len(lisbig),len(lisbig)\n",
        "print(\"Buyuk harf karakter sayisi:{}\".format(buyuk))\n",
        "print(\"Kucuk harf karakter sayisi:{}\".format(kucuk))"
      ],
      "execution_count": null,
      "outputs": []
    },
    {
      "cell_type": "code",
      "metadata": {
        "id": "07oKwUpRshIy"
      },
      "source": [
        "sentence = input('Enter a sentence :')\n",
        "upper_in_sen = []\n",
        "lower_in_sen = []\n",
        "for i in sentence:\n",
        "    if i.isupper() :\n",
        "        upper_in_sen.append(i)\n",
        "    elif i.islower() :\n",
        "        lower_in_sen.append(i)\n",
        "print(f\"Number of uppercase characters: {len(upper_in_sen)}\")\n",
        "print(f\"Number of lowercase characters: {len(lower_in_sen)}\")"
      ],
      "execution_count": null,
      "outputs": []
    }
  ]
}