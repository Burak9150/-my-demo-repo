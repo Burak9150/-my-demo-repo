{
  "nbformat": 4,
  "nbformat_minor": 0,
  "metadata": {
    "colab": {
      "name": "Untitled25.ipynb",
      "provenance": [],
      "authorship_tag": "ABX9TyMF27v2RGF9qGTb+YxD9o96",
      "include_colab_link": true
    },
    "kernelspec": {
      "name": "python3",
      "display_name": "Python 3"
    },
    "language_info": {
      "name": "python"
    }
  },
  "cells": [
    {
      "cell_type": "markdown",
      "metadata": {
        "id": "view-in-github",
        "colab_type": "text"
      },
      "source": [
        "<a href=\"https://colab.research.google.com/github/Burak9150/Python-soru-kutuphanesi/blob/main/Untitled25.ipynb\" target=\"_parent\"><img src=\"https://colab.research.google.com/assets/colab-badge.svg\" alt=\"Open In Colab\"/></a>"
      ]
    },
    {
      "cell_type": "code",
      "metadata": {
        "id": "NxTR_Is9ae3n"
      },
      "source": [
        ""
      ],
      "execution_count": null,
      "outputs": []
    },
    {
      "cell_type": "markdown",
      "metadata": {
        "id": "6rrm8uEYahvB"
      },
      "source": [
        "\n",
        "Kullanıcıdan toplam saniye sayısını alın.\n",
        "Toplam saniyeyi saat, dakika ve saniye cinsinden döndüren bir program yazın.\n",
        "Örneğin: 4565436 saniye, 1268 saat, 10 dakika ve 36 saniyedir.\n",
        "Merhaba arkadaşlar;\n",
        "Kullanıcıdan toplam saniye olarak bir sayı alın.\n",
        "Toplamyi saat, dakika ve saniye olarak veren bir program yazın.\n",
        "Örneğin: 4565436 Saniye, 1268 saat, 10 dakika ve 36 saniyedir. "
      ]
    },
    {
      "cell_type": "code",
      "metadata": {
        "id": "c_SAkMBhhnqk"
      },
      "source": [
        "total_seconds = int(input(\"How many seconds will you write to convert to hour/minute/seconds? : \"))\n",
        "hour = total_seconds // (60*60)\n",
        "minute = (total_seconds % (60*60)) // 60\n",
        "second = (total_seconds % (60*60)) % 60\n",
        "print(f\"{total_seconds} is equal to {hour} hours {minute} minutes {second} seconds\")"
      ],
      "execution_count": null,
      "outputs": []
    },
    {
      "cell_type": "code",
      "metadata": {
        "id": "uxGwr0cZhzVQ"
      },
      "source": [
        "sec=int(input('Enter the total seconds:  '))\n",
        "minute=sec//60\n",
        "second=sec%60\n",
        "hour=minute//60\n",
        "minute=minute%60\n",
        "print(f'{sec} seconds is {hour} hours, {minute} minutes and {second} seconds.')"
      ],
      "execution_count": null,
      "outputs": []
    },
    {
      "cell_type": "code",
      "metadata": {
        "id": "NwuS0Zv_h2M-"
      },
      "source": [
        "def check_is_digit(input_str):\n",
        "    if input_str.strip().isdigit():\n",
        "        number = int(input_str)\n",
        "        hour = number // 3600\n",
        "        minute_number = (number % 3600) // 60\n",
        "        second = (number % 3600) % 60\n",
        "        print(f\"{number} seconds are equal to {hour} hours {minute_number} minutes and {second} seconds.\")\n",
        "    else:\n",
        "        print(\" It is an invalid entry. Don't use non-numeric, float, or negative values!\")\n",
        "sec = input(\"enter the total number of seconds: \")\n",
        "check_is_digit(sec)"
      ],
      "execution_count": null,
      "outputs": []
    },
    {
      "cell_type": "code",
      "metadata": {
        "id": "FE3Q4v72h5iG"
      },
      "source": [
        "x = int(input(\"enter total second:\"))\n",
        "hr = x // 3600\n",
        "y = x % 3600\n",
        "min_ = y // 60\n",
        "sec = y % 60\n",
        "print(\"Total second equal is {} hour {} minute and {} second\".format(hr,min_,sec))"
      ],
      "execution_count": null,
      "outputs": []
    },
    {
      "cell_type": "code",
      "metadata": {
        "id": "Wy2P_9zQh8YQ"
      },
      "source": [
        "num = int(input('Enter total numbervof seconds: '))\n",
        "print(f\"{num} seconds is {num//3600} hours, {(num%3600)//60} minutes and {num%60} seconds\")"
      ],
      "execution_count": null,
      "outputs": []
    },
    {
      "cell_type": "code",
      "metadata": {
        "id": "tMjl1LoniCfF"
      },
      "source": [
        "x = int (input(\"please enter a number for translate:\")) \n",
        "hour = x // 3600 \n",
        "minute = (x -(hour * 3600)) // 60\n",
        "second= x - (hour * 3600 + minute * 60)\n",
        "print ('it is {} hours, {} minutes, {} seconds'.format(hour, minute, second))"
      ],
      "execution_count": null,
      "outputs": []
    },
    {
      "cell_type": "code",
      "metadata": {
        "id": "4xLqwJEAiGeM"
      },
      "source": [
        ""
      ],
      "execution_count": null,
      "outputs": []
    }
  ]
}