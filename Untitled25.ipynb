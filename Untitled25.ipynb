{
  "nbformat": 4,
  "nbformat_minor": 0,
  "metadata": {
    "colab": {
      "name": "Untitled25.ipynb",
      "provenance": [],
      "authorship_tag": "ABX9TyN+GXIvOS0thzvqtBXGolZR",
      "include_colab_link": true
    },
    "kernelspec": {
      "name": "python3",
      "display_name": "Python 3"
    },
    "language_info": {
      "name": "python"
    }
  },
  "cells": [
    {
      "cell_type": "markdown",
      "metadata": {
        "id": "view-in-github",
        "colab_type": "text"
      },
      "source": [
        "<a href=\"https://colab.research.google.com/github/Burak9150/Python-soru-kutuphanesi/blob/main/Untitled25.ipynb\" target=\"_parent\"><img src=\"https://colab.research.google.com/assets/colab-badge.svg\" alt=\"Open In Colab\"/></a>"
      ]
    },
    {
      "cell_type": "code",
      "metadata": {
        "id": "NxTR_Is9ae3n"
      },
      "source": [
        ""
      ],
      "execution_count": null,
      "outputs": []
    },
    {
      "cell_type": "markdown",
      "metadata": {
        "id": "6rrm8uEYahvB"
      },
      "source": [
        "\n",
        "Fibonacci dizisini 0 ile 50 arasında almak için bir Python programı yazın .\n",
        "Not: Fibonacci Dizisi,\n",
        "0, 1, 1, 2, 3, 5, 8, 13, 21, sayıları dizisidir .\n",
        "Her sonraki sayı, kendisinden önceki iki sayı toplanarak bulunur.\n",
        "Beklenen Çıktı : 1 1 2 3 5 8 13 21 34"
      ]
    },
    {
      "cell_type": "code",
      "metadata": {
        "id": "cfwVSeDJrlg4"
      },
      "source": [
        "x,y=0,1\n",
        "fibonacci=[]\n",
        "while x+y<50:\n",
        "    x,y = y,x+y\n",
        "    fibonacci.append(y)\n",
        "print(\"fibonacci sayıları:\", fibonacci)"
      ],
      "execution_count": null,
      "outputs": []
    },
    {
      "cell_type": "code",
      "metadata": {
        "id": "gMHveG33rrAT"
      },
      "source": [
        "liste = [0 ,1]\n",
        "total = 0\n",
        "while True:\n",
        "    total = liste[-2] + total\n",
        "    liste.append(total)\n",
        "    if total + liste[-2] > 50:\n",
        "        break\n",
        "print(' '.join('{}'.format(i) for i in liste))"
      ],
      "execution_count": null,
      "outputs": []
    },
    {
      "cell_type": "code",
      "metadata": {
        "id": "_ueF_eF2rvtw"
      },
      "source": [
        "liste = [0,1]\n",
        "a,b=0,1\n",
        "while a<48:\n",
        "    toplam=liste[a] + liste[b]\n",
        "    liste.insert(b+1,toplam)\n",
        "    a += 1\n",
        "    b += 1\n",
        "print(liste)\n",
        "print(len(liste))"
      ],
      "execution_count": null,
      "outputs": []
    },
    {
      "cell_type": "code",
      "metadata": {
        "id": "SQa9WhxgryIQ"
      },
      "source": [
        "x, y, z = 0, 1, 2\n",
        "iboilenaci=[]\n",
        "while z < 50:\n",
        "    z = x + y\n",
        "    x = y\n",
        "    y = z\n",
        "    iboilenaci.append(x)\n",
        "print(\"fibonacci sayıları:\", iboilenaci)"
      ],
      "execution_count": null,
      "outputs": []
    },
    {
      "cell_type": "code",
      "metadata": {
        "id": "F7oF8xw6ryB7"
      },
      "source": [
        "n = int(input(\"Please enter a number : \"))\n",
        "fib_list = [0, 1]\n",
        "i = 2\n",
        "while len(fib_list)<=n:\n",
        "    fib_list.append(fib_list[i-1]+fib_list[i-2])\n",
        "    i+=1\n",
        "del (fib_list[0],fib_list[-1])\n",
        "print(fib_list)\n",
        "white_check_mark\n",
        "eyes\n",
        "raised_hands\n",
        "\n",
        "\n",
        "\n"
      ],
      "execution_count": null,
      "outputs": []
    }
  ]
}