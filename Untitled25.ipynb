{
  "nbformat": 4,
  "nbformat_minor": 0,
  "metadata": {
    "colab": {
      "name": "Untitled25.ipynb",
      "provenance": [],
      "authorship_tag": "ABX9TyPPWVsZNNHkc2MwS1YdfTzZ",
      "include_colab_link": true
    },
    "kernelspec": {
      "name": "python3",
      "display_name": "Python 3"
    },
    "language_info": {
      "name": "python"
    }
  },
  "cells": [
    {
      "cell_type": "markdown",
      "metadata": {
        "id": "view-in-github",
        "colab_type": "text"
      },
      "source": [
        "<a href=\"https://colab.research.google.com/github/Burak9150/Python-soru-kutuphanesi/blob/main/Untitled25.ipynb\" target=\"_parent\"><img src=\"https://colab.research.google.com/assets/colab-badge.svg\" alt=\"Open In Colab\"/></a>"
      ]
    },
    {
      "cell_type": "code",
      "metadata": {
        "id": "NxTR_Is9ae3n"
      },
      "source": [
        ""
      ],
      "execution_count": null,
      "outputs": []
    },
    {
      "cell_type": "markdown",
      "metadata": {
        "id": "6rrm8uEYahvB"
      },
      "source": [
        "Aşağıda maksimum ve minimum ortalamaya sahip öğrencileri bulan bir Python kodu yazın.\n",
        "notlar={'Öğrenci-1': {'Ders-1': 57, 'Ders-2': 46, 'Ders-3': 58, 'Ders-4': 81, 'Ders-5': 85} , 'Öğrenci-2': {'Ders-1': 85, 'Ders-2': 56, 'Ders-3': 51, 'Ders-4': 69, 'Ders-5': 67}, ' Öğrenci-3': {'Ders-1': 68, 'Ders-2': 76, 'Ders-3': 87, 'Ders-4': 57, 'Ders-5': 56}, 'Öğrenci- 4': {'Ders-1': 78, 'Ders-2': 93, 'Ders-3': 88, 'Ders-4': 38, 'Ders-5': 54}, 'Öğrenci-5' : {'Ders-1': 50, 'Ders-2': 46, 'Ders-3': 78, 'Ders-4': 81, 'Ders-5': 75}}"
      ]
    },
    {
      "cell_type": "code",
      "metadata": {
        "id": "jB5Vq5m-uUYH"
      },
      "source": [
        "grades={\n",
        "    'Student-1': {'Lesson-1': 57, 'Lesson-2': 46, 'Lesson-3': 58, 'Lesson-4': 81, 'Lesson-5': 85}, \n",
        "    'Student-2': {'Lesson-1': 85, 'Lesson-2': 56, 'Lesson-3': 51, 'Lesson-4': 69, 'Lesson-5': 67}, \n",
        "    'Student-3': {'Lesson-1': 68, 'Lesson-2': 76, 'Lesson-3': 87, 'Lesson-4': 57, 'Lesson-5': 56}, \n",
        "    'Student-4': {'Lesson-1': 78, 'Lesson-2': 93, 'Lesson-3': 88, 'Lesson-4': 38, 'Lesson-5': 54}, \n",
        "    'Student-5': {'Lesson-1': 50, 'Lesson-2': 46, 'Lesson-3': 78, 'Lesson-4': 81, 'Lesson-5': 75}}\n",
        "student_dict = {}\n",
        "student_list = []\n",
        "students = list(grades.keys())\n",
        "for i in grades.values():\n",
        "    total = 0\n",
        "    for x, y in i.items():\n",
        "        total += y\n",
        "        if x == list(grades['Student-1'].keys())[-1]:\n",
        "            total = total / len(grades)\n",
        "            student_list.append(total)\n",
        "            continue\n",
        "for i in range(len(grades)):\n",
        "    student_dict[student_list[i]] = students[i]\n",
        "maximum = max(list(student_dict.keys()))\n",
        "minimum = min(list(student_dict.keys()))\n",
        "print(f'The student who has the maximum average is {student_dict[maximum]} and his/her score is {maximum}.')\n",
        "print(f'The student who has the minimum average is {student_dict[minimum]} and his/her score is {minimum}.')"
      ],
      "execution_count": null,
      "outputs": []
    },
    {
      "cell_type": "code",
      "metadata": {
        "id": "VkngPczHuUOZ"
      },
      "source": [
        "class Student_info:\n",
        "    def __init__(grade, Lesson_1, Lesson_2, Lesson_3, Lesson_4, Lesson_5):\n",
        "        grade.Lesson_1 = Lesson_1\n",
        "        grade.Lesson_2 = Lesson_2\n",
        "        grade.Lesson_3 = Lesson_3\n",
        "        grade.Lesson_4 = Lesson_4\n",
        "        grade.Lesson_5 = Lesson_5\n",
        "    def myfunc(self):\n",
        "        average = (self.Lesson_1 + self.Lesson_2 + self.Lesson_3 + self.Lesson_4 + self.Lesson_5)/5\n",
        "        return average\n",
        "Student_1 = Student_info(57,46,58,81,85)\n",
        "Student_2 = Student_info(85,56,51,69,67)\n",
        "Student_3 = Student_info(68,76,87,57,56)\n",
        "Student_4 = Student_info(78,93,88,38,54)\n",
        "Student_5 = Student_info(50,46,78,81,75)\n",
        "all_grades = [\n",
        "    Student_1.myfunc(),\n",
        "    Student_2.myfunc(),\n",
        "    Student_3.myfunc(),\n",
        "    Student_4.myfunc(),\n",
        "    Student_5.myfunc() ]\n",
        "grades_with_names = {}\n",
        "for i in range(5):\n",
        "    grades_with_names.update({all_grades[i]:\"Student\"+f\"{i+1}\"})\n",
        "print(grades_with_names,\"\\nmax\",max(grades_with_names.items()),\"\\nmin\",min(grades_with_names.items()))"
      ],
      "execution_count": null,
      "outputs": []
    },
    {
      "cell_type": "code",
      "metadata": {
        "id": "SceP8nYnuUFn"
      },
      "source": [
        "dicc={}\n",
        "number=1\n",
        "for students in grades.values():\n",
        "    dicc[sum(students.values())]=\"{}.Student point\".format(number)\n",
        "    number +=1\n",
        "enbuyuk,enkucuk=max(dicc),min(dicc)\n",
        "print(dicc[enbuyuk],dicc[enkucuk])"
      ],
      "execution_count": null,
      "outputs": []
    },
    {
      "cell_type": "code",
      "metadata": {
        "id": "kgc3SJ0JuhP4"
      },
      "source": [
        "aver_dict = {}\n",
        "for i in grades :\n",
        "    x = grades[i].values()\n",
        "    aver = (sum(x)//len(x))\n",
        "    aver_dict[i] = [aver]\n",
        "print(aver_dict)\n",
        "for i in aver_dict :\n",
        "    if aver_dict[i] == max(aver_dict.values()) :\n",
        "        print(f\"{i} has the maximum average\" )\n",
        "    elif aver_dict[i] == min(aver_dict.values()) :\n",
        "        print(f\"{i} has the minumum average\" )"
      ],
      "execution_count": null,
      "outputs": []
    },
    {
      "cell_type": "code",
      "metadata": {
        "id": "9sYkTntQukIA"
      },
      "source": [
        "grades={\n",
        "    'Student-1': {'Lesson-1': 57, 'Lesson-2': 46, 'Lesson-3': 58, 'Lesson-4': 81, 'Lesson-5': 85}, \n",
        "    'Student-2': {'Lesson-1': 85, 'Lesson-2': 56, 'Lesson-3': 51, 'Lesson-4': 69, 'Lesson-5': 67}, \n",
        "    'Student-3': {'Lesson-1': 68, 'Lesson-2': 76, 'Lesson-3': 87, 'Lesson-4': 57, 'Lesson-5': 56}, \n",
        "    'Student-4': {'Lesson-1': 78, 'Lesson-2': 93, 'Lesson-3': 88, 'Lesson-4': 38, 'Lesson-5': 54}, \n",
        "    'Student-5': {'Lesson-1': 50, 'Lesson-2': 46, 'Lesson-3': 78, 'Lesson-4': 81, 'Lesson-5': 75}}\n",
        "ortalama = {}\n",
        "for i in grades :\n",
        "    notlar = grades[i].values()\n",
        "    ortalama[i] = [sum(notlar) / len(notlar)]\n",
        "print(ortalama)\n",
        "for i in ortalama:\n",
        "    if ortalama[i] == max(ortalama.values()) :\n",
        "        print(f\"{i} has the maximum average\" )\n",
        "    elif ortalama[i] == min(ortalama.values()) :\n",
        "        print(f\"{i} has the minumum average\" )"
      ],
      "execution_count": null,
      "outputs": []
    },
    {
      "cell_type": "code",
      "metadata": {
        "id": "qLkeRNSauk0A"
      },
      "source": [
        "grades={'Student-1': {'Lesson-1': 57, 'Lesson-2': 46, 'Lesson-3': 58, 'Lesson-4': 81, 'Lesson-5': 85}, \n",
        "        'Student-2': {'Lesson-1': 85, 'Lesson-2': 56, 'Lesson-3': 51, 'Lesson-4': 69, 'Lesson-5': 67}, \n",
        "        'Student-3': {'Lesson-1': 68, 'Lesson-2': 76, 'Lesson-3': 87, 'Lesson-4': 57, 'Lesson-5': 56}, \n",
        "        'Student-4': {'Lesson-1': 78, 'Lesson-2': 93, 'Lesson-3': 88, 'Lesson-4': 38, 'Lesson-5': 54}, \n",
        "        'Student-5': {'Lesson-1': 50, 'Lesson-2': 46, 'Lesson-3': 78, 'Lesson-4': 81, 'Lesson-5': 75}}\n",
        "Student_1 = sum(grades[\"Student-1\"].values()) / 5\n",
        "Student_2 = sum(grades[\"Student-2\"].values()) / 5\n",
        "Student_3 = sum(grades[\"Student-3\"].values()) / 5\n",
        "Student_4 = sum(grades[\"Student-4\"].values()) / 5\n",
        "Student_5 = sum(grades[\"Student-5\"].values()) / 5\n",
        "print(\"Student-1 Avg: {}, Student-2 Avg: {}, Student-3 Avg: {}, Student-4 Avg: {}, Student-5 Avg: {} \".format(Student_1,Student_2,Student_3,Student_4,Student_5))\n",
        "white_check_mark\n",
        "eyes\n",
        "raised_hands\n",
        "\n",
        "\n",
        "\n"
      ],
      "execution_count": null,
      "outputs": []
    }
  ]
}