{
  "nbformat": 4,
  "nbformat_minor": 0,
  "metadata": {
    "colab": {
      "name": "Untitled25.ipynb",
      "provenance": [],
      "authorship_tag": "ABX9TyPckuvbTtLJEyIC8okmwKN2",
      "include_colab_link": true
    },
    "kernelspec": {
      "name": "python3",
      "display_name": "Python 3"
    },
    "language_info": {
      "name": "python"
    }
  },
  "cells": [
    {
      "cell_type": "markdown",
      "metadata": {
        "id": "view-in-github",
        "colab_type": "text"
      },
      "source": [
        "<a href=\"https://colab.research.google.com/github/Burak9150/Python-soru-kutuphanesi/blob/main/Untitled25.ipynb\" target=\"_parent\"><img src=\"https://colab.research.google.com/assets/colab-badge.svg\" alt=\"Open In Colab\"/></a>"
      ]
    },
    {
      "cell_type": "code",
      "metadata": {
        "id": "NxTR_Is9ae3n"
      },
      "source": [
        ""
      ],
      "execution_count": null,
      "outputs": []
    },
    {
      "cell_type": "markdown",
      "metadata": {
        "id": "6rrm8uEYahvB"
      },
      "source": [
        "Bir dize kabul eden ve rakam ve harf sayısını hesaplayan bir Python programı yazın. \n",
        "Örnek Veri : Python 3.2\n",
        "Beklenen Çıktı :\n",
        "Harfler 6\n",
        "Rakam 2"
      ]
    },
    {
      "cell_type": "code",
      "metadata": {
        "id": "WVXoMgsjvnuh"
      },
      "source": [
        "s = input(\"Input a string\")\n",
        "d=l=0\n",
        "for c in s:\n",
        "    if c.isdigit():\n",
        "        d=d+1\n",
        "    elif c.isalpha():\n",
        "        l=l+1\n",
        "    else:\n",
        "        pass\n",
        "print(\"Letters\", l)\n",
        "print(\"Digits\", d)"
      ],
      "execution_count": null,
      "outputs": []
    },
    {
      "cell_type": "code",
      "metadata": {
        "id": "WxJMj-XBvnrs"
      },
      "source": [
        "numbers = (\"0,1,2,3,4,5,6,7,8,9\")\n",
        "letters = (\"a,b,c,ç,d,e,f,g,ğ,h,ı,i,j,k,l,m,n,o,ö,p,r,s,ş,t,u,ü,q,w,y,z,x,v\")\n",
        "word = input(\"Type a word...:\").lower()\n",
        "numbers_count = 0\n",
        "letters_count = 0\n",
        "for i in word :\n",
        "    if i in numbers :\n",
        "        numbers_count += 1\n",
        "    elif i in letters :\n",
        "        letters_count += 1\n",
        "print(\"Word is composed of {} numbers, {} letters.\".format(numbers_count,letters_count))"
      ],
      "execution_count": null,
      "outputs": []
    },
    {
      "cell_type": "code",
      "metadata": {
        "id": "bmR-JWvyvnom"
      },
      "source": [
        "number = (\"0,1,2,3,4,5,6,7,8,9\")\n",
        "letter = (\"a,b,c,ç,d,e,f,g,ğ,h,ı,i,j,k,l,m,n,o,ö,p,r,s,ş,t,u,ü,q,w,y,z,x,v\").title()\n",
        "letter2 = (\"a,b,c,ç,d,e,f,g,ğ,h,ı,i,j,k,l,m,n,o,ö,p,r,s,ş,t,u,ü,q,w,y,z,x,v\")\n",
        "word = input(\"Type a word...:\")\n",
        "number_count = 0\n",
        "letter_count = 0\n",
        "for i in word :\n",
        "    if i in number :\n",
        "        number_count += 1\n",
        "    elif i in letter :\n",
        "        letter_count += 1\n",
        "    elif i in letter2 :\n",
        "        letter_count += 1\n",
        "print(\"{} numbers, {} letters.\".format(number_count,letter_count))"
      ],
      "execution_count": null,
      "outputs": []
    },
    {
      "cell_type": "code",
      "metadata": {
        "id": "AUOdLh6Yvy3s"
      },
      "source": [
        "numbers = [\"0\",\"1\",\"2\",\"3\",\"4\",\"5\",\"6\",\"7\",\"8\",\"9\"]\n",
        "letters = [\"A\", \"B\", \"C\", \"D\", \"E\", \"F\", \"G\", \"H\", \"I\", \"J\", \"K\", \"L\", \"M\", \"N\", \"O\", \"P\", \"Q\", \"R\", \"S\", \"T\", \"U\", \"V\", \"W\", \"X\", \"Y\", \"Z\", \"a\", \"b\", \"c\", \"d\", \"e\", \"f\", \"g\", \"h\", \"i\", \"j\", \"k\", \"l\", \"m\", \"n\", \"o\", \"p\", \"q\", \"r\", \"s\", \"t\", \"u\", \"v\", \"w\", \"x\", \"y\", \"z\"]\n",
        "numbers_counter = 0\n",
        "letter_counter = 0\n",
        "a = input(\"Please write your string\")\n",
        "for i in a:\n",
        "    if i in numbers:\n",
        "        numbers_counter += 1\n",
        "    elif i in letters:\n",
        "        letter_counter += 1\n",
        "print(f\"The letter have include {letter_counter} letter.\")\n",
        "print(f\"The letter have include {numbers_counter} numbers.\")"
      ],
      "execution_count": null,
      "outputs": []
    },
    {
      "cell_type": "code",
      "metadata": {
        "id": "VMYeAevvvy0l"
      },
      "source": [
        "buyuk_harf = [chr(i) for i in range(65, 91)]\n",
        "kucuk_harf = [chr(i) for i in range(97, 123)]\n",
        "rakam = [chr(i) for i in range(48, 58)]\n",
        "rakam_s = 0\n",
        "harf_s = 0\n",
        "metin = input('Please enter a text > ')\n",
        "for i in metin:\n",
        "    if i in buyuk_harf:\n",
        "        harf_s += 1\n",
        "    elif i in kucuk_harf:\n",
        "        harf_s += 1\n",
        "    elif i in rakam:\n",
        "        rakam_s += 1\n",
        "print('There are {} letter(s) and {} number(s) in this text.'.format(harf_s, rakam_s))"
      ],
      "execution_count": null,
      "outputs": []
    }
  ]
}