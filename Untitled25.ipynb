{
  "nbformat": 4,
  "nbformat_minor": 0,
  "metadata": {
    "colab": {
      "name": "Untitled25.ipynb",
      "provenance": [],
      "authorship_tag": "ABX9TyMw/61liOfehOLTJP+80Xsw",
      "include_colab_link": true
    },
    "kernelspec": {
      "name": "python3",
      "display_name": "Python 3"
    },
    "language_info": {
      "name": "python"
    }
  },
  "cells": [
    {
      "cell_type": "markdown",
      "metadata": {
        "id": "view-in-github",
        "colab_type": "text"
      },
      "source": [
        "<a href=\"https://colab.research.google.com/github/Burak9150/Python-soru-kutuphanesi/blob/main/Untitled25.ipynb\" target=\"_parent\"><img src=\"https://colab.research.google.com/assets/colab-badge.svg\" alt=\"Open In Colab\"/></a>"
      ]
    },
    {
      "cell_type": "code",
      "metadata": {
        "id": "NxTR_Is9ae3n"
      },
      "source": [
        ""
      ],
      "execution_count": null,
      "outputs": []
    },
    {
      "cell_type": "markdown",
      "metadata": {
        "id": "6rrm8uEYahvB"
      },
      "source": [
        "\n",
        "Aynı zamanda hem 2'ye hem 4'e hem de 5'e bölünebilen sayılara xyz sayısı diyelim. Hem 2'ye hem de 5'e bölünebilen sayılar ise abc sayısı olsun. 100 ile 100.000 arasındaki xyz sayılarından kaç tanesi aynı zamanda abc sayısıdır?"
      ]
    },
    {
      "cell_type": "code",
      "metadata": {
        "id": "4xLqwJEAiGeM"
      },
      "source": [
        "xyz = []\n",
        "abc = []\n",
        "for i in range(100,150):\n",
        "    if i % 2 == 0 and i % 5 == 0 and i % 4 ==0:\n",
        "        xyz.append(i)\n",
        "print(xyz)\n",
        "for i in range(100,150):\n",
        "    if i % 2 == 0 and i % 5 == 0:\n",
        "        abc.append(i)\n",
        "print(abc)\n",
        "print(set(abc).intersection(set(xyz)))\n",
        "print(len(set(abc).intersection(set(xyz))))"
      ],
      "execution_count": null,
      "outputs": []
    },
    {
      "cell_type": "code",
      "metadata": {
        "id": "0FRg8Hq2ioNT"
      },
      "source": [
        "k = 0\n",
        "for i in range(100,150):\n",
        "    if i % 2 == 0 and i % 5 == 0:\n",
        "        if i % 4 ==0:\n",
        "            k += 1\n",
        "print(k)"
      ],
      "execution_count": null,
      "outputs": []
    },
    {
      "cell_type": "code",
      "metadata": {
        "id": "dHWmYtwLiqwc"
      },
      "source": [
        "xyz=[i for i in range(100, 100001) if i%5==0 and i%4==0]\n",
        "abc=[i for i in range(100, 100001) if i%2==0 and i%5==0]\n",
        "cross_check=len(set(xyz).intersection(set(abc)))\n",
        "print(cross_check)"
      ],
      "execution_count": null,
      "outputs": []
    },
    {
      "cell_type": "code",
      "metadata": {
        "id": "O7AhiYQHithv"
      },
      "source": [
        "sayilar = list(range(100, 100000))\n",
        "xyz = []\n",
        "abc = []\n",
        "for i in sayilar:\n",
        "    if i % 2 == 0 and i % 4 == 0 and i % 5 == 0:\n",
        "        xyz.append(i)\n",
        "        count_xyz = len(xyz)\n",
        "for i in xyz:\n",
        "    if i % 4 != 0:\n",
        "        xyz.remove(i)\n",
        "        count_abc = len(xyz)\n",
        "print(count_xyz)\n",
        "print(count_abc)"
      ],
      "execution_count": null,
      "outputs": []
    },
    {
      "cell_type": "code",
      "metadata": {
        "id": "cDOQteIiiwGP"
      },
      "source": [
        "result_table_xyz = []\n",
        "result_table_abc = []\n",
        "for i in range(100, 100000):\n",
        "  if i%2==0 and i%4==0 and i%5==0:\n",
        "    result_table_xyz.append(i)\n",
        "    i += 1\n",
        "for x in result_table_xyz:\n",
        "  if x%2==0 and x%5 == 0:\n",
        "    result_table_abc.append(x)\n",
        "print(len(result_table_abc))"
      ],
      "execution_count": null,
      "outputs": []
    },
    {
      "cell_type": "code",
      "metadata": {
        "id": "JzWXcYEgi6yL"
      },
      "source": [
        "xyz = list(range(100,100000))\n",
        "abc = list(range(100,100000))\n",
        "inter = []\n",
        "for i in range(100,len(xyz)):\n",
        "    choice_xyz = (xyz[i] % 5 == 0) and (xyz[i] % 4 == 0) # divisibility rule of 2 is redundant\n",
        "    choice_abc = (abc[i] % 5 == 0) and (abc[i] % 2 == 0) \n",
        "    if choice_xyz and choice_abc:\n",
        "        inter += [i]\n",
        "print(len(inter))"
      ],
      "execution_count": null,
      "outputs": []
    }
  ]
}