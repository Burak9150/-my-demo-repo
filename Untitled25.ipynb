{
  "nbformat": 4,
  "nbformat_minor": 0,
  "metadata": {
    "colab": {
      "name": "Untitled25.ipynb",
      "provenance": [],
      "authorship_tag": "ABX9TyNyvMZy758d57a57cjAr0vI",
      "include_colab_link": true
    },
    "kernelspec": {
      "name": "python3",
      "display_name": "Python 3"
    },
    "language_info": {
      "name": "python"
    }
  },
  "cells": [
    {
      "cell_type": "markdown",
      "metadata": {
        "id": "view-in-github",
        "colab_type": "text"
      },
      "source": [
        "<a href=\"https://colab.research.google.com/github/Burak9150/Python-soru-kutuphanesi/blob/main/Untitled25.ipynb\" target=\"_parent\"><img src=\"https://colab.research.google.com/assets/colab-badge.svg\" alt=\"Open In Colab\"/></a>"
      ]
    },
    {
      "cell_type": "code",
      "metadata": {
        "id": "NxTR_Is9ae3n"
      },
      "source": [
        ""
      ],
      "execution_count": null,
      "outputs": []
    },
    {
      "cell_type": "markdown",
      "metadata": {
        "id": "6rrm8uEYahvB"
      },
      "source": [
        "\n",
        "Kullanıcıdan integer bir değer alan ve sayının pozitif-çift sayı olup olmadığını kontrol eden program yazınız. Girilen sayıların muhtemel farklı durumlarını göz önünde bulundurunuz. Kolay Gelsin..."
      ]
    },
    {
      "cell_type": "code",
      "metadata": {
        "id": "mEMdTZZvq3r0"
      },
      "source": [
        "x = (input(\"Enter a number:\"))\n",
        "if x.isdigit():\n",
        "    x1 = int(x)\n",
        "    if x1 % 2 == 0:\n",
        "        print(x, \",is a even number\")\n",
        "    else:\n",
        "        print(x, \"is a odd number\")\n",
        "else:\n",
        "    print(\"It is an invalid entry. Don't use non-numeric, float, or negative values!\")"
      ],
      "execution_count": null,
      "outputs": []
    },
    {
      "cell_type": "code",
      "metadata": {
        "id": "PYcIjhyxrCFu"
      },
      "source": [
        "number = input('Enter a number > ')\n",
        "try:\n",
        "    int(number)\n",
        "    isdig = True\n",
        "except ValueError:\n",
        "    print('Invalid Syntax')\n",
        "    isdig = False\n",
        "if isdig:    \n",
        "    if int(number) % 2 == 0 and int(number) > 0:\n",
        "        print(f'{number} is a positive even integer.')\n",
        "    else:\n",
        "        print(f'{number} is not a positive even integer.')"
      ],
      "execution_count": null,
      "outputs": []
    },
    {
      "cell_type": "code",
      "metadata": {
        "id": "PzFNrhlPrFwX"
      },
      "source": [
        "num = (input(\"Enter a number:\"))\n",
        "if num.isdigit():\n",
        "    num1 = int(num)\n",
        "    if num1 > 0:\n",
        "        if num1 % 2 == 0: \n",
        "            print(num, \",is a even number\")\n",
        "        else:\n",
        "            print(num, \"is a odd number\")\n",
        "    else:\n",
        "        print(\"It is an invalid entry. Don't use non-numeric, float, or negative values!\")\n",
        "else:\n",
        "    print(\"It is an invalid entry. Don't use non-numeric, float, or negative values!\")"
      ],
      "execution_count": null,
      "outputs": []
    },
    {
      "cell_type": "code",
      "metadata": {
        "id": "GCnehGdarKNr"
      },
      "source": [
        "num=input('Enter a positive number to be checked')\n",
        "if num.isdigit():\n",
        "  if int(num)>0 and int(num)%2==0:\n",
        "    print('It\\'s a positive even number')\n",
        "  else:\n",
        "    print('It\\'s a positive odd number')\n",
        "else:\n",
        "  print('It\\'s an invalid entry, please do not enter non-numeric float or negative numbers')"
      ],
      "execution_count": null,
      "outputs": []
    },
    {
      "cell_type": "code",
      "metadata": {
        "id": "fttnKBlMrPiJ"
      },
      "source": [
        "numbers = input('pls enter a number')\n",
        "if numbers.isdigit():\n",
        "    num = int(numbers)\n",
        "    if num >0:\n",
        "        if num %2 == 0:\n",
        "            print('You entered number is positive whole number')\n",
        "        else:\n",
        "            print('You entered number is odd')\n",
        "elif numbers.isalpha():\n",
        "    print('You entered string item')\n",
        "elif int(numbers) <0:\n",
        "    print('You entered negative number')"
      ],
      "execution_count": null,
      "outputs": []
    }
  ]
}