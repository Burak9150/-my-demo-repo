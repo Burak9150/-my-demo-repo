{
  "nbformat": 4,
  "nbformat_minor": 0,
  "metadata": {
    "colab": {
      "name": "Untitled25.ipynb",
      "provenance": [],
      "authorship_tag": "ABX9TyNV5Z8HeSViWYchpKKoOUZP",
      "include_colab_link": true
    },
    "kernelspec": {
      "name": "python3",
      "display_name": "Python 3"
    },
    "language_info": {
      "name": "python"
    }
  },
  "cells": [
    {
      "cell_type": "markdown",
      "metadata": {
        "id": "view-in-github",
        "colab_type": "text"
      },
      "source": [
        "<a href=\"https://colab.research.google.com/github/Burak9150/Python-soru-kutuphanesi/blob/main/Untitled25.ipynb\" target=\"_parent\"><img src=\"https://colab.research.google.com/assets/colab-badge.svg\" alt=\"Open In Colab\"/></a>"
      ]
    },
    {
      "cell_type": "code",
      "metadata": {
        "id": "NxTR_Is9ae3n"
      },
      "source": [
        ""
      ],
      "execution_count": null,
      "outputs": []
    },
    {
      "cell_type": "markdown",
      "metadata": {
        "id": "6rrm8uEYahvB"
      },
      "source": [
        "Doğduğunuz yıl için Çin Zodyakının işaretini gösteren bir Python programı yazın. \n",
        "Beklenen Çıktı:\n",
        "Doğum yılınızı girin: 1973                                              \n",
        "Burcunuz: Öküz  \n"
      ]
    },
    {
      "cell_type": "code",
      "metadata": {
        "id": "Em2zN61_0fVq"
      },
      "source": [
        "year = int(input(\"Doğum yılınızı girin :  \"))\n",
        "if year % 12 == 8:\n",
        "    animal = \"Ejderha\"\n",
        "elif year % 12 == 9:\n",
        "    animal = \"Yılan\"\n",
        "elif year % 12 == 10:\n",
        "    animal = \"At\"\n",
        "elif year % 12 == 11:\n",
        "    animal = \"Keçi\"\n",
        "elif year % 12 == 0:\n",
        "    animal = \"Maymun\"\n",
        "elif year % 12 == 1:\n",
        "    animal = \"Horoz\"\n",
        "elif year % 12 == 2:\n",
        "    animal = \"Köpek\"\n",
        "elif year % 12 == 3:\n",
        "    animal = \"Domuz\"\n",
        "elif year % 12 == 4:\n",
        "    animal = \"Sıçan\"\n",
        "elif year % 12 == 5:\n",
        "    animal = \"Öküz\"\n",
        "elif year % 12 == 6:\n",
        "    animal = \"Kaplan\"\n",
        "elif year % 12 == 7:\n",
        "    animal = \"Tavşan\"\n",
        "print(\"Burcunuz :\",animal)"
      ],
      "execution_count": null,
      "outputs": []
    },
    {
      "cell_type": "code",
      "metadata": {
        "id": "IVe6ppFb0fQT"
      },
      "source": [
        "i = (input(\"Doğum yılınızı girin \"))\n",
        "w = str(i)\n",
        "if i.isdigit() and len(i) == 4:\n",
        "    q = int(i)\n",
        "    if (q - 1960) % 12 == 0:\n",
        "        a = \"fare\"\n",
        "    elif (q - 1960) % 12 == 1:    \n",
        "        a = \"öküz\"\n",
        "    elif (q - 1960) % 12 == 2:\n",
        "        a = \"kaplan\"\n",
        "    elif (q - 1960) % 12 == 3:    \n",
        "        a = \"tavşan\"\n",
        "    elif (q - 1960) % 12 == 4:\n",
        "        a = \"ejderha\"\n",
        "    elif (q - 1960) % 12 == 5:    \n",
        "        a = \"yılan\"\n",
        "    elif (q - 1960) % 12 == 6:\n",
        "        a = \"at\"\n",
        "    elif (q - 1960) % 12 == 7:    \n",
        "        a = \"keçi\"\n",
        "    elif (q - 1960) % 12 == 8:\n",
        "        a = \"maymun\"\n",
        "    elif (q - 1960) % 12 == 9:    \n",
        "        a = \"horoz\"\n",
        "    elif (q - 1960) % 12 == 10:\n",
        "        a = \"köpek\"\n",
        "    elif (q - 1960) % 12 == 11:    \n",
        "        a = \"domuz\"\n",
        "    print(\"Çin burcunuz\", a)    \n",
        "else:\n",
        "    print(\"Lütfen dört haneli doğum yılınızı girin\")"
      ],
      "execution_count": null,
      "outputs": []
    },
    {
      "cell_type": "code",
      "metadata": {
        "id": "RLulaZ6f0fMn"
      },
      "source": [
        ""
      ],
      "execution_count": null,
      "outputs": []
    }
  ]
}