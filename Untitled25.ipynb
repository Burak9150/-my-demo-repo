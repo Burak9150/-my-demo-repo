{
  "nbformat": 4,
  "nbformat_minor": 0,
  "metadata": {
    "colab": {
      "name": "Untitled25.ipynb",
      "provenance": [],
      "authorship_tag": "ABX9TyMaJa3wh8evfpFJihr35/nB",
      "include_colab_link": true
    },
    "kernelspec": {
      "name": "python3",
      "display_name": "Python 3"
    },
    "language_info": {
      "name": "python"
    }
  },
  "cells": [
    {
      "cell_type": "markdown",
      "metadata": {
        "id": "view-in-github",
        "colab_type": "text"
      },
      "source": [
        "<a href=\"https://colab.research.google.com/github/Burak9150/Python-soru-kutuphanesi/blob/main/Untitled25.ipynb\" target=\"_parent\"><img src=\"https://colab.research.google.com/assets/colab-badge.svg\" alt=\"Open In Colab\"/></a>"
      ]
    },
    {
      "cell_type": "code",
      "metadata": {
        "id": "NxTR_Is9ae3n"
      },
      "source": [
        ""
      ],
      "execution_count": null,
      "outputs": []
    },
    {
      "cell_type": "markdown",
      "metadata": {
        "id": "6rrm8uEYahvB"
      },
      "source": [
        "İki kişilik bir Taş-Kağıt-Makas oyunu yapın. (İpucu: Oyuncuların oyunlarını isteyin (giriş kullanarak), bunları karşılaştırın, kazanana bir tebrik mesajı yazdırın ve oyunculara yeni bir oyun başlatmak isteyip istemediklerini sorun)\n",
        "Kuralları hatırla:\n",
        "Kaya makası yener\n",
        "Makas kağıdı yener\n",
        "Kağıt kayayı yener"
      ]
    },
    {
      "cell_type": "code",
      "metadata": {
        "id": "vOwqGXvitHiE"
      },
      "source": [
        "print(\"Let's play Rock-Paper-Scissors game\")\n",
        "g = str(input(\"Do you want to play again (yes or no): \")).lower().strip()\n",
        "while g == \"yes\":    \n",
        "    x = input(\"First player select one: Rock or Paper or Scissors: \").lower().strip()\n",
        "    y = input(\"Second player select one: Rock or Paper or Scissors: \")\n",
        "    r = \"rock\"\n",
        "    p = \"paper\"\n",
        "    s = \"scissors\"\n",
        "    if x == r and y == s:\n",
        "        z = \"first player\"\n",
        "    elif x == r and y  == p:\n",
        "        z = \"second player\"\n",
        "    elif x == r and y == r:\n",
        "        z = \"no winners\"\n",
        "    elif x == p and y == r:\n",
        "        z = \"first player\"\n",
        "    elif x == p and y == s:\n",
        "        z = \"second player\"\n",
        "    elif x == p and y == p:\n",
        "        z = \"no winners\"\n",
        "    elif x == s and y == r:\n",
        "        z = \"second player\"\n",
        "    elif x == s and y == p:\n",
        "        z = \"first player\"\n",
        "    elif x == s and y == s:\n",
        "        z =\"no winners\"\n",
        "    else:\n",
        "        z = \"Make sure you type it correctly\"\n",
        "    print(\"The winnig player is:\", z)\n",
        "    g = str(input(\"Do you want to 1play again (yes or no): \")).lower().strip()"
      ],
      "execution_count": null,
      "outputs": []
    },
    {
      "cell_type": "code",
      "metadata": {
        "id": "cLmuBaz1tHb3"
      },
      "source": [
        "repeat = True\n",
        "while repeat:    \n",
        "    player1 = input('Player 1, Rock(R)-Paper(P)-Scissors(S) > ').upper()\n",
        "    player2 = input('Player 2, Rock(R)-Paper(P)-Scissors(S) > ').upper()\n",
        "    if player1 == 'R':\n",
        "        if player2 == 'R':\n",
        "            print('Nobody wins. >')\n",
        "        elif player2 == 'P':\n",
        "            print('Congratulations Player2, you win.')\n",
        "        else:\n",
        "            print('Congratulations Player1, you win.')\n",
        "    elif player1 == 'P':\n",
        "        if player2 == 'P':\n",
        "            print('Nobody wins. >')\n",
        "        elif player2 == 'S':\n",
        "            print('Congratulations Player2, you win.')\n",
        "        else:\n",
        "            print('Congratulations Player1, you win.')\n",
        "    else:\n",
        "        if player2 == 'S':\n",
        "            print('Nobody wins. >')\n",
        "        elif player2 == 'R':\n",
        "            print('Congratulations Player2, you win.')\n",
        "        else:\n",
        "            print('Congratulations Player1, you win.')\n",
        "    repeat_q = input('Do you want to play again? (Y or N) > ').upper()\n",
        "    if repeat_q != 'Y':\n",
        "        repeat = False"
      ],
      "execution_count": null,
      "outputs": []
    },
    {
      "cell_type": "code",
      "metadata": {
        "id": "sPHdQ-5Ot3vU"
      },
      "source": [
        "while \"harun\":\n",
        "  first_player = input(\"choose from one of the options [Rock-Paper-Scissors] :  \").strip().lower()\n",
        "  second_player = input(\"choose from one of the options [Rock-Paper-Scissors] :  \").strip().lower()\n",
        "  if first_player == \"rock\" and second_player == \"scissors\":\n",
        "    print(\"first_player win\")\n",
        "  elif first_player == \"scissors\" and second_player == \"rock\":\n",
        "    print(\"second_player win\")\n",
        "  elif first_player == \"scissors\" and second_player == \"paper\":\n",
        "    print(\"first_player win\")\n",
        "  elif first_player == \"paper\" and second_player == \"scissors\":\n",
        "    print(\"second_player win\")\n",
        "  elif first_player == \"paper\" and second_player == \"rock\":\n",
        "    print(\"first_player win\")\n",
        "  elif first_player == \"rock\" and second_player == \"paper\":\n",
        "    print(\"second_player win\")\n",
        "  elif first_player == second_player:\n",
        "    print(\"game end in a draw\")\n",
        "  else:\n",
        "    print(\"there are no result\")\n",
        "  play_again = input(\"Do you want to play again(Yes or No): \").strip().lower()\n",
        "  if play_again == \"no\":\n",
        "    break"
      ],
      "execution_count": null,
      "outputs": []
    },
    {
      "cell_type": "code",
      "metadata": {
        "id": "H9z4xMPYt3m9"
      },
      "source": [
        "print(\"Taş,Kağıt, Makas oyununa hoş geldinizn Oyunu bitirmek için q tuşuna basın\")\n",
        "seçenekler=[\"taş\",\"kağıt\",\"makas\"]\n",
        "taş=seçenekler[0]\n",
        "kağıt=seçenekler[1]\n",
        "makas=seçenekler[2]\n",
        "devam=[\"evet\",\"hayır\"]\n",
        "evet=devam[0]\n",
        "hayır=devam[1]\n",
        "while True:\n",
        "  oyuncu1 = input(\"oyuncu1 : \")\n",
        "  oyuncu2 = input(\"oyuncu2 : \")\n",
        "  if oyuncu1==taş and  oyuncu2==kağıt:\n",
        "    print(\"oyuncu2 kazandı\")\n",
        "    print(\"tekrar oynamak istermisiniz?\")\n",
        "  elif (oyuncu1 or oyuncu2)==hayır:\n",
        "      break\n",
        "  elif (oyuncu1 or oyuncu2)==evet:\n",
        "      continue\n",
        "  elif oyuncu1==taş and  oyuncu2==makas:\n",
        "    print(\"oyuncu1 kazandı\")\n",
        "    print(\"tekrar oynamak istermisiniz?\")\n",
        "  elif (oyuncu1 or oyuncu2)==hayır:\n",
        "      break\n",
        "  elif (oyuncu1 or oyuncu2)==evet:\n",
        "      continue\n",
        "  elif oyuncu1==kağıt and  oyuncu2==makas:\n",
        "    print(\"oyuncu1 kazandı\")\n",
        "    print(\"tekrar oynamak istermisiniz?\")\n",
        "  elif (oyuncu1 or oyuncu2)==hayır:\n",
        "      break\n",
        "  elif (oyuncu1 or oyuncu2)==evet:\n",
        "      continue\n",
        "  elif oyuncu1==makas and  oyuncu2==kağıt:\n",
        "    print(\"oyuncu2 kazandı\")\n",
        "    print(\"tekrar oynamak istermisiniz?\")\n",
        "  elif (oyuncu1 or oyuncu2)==hayır:\n",
        "      break\n",
        "  elif (oyuncu1 or oyuncu2)==evet:\n",
        "      continue\n",
        "  elif oyuncu1==makas and  oyuncu2==taş:\n",
        "    print(\"oyuncu2 kazandı\")\n",
        "    print(\"tekrar oynamak istermisiniz?\")\n",
        "  elif (oyuncu1 or oyuncu2)==hayır:\n",
        "      break\n",
        "  elif (oyuncu1 or oyuncu2)==evet:\n",
        "      continue\n",
        "  elif oyuncu1==kağıt and  oyuncu2==taş:\n",
        "    print(\"oyuncu1 kazandı\")\n",
        "    print(\"tekrar oynamak istermisiniz?\")\n",
        "  elif (oyuncu1 or oyuncu2)==hayır:\n",
        "      break\n",
        "  elif (oyuncu1 or oyuncu2)==evet:\n",
        "      continue\n",
        "  elif oyuncu1==\"q\" or oyuncu2==\"q\" :\n",
        "    break"
      ],
      "execution_count": null,
      "outputs": []
    }
  ]
}