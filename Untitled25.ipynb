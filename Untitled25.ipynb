{
  "nbformat": 4,
  "nbformat_minor": 0,
  "metadata": {
    "colab": {
      "name": "Untitled25.ipynb",
      "provenance": [],
      "authorship_tag": "ABX9TyPWyni0qhPciz9sZHWI7y6n",
      "include_colab_link": true
    },
    "kernelspec": {
      "name": "python3",
      "display_name": "Python 3"
    },
    "language_info": {
      "name": "python"
    }
  },
  "cells": [
    {
      "cell_type": "markdown",
      "metadata": {
        "id": "view-in-github",
        "colab_type": "text"
      },
      "source": [
        "<a href=\"https://colab.research.google.com/github/Burak9150/Python-soru-kutuphanesi/blob/main/Untitled25.ipynb\" target=\"_parent\"><img src=\"https://colab.research.google.com/assets/colab-badge.svg\" alt=\"Open In Colab\"/></a>"
      ]
    },
    {
      "cell_type": "code",
      "metadata": {
        "id": "NxTR_Is9ae3n"
      },
      "source": [
        ""
      ],
      "execution_count": null,
      "outputs": []
    },
    {
      "cell_type": "markdown",
      "metadata": {
        "id": "6rrm8uEYahvB"
      },
      "source": [
        "Group Anagrams\n",
        "Given a list of strings, group anagrams together.\n",
        "Example:\n",
        "Input:\n",
        "[\"eat\", \"tea\", \"tan\", \"ate\", \"nat\", \"bat\"]\n",
        "Output:\n",
        "[\n",
        "  [\"ate\",\"eat\",\"tea\"],\n",
        "  [\"nat\",\"tan\"],\n",
        "  [\"bat\"]\n",
        "]"
      ]
    },
    {
      "cell_type": "code",
      "metadata": {
        "colab": {
          "base_uri": "https://localhost:8080/"
        },
        "id": "Y2TrdjOHaijX",
        "outputId": "88064644-1502-4e50-901a-99d253bcb382"
      },
      "source": [
        "kelime =[\"eat\", \"tea\", \"tan\", \"ate\", \"nat\", \"bat\"]\n",
        "liste={}\n",
        "\n",
        "for i in kelime:\n",
        "  x =str(sorted(i))\n",
        "  if x in liste:\n",
        "      liste[x].append(i)\n",
        "  else:\n",
        "      liste[x] = [i]\n",
        "print(list(liste.values()))"
      ],
      "execution_count": 1,
      "outputs": [
        {
          "output_type": "stream",
          "text": [
            "[['eat', 'tea', 'ate'], ['tan', 'nat'], ['bat']]\n"
          ],
          "name": "stdout"
        }
      ]
    },
    {
      "cell_type": "code",
      "metadata": {
        "colab": {
          "base_uri": "https://localhost:8080/"
        },
        "id": "Gw-KiH2NbTDJ",
        "outputId": "efa0aa10-e142-42c7-b27a-d7c9e418ebb4"
      },
      "source": [
        "farm = [\"eat\", \"tea\", \"tan\", \"ate\", \"nat\", \"bat\"]\n",
        "setstring=[list(sorted(ptr)) for ptr in farm]\n",
        "addstring=[\"\".join(atr) for atr in setstring]\n",
        "dicc={}\n",
        "for hep in addstring: dicc[hep]=[]\n",
        "[dicc[\"\".join(sorted(her))].append(her) for her in farm if \"\".join(sorted(her)) in dicc]\n",
        "print(dicc)"
      ],
      "execution_count": 2,
      "outputs": [
        {
          "output_type": "stream",
          "text": [
            "{'aet': ['eat', 'tea', 'ate'], 'ant': ['tan', 'nat'], 'abt': ['bat']}\n"
          ],
          "name": "stdout"
        }
      ]
    },
    {
      "cell_type": "code",
      "metadata": {
        "colab": {
          "base_uri": "https://localhost:8080/"
        },
        "id": "RGtI8S55bWPN",
        "outputId": "85e01753-d65a-4f16-d7f3-3bfe0a2346f8"
      },
      "source": [
        "words = [\"eat\", \"tea\", \"tan\", \"ate\", \"nat\", \"bat\"]\n",
        "new = []\n",
        "for item in words:\n",
        "    a = list(item)\n",
        "    a.sort()\n",
        "    new.append(\"\".join(a))\n",
        "uniq_list = list(set(new))\n",
        "output = []\n",
        "for item in uniq_list:\n",
        "    anagram = []\n",
        "    for word,ind in zip(new,range(len(new))):\n",
        "        if item == word:\n",
        "            anagram.append(words[ind])\n",
        "    output.append(anagram)\n",
        "print(output)"
      ],
      "execution_count": 3,
      "outputs": [
        {
          "output_type": "stream",
          "text": [
            "[['tan', 'nat'], ['bat'], ['eat', 'tea', 'ate']]\n"
          ],
          "name": "stdout"
        }
      ]
    },
    {
      "cell_type": "code",
      "metadata": {
        "colab": {
          "base_uri": "https://localhost:8080/"
        },
        "id": "THoMyZ8bbbQ3",
        "outputId": "f44d6078-b452-45ec-e924-62a8b1bea67b"
      },
      "source": [
        "anagrams = {}\n",
        "words = [\"eat\", \"tea\", \"tan\", \"ate\", \"nat\", \"bat\"]\n",
        "for word in words:\n",
        "    sorted_word = \"\".join(sorted(word))\n",
        "    if sorted_word in anagrams:\n",
        "        anagrams[sorted_word].append(word)\n",
        "    else:\n",
        "        anagrams[sorted_word] = [word]\n",
        "print(list(anagrams.values()))"
      ],
      "execution_count": 4,
      "outputs": [
        {
          "output_type": "stream",
          "text": [
            "[['eat', 'tea', 'ate'], ['tan', 'nat'], ['bat']]\n"
          ],
          "name": "stdout"
        }
      ]
    },
    {
      "cell_type": "code",
      "metadata": {
        "id": "_lTG7cmDbh2W"
      },
      "source": [
        ""
      ],
      "execution_count": null,
      "outputs": []
    }
  ]
}