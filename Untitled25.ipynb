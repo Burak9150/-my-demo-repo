{
  "nbformat": 4,
  "nbformat_minor": 0,
  "metadata": {
    "colab": {
      "name": "Untitled25.ipynb",
      "provenance": [],
      "authorship_tag": "ABX9TyPv/TVSDILpM4auWWDx6aME",
      "include_colab_link": true
    },
    "kernelspec": {
      "name": "python3",
      "display_name": "Python 3"
    },
    "language_info": {
      "name": "python"
    }
  },
  "cells": [
    {
      "cell_type": "markdown",
      "metadata": {
        "id": "view-in-github",
        "colab_type": "text"
      },
      "source": [
        "<a href=\"https://colab.research.google.com/github/Burak9150/Python-soru-kutuphanesi/blob/main/Untitled25.ipynb\" target=\"_parent\"><img src=\"https://colab.research.google.com/assets/colab-badge.svg\" alt=\"Open In Colab\"/></a>"
      ]
    },
    {
      "cell_type": "code",
      "metadata": {
        "id": "NxTR_Is9ae3n"
      },
      "source": [
        ""
      ],
      "execution_count": null,
      "outputs": []
    },
    {
      "cell_type": "markdown",
      "metadata": {
        "id": "6rrm8uEYahvB"
      },
      "source": [
        "Kullanıcıdan kontrol edilmek üzere bir yıl girmesini isteyiniz. Girilen yılın artık yıl olup olmadığını çıktı veren bir python programı yazınız.\n",
        "Artık yıl, Miladî takvimde (Gregoryen takvim) 365 yerine 366 günü olan yıl. Bu fazladan gün (artık gün), normalde 28 gün olan şubat ayına 29 Şubat'ın eklenmesi ile elde edilir. Dört yılda bir yapılan bu uygulamanın nedeni Dünya'nın Güneş çevresinde dönme süresinin (astronomik yıl), Güneş'in aynı meridyenden iki kez geçişi arasındaki ortalama zamanın (gün) tam katı olmamasıdır. Bir astronomik yıl yaklaşık olarak 365,242 gün olmasına rağmen[1] normal bir takvim yılı 365 gündür. \n"
      ]
    },
    {
      "cell_type": "code",
      "metadata": {
        "id": "DMr6y95ExD-Z"
      },
      "source": [
        "yil = int(input('Please enter the year to see whether it is a leap year or not > '))\n",
        "if yil % 400 == 0:\n",
        "    print('{} is a leap year.'.format(yil))\n",
        "elif yil % 100 == 0:\n",
        "    if yil % 400 == 0:\n",
        "        print('{} is a leap year.'.format(yil))\n",
        "    else:\n",
        "        print('{} is not a leap year.'.format(yil))\n",
        "elif yil % 4 == 0:\n",
        "    if yil % 100 != 0:\n",
        "        print('{} is a leap year.'.format(yil))\n",
        "    else:\n",
        "        print('{} is not a leap year.'.format(yil))\n",
        "else:\n",
        "    print('{} is not a leap year.'.format(yil)) \n",
        ":+1:\n",
        "1\n",
        "\n"
      ],
      "execution_count": null,
      "outputs": []
    },
    {
      "cell_type": "code",
      "metadata": {
        "id": "nEQtjgpRxaPk"
      },
      "source": [
        "Year = int(input(\"Enter a year: \"))\n",
        "x = Year % 4 == 0\n",
        "y = Year % 100 != 0\n",
        "z = Year % 400 == 0\n",
        "leap_year = (x and y) or z\n",
        "print(leap_year)"
      ],
      "execution_count": null,
      "outputs": []
    },
    {
      "cell_type": "code",
      "metadata": {
        "id": "niR4Ac5CxaJJ"
      },
      "source": [
        "sayı=int(input(\"öğrenmek istediğiniz yılı giriniz : \"))\n",
        "if (sayı%4==0 and sayı%100!=0) or sayı%400==0:\n",
        "  print(\"artık yıl\") \n",
        "else:\n",
        "  print(\"artık yıl değil\")"
      ],
      "execution_count": null,
      "outputs": []
    },
    {
      "cell_type": "code",
      "metadata": {
        "id": "vzUB5A4mxaDJ"
      },
      "source": [
        "year = int(input(\"Enter a year :\"))\n",
        "if (year%4 == 0 and year%100 != 0 ) or (year%100 == 0 and year%400 == 0):\n",
        "  print('This is a leap year')\n",
        "else :\n",
        "  print('This is not a leap year')"
      ],
      "execution_count": null,
      "outputs": []
    }
  ]
}