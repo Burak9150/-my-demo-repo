{
  "nbformat": 4,
  "nbformat_minor": 0,
  "metadata": {
    "colab": {
      "name": "Untitled25.ipynb",
      "provenance": [],
      "authorship_tag": "ABX9TyM2eW9c9mENf2fz+u5QkVtW",
      "include_colab_link": true
    },
    "kernelspec": {
      "name": "python3",
      "display_name": "Python 3"
    },
    "language_info": {
      "name": "python"
    }
  },
  "cells": [
    {
      "cell_type": "markdown",
      "metadata": {
        "id": "view-in-github",
        "colab_type": "text"
      },
      "source": [
        "<a href=\"https://colab.research.google.com/github/Burak9150/Python-soru-kutuphanesi/blob/main/Untitled25.ipynb\" target=\"_parent\"><img src=\"https://colab.research.google.com/assets/colab-badge.svg\" alt=\"Open In Colab\"/></a>"
      ]
    },
    {
      "cell_type": "code",
      "metadata": {
        "id": "NxTR_Is9ae3n"
      },
      "source": [
        ""
      ],
      "execution_count": null,
      "outputs": []
    },
    {
      "cell_type": "markdown",
      "metadata": {
        "id": "6rrm8uEYahvB"
      },
      "source": [
        " Girdi olarak m (satır) ve n (sütun) olmak üzere iki rakamı alan ve iki boyutlu bir dizi oluşturan bir Python programı yazınız. Dizinin i. satırı ve j. sütunundaki eleman değeri i*j olmalıdır.\n",
        "Not :\n",
        "i = 0,1.., m-1\n",
        "j = 0,1, n-1.\n",
        "Test Verisi : Satır = 3, Sütun = 4\n",
        "Beklenen Sonuç : [[0, 0, 0, 0], [0, 1, 2, 3], [0, 2, 4, 6]]\n"
      ]
    },
    {
      "cell_type": "code",
      "metadata": {
        "id": "jPzgvicN1-YX"
      },
      "source": [
        "satir = int(input('Satir sayisini giriniz > '))\n",
        "sutun = int(input('Sutun sayisini giriniz > '))\n",
        "dictt = {}\n",
        "for i in range(satir):\n",
        "    liste = []\n",
        "    for j in range(sutun):\n",
        "        a = i * j\n",
        "        liste.append(a)\n",
        "    dictt[i] = liste\n",
        "sonuc = [x for x in dictt.values()]\n",
        "print(sonuc)"
      ],
      "execution_count": null,
      "outputs": []
    },
    {
      "cell_type": "code",
      "metadata": {
        "id": "ubFFYY862cGt"
      },
      "source": [
        "row_num = int(input(\"Input number of rows: \"))\n",
        "col_num = int(input(\"Input number of columns: \"))\n",
        "multi_list = [[0 for col in range(col_num)] for row in range(row_num)]\n",
        "\n",
        "for row in range(row_num):\n",
        "    for col in range(col_num):\n",
        "        multi_list[row][col]= row*col\n",
        "\n",
        "print(multi_list)"
      ],
      "execution_count": null,
      "outputs": []
    }
  ]
}