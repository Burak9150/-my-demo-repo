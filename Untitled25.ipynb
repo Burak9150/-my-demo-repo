{
  "nbformat": 4,
  "nbformat_minor": 0,
  "metadata": {
    "colab": {
      "name": "Untitled25.ipynb",
      "provenance": [],
      "authorship_tag": "ABX9TyOvEnBwkq891IO2siaM2o9K",
      "include_colab_link": true
    },
    "kernelspec": {
      "name": "python3",
      "display_name": "Python 3"
    },
    "language_info": {
      "name": "python"
    }
  },
  "cells": [
    {
      "cell_type": "markdown",
      "metadata": {
        "id": "view-in-github",
        "colab_type": "text"
      },
      "source": [
        "<a href=\"https://colab.research.google.com/github/Burak9150/Python-soru-kutuphanesi/blob/main/Untitled25.ipynb\" target=\"_parent\"><img src=\"https://colab.research.google.com/assets/colab-badge.svg\" alt=\"Open In Colab\"/></a>"
      ]
    },
    {
      "cell_type": "code",
      "metadata": {
        "id": "NxTR_Is9ae3n"
      },
      "source": [
        ""
      ],
      "execution_count": null,
      "outputs": []
    },
    {
      "cell_type": "markdown",
      "metadata": {
        "id": "6rrm8uEYahvB"
      },
      "source": [
        "\n",
        "Görev: Bazı sahte grafikler zamanı! Diyelim ki şuna benzeyen oyun tahtaları çizmek istiyoruz:\n",
        " --- --- ---\n",
        "| | | |\n",
        " --- --- ---\n",
        "| | | |\n",
        " --- --- ---\n",
        "| | | |\n",
        " --- --- ---\n",
        "Bu 3x3'tür (tic tac toe'daki gibi). Açıkçası, başka birçok boyutta gelirler (satranç için 8x8, Go için 19x19 ve daha fazlası).\n",
        "Kullanıcıya hangi boyutta oyun tahtası çizmek istediğini sorun ve Python'un print deyimini kullanarak onlar için ekrana çizin."
      ]
    },
    {
      "cell_type": "code",
      "metadata": {
        "id": "FziEsXVPtHxR"
      },
      "source": [
        "print('Welcome to the Game!!!')\n",
        "size = input('What size of game board do you want me to draw? (e.g., 3X3) > ')\n",
        "row = int(size)\n",
        "column = int(size)\n",
        "row_print = \" ---\"\n",
        "column_print = \"|   \"\n",
        "for i in range(row):\n",
        "    print(row_print * column)\n",
        "    print(column_print * (column + 1))\n",
        "print(row_print * column)"
      ],
      "execution_count": null,
      "outputs": []
    },
    {
      "cell_type": "code",
      "metadata": {
        "id": "EwJj4uiStHtw"
      },
      "source": [
        "print('Welcome to the Game!!!')\n",
        "size = input('What size of game board do you want me to draw? (e.g., 3X3) > ')\n",
        "index = size.upper().find('X')\n",
        "row = int(size[:index])\n",
        "column = int(size[index +1 :])\n",
        "row_print = \" ---\"\n",
        "column_print = \"|   \"\n",
        "for i in range(row):\n",
        "    print(row_print * column)\n",
        "    print(column_print * (column + 1))\n",
        "print(row_print * column)"
      ],
      "execution_count": null,
      "outputs": []
    },
    {
      "cell_type": "code",
      "metadata": {
        "id": "vyMfPqhbtHqr"
      },
      "source": [
        "x = int(input(\"enter the line board size: \"))\n",
        "y = int(input(\"enter the column board size: \"))\n",
        "a = \" _ _ _ \"\n",
        "b = \"|\"\n",
        "print(x*(\" \" + a) + \"\\n\" + y*(x*(b + a)+ b + \"\\n\"))"
      ],
      "execution_count": null,
      "outputs": []
    },
    {
      "cell_type": "code",
      "metadata": {
        "id": "ChMcZRNotHoZ"
      },
      "source": [
        "matrix = int(input(\"A*A size of matrix, Enter A: \"))\n",
        "for i in range(0,matrix):\n",
        "  if i<matrix:\n",
        "    print(\"{}\\n{}|\".format(\" ---\"*matrix, \"|   \"*matrix))\n",
        "print(\"{}\".format(\" ---\"*matrix))"
      ],
      "execution_count": null,
      "outputs": []
    },
    {
      "cell_type": "code",
      "metadata": {
        "id": "SEDasv7ftHk5"
      },
      "source": [
        "a = int(input(\"What size of your game board? : \"))\n",
        "i = 0\n",
        "while i < a :\n",
        "    print(\" --- \"*a)\n",
        "    print(\"|    \"*(a+1))\n",
        "    i +=1\n",
        "print(\" --- \"*a)"
      ],
      "execution_count": null,
      "outputs": []
    },
    {
      "cell_type": "code",
      "metadata": {
        "id": "vOwqGXvitHiE"
      },
      "source": [
        ""
      ],
      "execution_count": null,
      "outputs": []
    },
    {
      "cell_type": "code",
      "metadata": {
        "id": "cLmuBaz1tHb3"
      },
      "source": [
        ""
      ],
      "execution_count": null,
      "outputs": []
    }
  ]
}