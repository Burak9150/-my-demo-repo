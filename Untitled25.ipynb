{
  "nbformat": 4,
  "nbformat_minor": 0,
  "metadata": {
    "colab": {
      "name": "Untitled25.ipynb",
      "provenance": [],
      "authorship_tag": "ABX9TyN5J4kyI9RD7c7c6ZN8KQS/",
      "include_colab_link": true
    },
    "kernelspec": {
      "name": "python3",
      "display_name": "Python 3"
    },
    "language_info": {
      "name": "python"
    }
  },
  "cells": [
    {
      "cell_type": "markdown",
      "metadata": {
        "id": "view-in-github",
        "colab_type": "text"
      },
      "source": [
        "<a href=\"https://colab.research.google.com/github/Burak9150/Python-soru-kutuphanesi/blob/main/Untitled25.ipynb\" target=\"_parent\"><img src=\"https://colab.research.google.com/assets/colab-badge.svg\" alt=\"Open In Colab\"/></a>"
      ]
    },
    {
      "cell_type": "code",
      "metadata": {
        "id": "NxTR_Is9ae3n"
      },
      "source": [
        ""
      ],
      "execution_count": null,
      "outputs": []
    },
    {
      "cell_type": "markdown",
      "metadata": {
        "id": "6rrm8uEYahvB"
      },
      "source": [
        " Floyd ücgeni olusturmayi deneyelim mi\n"
      ]
    },
    {
      "cell_type": "code",
      "metadata": {
        "id": "RLulaZ6f0fMn"
      },
      "source": [
        "sayı = int(input(\"sayı giriniz  : \"))\n",
        "x = 1\n",
        "for i in range(1, sayı + 1):\n",
        "    for j in range(1, i + 1):        \n",
        "        print(x, end = '  ')\n",
        "        x = x + 1\n",
        "    print()"
      ],
      "execution_count": null,
      "outputs": []
    },
    {
      "cell_type": "code",
      "metadata": {
        "id": "0E9A4noi1t35"
      },
      "source": [
        "number = int(input('Enter a number > '))\n",
        "num = 1\n",
        "satir = 1\n",
        "while num < number + 1:\n",
        "    for i in range(num, satir + num):\n",
        "        print(f\"{i:>5}\", end = '')\n",
        "    print()\n",
        "    num += satir\n",
        "    satir += 1"
      ],
      "execution_count": null,
      "outputs": []
    }
  ]
}