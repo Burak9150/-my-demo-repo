{
  "nbformat": 4,
  "nbformat_minor": 0,
  "metadata": {
    "colab": {
      "name": "Untitled25.ipynb",
      "provenance": [],
      "authorship_tag": "ABX9TyNmx/xNivzkW+fw9jrnRX/C",
      "include_colab_link": true
    },
    "kernelspec": {
      "name": "python3",
      "display_name": "Python 3"
    },
    "language_info": {
      "name": "python"
    }
  },
  "cells": [
    {
      "cell_type": "markdown",
      "metadata": {
        "id": "view-in-github",
        "colab_type": "text"
      },
      "source": [
        "<a href=\"https://colab.research.google.com/github/Burak9150/Python-soru-kutuphanesi/blob/main/Untitled25.ipynb\" target=\"_parent\"><img src=\"https://colab.research.google.com/assets/colab-badge.svg\" alt=\"Open In Colab\"/></a>"
      ]
    },
    {
      "cell_type": "code",
      "metadata": {
        "id": "NxTR_Is9ae3n"
      },
      "source": [
        ""
      ],
      "execution_count": null,
      "outputs": []
    },
    {
      "cell_type": "markdown",
      "metadata": {
        "id": "6rrm8uEYahvB"
      },
      "source": [
        "Numbers = [18,21,14,84,65,35,10,20,28,42,24,91,5,7,54,69]\n",
        "Numbers listesi içindeki sayılardan 7’ e bölünebilenleri küçükten büyüğe doğru olacak şeklide listeleyin. Ayrıca kaç tanesinin 7’ e bölünebildiğini yazdırın."
      ]
    },
    {
      "cell_type": "code",
      "metadata": {
        "id": "44gmNoiYvOG-"
      },
      "source": [
        "Numbers = [18,21,14,84,65,35,10,20,28,42,24,91,5,7,54,69]\n",
        "division_by_seven =[]\n",
        "for i in Numbers:\n",
        "  if i % 7 == 0:\n",
        "    division_by_seven.append(i)\n",
        "print(sorted(division_by_seven))\n",
        "print(len(division_by_seven))"
      ],
      "execution_count": null,
      "outputs": []
    },
    {
      "cell_type": "code",
      "metadata": {
        "id": "lnsrPWWmvOsC"
      },
      "source": [
        "numbers = [18,21,14,84,65,35,10,20,28,42,24,91,5,7,54,69]\n",
        "new_list = []\n",
        "for i in numbers:\n",
        "    if i % 7 == 0:\n",
        "        new_list.append(i)\n",
        "new_list.sort()\n",
        "print(new_list)\n",
        "print(f'{len(new_list)} out of {len(numbers)} numbers in the given list can be divided by 7.')"
      ],
      "execution_count": null,
      "outputs": []
    },
    {
      "cell_type": "code",
      "metadata": {
        "id": "njkF362avOke"
      },
      "source": [
        "numbers = [18,21,14,84,65,35,10,20,28,42,24,91,5,7,54,69]\n",
        "liste=[]\n",
        "total=0\n",
        "for i in numbers:\n",
        "  if i%7==0:\n",
        "    liste.append(i)\n",
        "    liste.sort()\n",
        "for j in liste:\n",
        "  total+=1\n",
        "print(total)\n",
        "print(liste)"
      ],
      "execution_count": null,
      "outputs": []
    }
  ]
}