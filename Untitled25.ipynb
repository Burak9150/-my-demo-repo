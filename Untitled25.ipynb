{
  "nbformat": 4,
  "nbformat_minor": 0,
  "metadata": {
    "colab": {
      "name": "Untitled25.ipynb",
      "provenance": [],
      "authorship_tag": "ABX9TyPBaq+JBzJ6prpv+SS3qZxZ",
      "include_colab_link": true
    },
    "kernelspec": {
      "name": "python3",
      "display_name": "Python 3"
    },
    "language_info": {
      "name": "python"
    }
  },
  "cells": [
    {
      "cell_type": "markdown",
      "metadata": {
        "id": "view-in-github",
        "colab_type": "text"
      },
      "source": [
        "<a href=\"https://colab.research.google.com/github/Burak9150/Python-soru-kutuphanesi/blob/main/Untitled25.ipynb\" target=\"_parent\"><img src=\"https://colab.research.google.com/assets/colab-badge.svg\" alt=\"Open In Colab\"/></a>"
      ]
    },
    {
      "cell_type": "code",
      "metadata": {
        "id": "NxTR_Is9ae3n"
      },
      "source": [
        ""
      ],
      "execution_count": null,
      "outputs": []
    },
    {
      "cell_type": "markdown",
      "metadata": {
        "id": "6rrm8uEYahvB"
      },
      "source": [
        "Bir sayı veya dizi listesi alan ve orijinal listedeki öğelerin alt listelerde saklandığı bir liste döndüren bir çözüm yapın. Aynı değerdeki öğeler aynı alt listede olmalıdır. Örnekler\n",
        "[2, 1, 2, 1] ➞ [[2, 2], [1, 1]], [5, 4, 5, 5, 4, 3] ➞ [[5, 5, 5], [4, 4], [3]], [\"b\", \"a\", \"b\", \"a\", \"c\"] ➞ [[\"b\", \"b\"], [\"a\", \"a\"] , [\"C\"]]\n",
        "Notlar\n",
        "Alt listeler, verilen listedeki her öğenin ilk görünüm sırasına göre döndürülmelidir.\n"
      ]
    },
    {
      "cell_type": "code",
      "metadata": {
        "id": "hZaKpCTmx33y"
      },
      "source": [
        "checking_list = [2, 1, 2, 1]\n",
        "new_list = []\n",
        "dictionary = {}\n",
        "for i in checking_list:\n",
        "    dictionary[i] = [i]\n",
        "    for a in range(len(checking_list)):\n",
        "        if i == checking_list[a]:\n",
        "            dictionary[i] = [i]\n",
        "            dictionary[i].append(i)\n",
        "a = [i for i in dictionary.values()]\n",
        "print(a)"
      ],
      "execution_count": null,
      "outputs": []
    },
    {
      "cell_type": "code",
      "metadata": {
        "id": "ms0EM1clx30w"
      },
      "source": [
        "liste=[2, 1, 2, 1,3]\n",
        "liste1={}\n",
        "for i in liste:\n",
        " if i in liste1:\n",
        "   liste1[i].append(i)\n",
        " else:\n",
        "    liste1[i]=[i]\n",
        "print(list(liste1.values()))"
      ],
      "execution_count": null,
      "outputs": []
    },
    {
      "cell_type": "code",
      "metadata": {
        "id": "_LpwcdSrx3xk"
      },
      "source": [
        "dicc={}\n",
        "liste = [1, 'a', 2, 'b', 1, 'c', 2, 1, 'a', 'c', 2, 1, 2, 2, 1, 'a', 'b', 'a', 'b', 1, 2, 'c', 'c']\n",
        "for char in liste:dicc[char]=[]\n",
        "dickeys=[chardic for chardic in dicc.keys()]\n",
        "sayac=0\n",
        "while sayac<len(liste):\n",
        "       if liste[sayac] in dickeys:\n",
        "           dicc[liste[sayac]].append(liste[sayac])\n",
        "       sayac +=1\n",
        "print(dicc.values())"
      ],
      "execution_count": null,
      "outputs": []
    },
    {
      "cell_type": "code",
      "metadata": {
        "id": "BGQsdKFuyEfy"
      },
      "source": [
        "liste = [1, 'a', 2, 'b', 1, 'c', 2, 1, 'a', 'c', 2, 1, 2, 2, 1, 'a', 'b', 'a', 'b', 1, 2, 'c', 'c']\n",
        "listim, setim = [] , set()\n",
        "for i in liste:\n",
        "    if i not in setim:\n",
        "        listim.append([i for x in range(liste.count(i))])\n",
        "        setim.add(i)\n",
        "print(listim)"
      ],
      "execution_count": null,
      "outputs": []
    },
    {
      "cell_type": "code",
      "metadata": {
        "id": "Ql80a3A9yEaU"
      },
      "source": [
        "liste = [1, 'a', 2, 'b', 1, 'c', 2, 1, 'a', 'c', 2, 1, 2, 2, 1, 'a', 'b', 'a', 'b', 1, 2, 'c', 'c']\n",
        "listim, setim = [] , set()\n",
        "for i in liste:\n",
        "    if i not in setim:\n",
        "        listim.append(list(str(i))*liste.count(i))\n",
        "        setim.add(i)\n",
        "print(listim)"
      ],
      "execution_count": null,
      "outputs": []
    },
    {
      "cell_type": "code",
      "metadata": {
        "id": "NHFDw-UJyEWp"
      },
      "source": [
        "dictt = {}\n",
        "list = [1, 'a', 2, 'b', 1, 'c', 2, 1, 'a', 'c', 2, 1, 2, 2, 1, 'a', 'b', 'a', 'b', 1, 2, 'c', 'c']\n",
        "for i in list:\n",
        "    if i not in dictt:\n",
        "        dictt[i] = [i]\n",
        "    else:\n",
        "        dictt[i].append(i)\n",
        "result = [i for i in dictt.values()]\n",
        "print(result)"
      ],
      "execution_count": null,
      "outputs": []
    }
  ]
}