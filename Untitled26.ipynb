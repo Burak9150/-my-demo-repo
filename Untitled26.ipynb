{
  "nbformat": 4,
  "nbformat_minor": 0,
  "metadata": {
    "colab": {
      "name": "Untitled26.ipynb",
      "provenance": [],
      "authorship_tag": "ABX9TyP4KS8QPhVZv3833mdY4rOU",
      "include_colab_link": true
    },
    "kernelspec": {
      "name": "python3",
      "display_name": "Python 3"
    },
    "language_info": {
      "name": "python"
    }
  },
  "cells": [
    {
      "cell_type": "markdown",
      "metadata": {
        "id": "view-in-github",
        "colab_type": "text"
      },
      "source": [
        "<a href=\"https://colab.research.google.com/github/Burak9150/Python-soru-kutuphanesi/blob/main/Untitled26.ipynb\" target=\"_parent\"><img src=\"https://colab.research.google.com/assets/colab-badge.svg\" alt=\"Open In Colab\"/></a>"
      ]
    },
    {
      "cell_type": "code",
      "metadata": {
        "colab": {
          "base_uri": "https://localhost:8080/"
        },
        "id": "ETp-pIv48TSx",
        "outputId": "8fdb0a3e-2642-4851-b0d5-952aa4281868"
      },
      "source": [
        "for i in range(1,51):\n",
        "  if i%3==0 and i%5!=0:\n",
        "    print(i ,\"3 ün katı :\",\"fizz\")\n",
        "  elif i%3!=0 and i%5==0:\n",
        "    print(i ,\"5 in katı :\",\"buzz\")\n",
        "  elif i%15==0:\n",
        "    print(i ,\"hem 3 ün hem 5 in katı : \",\"fizzbuzz\")\n",
        "  else:\n",
        "    pass"
      ],
      "execution_count": 6,
      "outputs": [
        {
          "output_type": "stream",
          "text": [
            "3 3 ün katı : fizz\n",
            "5 5 in katı : buzz\n",
            "6 3 ün katı : fizz\n",
            "9 3 ün katı : fizz\n",
            "10 5 in katı : buzz\n",
            "12 3 ün katı : fizz\n",
            "15 hem 3 ün hem 5 in katı :  fizzbuzz\n",
            "18 3 ün katı : fizz\n",
            "20 5 in katı : buzz\n",
            "21 3 ün katı : fizz\n",
            "24 3 ün katı : fizz\n",
            "25 5 in katı : buzz\n",
            "27 3 ün katı : fizz\n",
            "30 hem 3 ün hem 5 in katı :  fizzbuzz\n",
            "33 3 ün katı : fizz\n",
            "35 5 in katı : buzz\n",
            "36 3 ün katı : fizz\n",
            "39 3 ün katı : fizz\n",
            "40 5 in katı : buzz\n",
            "42 3 ün katı : fizz\n",
            "45 hem 3 ün hem 5 in katı :  fizzbuzz\n",
            "48 3 ün katı : fizz\n",
            "50 5 in katı : buzz\n"
          ],
          "name": "stdout"
        }
      ]
    },
    {
      "cell_type": "code",
      "metadata": {
        "colab": {
          "base_uri": "https://localhost:8080/"
        },
        "id": "4GOyZsGs_AL5",
        "outputId": "16215d3a-8ba0-485f-8e19-c1a05b7b1652"
      },
      "source": [
        "items = []\n",
        "for i in range(100, 401):\n",
        "    s = str(i)\n",
        "    if (int(s[0])%2==0) and (int(s[1])%2==0) and (int(s[2])%2==0):\n",
        "        items.append(s)\n",
        "print( \",\".join(items))"
      ],
      "execution_count": 23,
      "outputs": [
        {
          "output_type": "stream",
          "text": [
            "200,202,204,206,208,220,222,224,226,228,240,242,244,246,248,260,262,264,266,268,280,282,284,286,288,400\n"
          ],
          "name": "stdout"
        }
      ]
    }
  ]
}