{
  "nbformat": 4,
  "nbformat_minor": 0,
  "metadata": {
    "colab": {
      "name": "Untitled27.ipynb",
      "provenance": [],
      "authorship_tag": "ABX9TyPY1p3ZOkGkT35FUPFb90+X",
      "include_colab_link": true
    },
    "kernelspec": {
      "name": "python3",
      "display_name": "Python 3"
    },
    "language_info": {
      "name": "python"
    }
  },
  "cells": [
    {
      "cell_type": "markdown",
      "metadata": {
        "id": "view-in-github",
        "colab_type": "text"
      },
      "source": [
        "<a href=\"https://colab.research.google.com/github/Burak9150/Python-soru-kutuphanesi/blob/main/Untitled27.ipynb\" target=\"_parent\"><img src=\"https://colab.research.google.com/assets/colab-badge.svg\" alt=\"Open In Colab\"/></a>"
      ]
    },
    {
      "cell_type": "markdown",
      "metadata": {
        "id": "Xvq-3rY_PD-y"
      },
      "source": [
        ""
      ]
    },
    {
      "cell_type": "code",
      "metadata": {
        "id": "QESkG0PZPAoP"
      },
      "source": [
        "number = input('Enter a number > ')\n",
        "total = 0\n",
        "sayac = 1\n",
        "for i in number:\n",
        "    total = (int(i) ** sayac) + total\n",
        "    sayac += 1\n",
        "print(total)\n",
        "if total == int(number):\n",
        "    print('{} is a Disarium number.'.format(number))\n",
        "else:\n",
        "    print('{} is not a Disarium number.'.format(number))"
      ],
      "execution_count": null,
      "outputs": []
    }
  ]
}