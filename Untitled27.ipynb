{
  "nbformat": 4,
  "nbformat_minor": 0,
  "metadata": {
    "colab": {
      "name": "Untitled27.ipynb",
      "provenance": [],
      "authorship_tag": "ABX9TyNyS70dXHhDT+VvcOzziDAx",
      "include_colab_link": true
    },
    "kernelspec": {
      "name": "python3",
      "display_name": "Python 3"
    },
    "language_info": {
      "name": "python"
    }
  },
  "cells": [
    {
      "cell_type": "markdown",
      "metadata": {
        "id": "view-in-github",
        "colab_type": "text"
      },
      "source": [
        "<a href=\"https://colab.research.google.com/github/Burak9150/Python-soru-kutuphanesi/blob/main/Untitled27.ipynb\" target=\"_parent\"><img src=\"https://colab.research.google.com/assets/colab-badge.svg\" alt=\"Open In Colab\"/></a>"
      ]
    },
    {
      "cell_type": "markdown",
      "metadata": {
        "id": "Xvq-3rY_PD-y"
      },
      "source": [
        ""
      ]
    },
    {
      "cell_type": "code",
      "metadata": {
        "id": "QESkG0PZPAoP"
      },
      "source": [
        "liste = []\n",
        "while True:\n",
        "    try:\n",
        "        giris = input(\"Enter a number or 'q' to quit > \")\n",
        "        int(giris)\n",
        "        liste.append(int(giris))\n",
        "    except:\n",
        "        print('Cikis yaptiniz ya da yanlis bir tusa bastiniz.')\n",
        "        break\n",
        "liste.sort()\n",
        "print(liste)\n",
        "deger = len(liste)\n",
        "if deger % 2 == 0:\n",
        "    nott = deger //2\n",
        "    medyan = (liste[nott - 1] + liste[nott]) / 2\n",
        "else:\n",
        "    nott = (deger + 1) // 2\n",
        "    medyan = liste[nott - 1]\n",
        "print(f'Medyan: {medyan}')"
      ],
      "execution_count": null,
      "outputs": []
    }
  ]
}