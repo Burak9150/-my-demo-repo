{
  "nbformat": 4,
  "nbformat_minor": 0,
  "metadata": {
    "colab": {
      "name": "Untitled28.ipynb",
      "provenance": [],
      "authorship_tag": "ABX9TyOECrWBKQtpZhy6Ivox5O3t",
      "include_colab_link": true
    },
    "kernelspec": {
      "name": "python3",
      "display_name": "Python 3"
    },
    "language_info": {
      "name": "python"
    }
  },
  "cells": [
    {
      "cell_type": "markdown",
      "metadata": {
        "id": "view-in-github",
        "colab_type": "text"
      },
      "source": [
        "<a href=\"https://colab.research.google.com/github/Burak9150/Python-soru-kutuphanesi/blob/main/Untitled28.ipynb\" target=\"_parent\"><img src=\"https://colab.research.google.com/assets/colab-badge.svg\" alt=\"Open In Colab\"/></a>"
      ]
    },
    {
      "cell_type": "code",
      "metadata": {
        "colab": {
          "base_uri": "https://localhost:8080/"
        },
        "id": "vmH7puMa8qQ2",
        "outputId": "17d17762-c851-4969-987e-af6fa0f282a2"
      },
      "source": [
        "sayı=int(input(\"sayı giriniz : \"))\n",
        "\n",
        "\n",
        "if sayı>2:\n",
        " for i in range(2,sayı):\n",
        "  \n",
        "  if (sayı%i)==0 :\n",
        "    x=\"asal sayı değil\"\n",
        "    break\n",
        "  else:\n",
        "    x=\"asal sayı\"\n",
        " print(sayı,\"bir\" ,x)   \n",
        "\n",
        "elif sayı==2:\n",
        "  print(sayı ,\"bir asal sayı\")\n",
        "else:\n",
        "  print(sayı ,\"bir asal sayı değil\")"
      ],
      "execution_count": 4,
      "outputs": [
        {
          "output_type": "stream",
          "text": [
            "sayı giriniz : 4\n",
            "4 bir asal sayı değil\n"
          ],
          "name": "stdout"
        }
      ]
    }
  ]
}