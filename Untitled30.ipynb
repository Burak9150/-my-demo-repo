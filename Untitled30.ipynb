{
  "nbformat": 4,
  "nbformat_minor": 0,
  "metadata": {
    "colab": {
      "name": "Untitled30.ipynb",
      "provenance": [],
      "authorship_tag": "ABX9TyO9xXKfWoQQ9sGTUhxHfpmS",
      "include_colab_link": true
    },
    "kernelspec": {
      "name": "python3",
      "display_name": "Python 3"
    },
    "language_info": {
      "name": "python"
    }
  },
  "cells": [
    {
      "cell_type": "markdown",
      "metadata": {
        "id": "view-in-github",
        "colab_type": "text"
      },
      "source": [
        "<a href=\"https://colab.research.google.com/github/Burak9150/Python-soru-kutuphanesi/blob/main/Untitled30.ipynb\" target=\"_parent\"><img src=\"https://colab.research.google.com/assets/colab-badge.svg\" alt=\"Open In Colab\"/></a>"
      ]
    },
    {
      "cell_type": "code",
      "metadata": {
        "colab": {
          "base_uri": "https://localhost:8080/"
        },
        "id": "qOshtZ-v0RlF",
        "outputId": "6f60cea9-7419-4c68-9542-bdc88556ed46"
      },
      "source": [
        "x=[1,1,2]\n",
        "for i in range(1,8):\n",
        "  y=x[-1]+x[-2]\n",
        "  x.append(y)\n",
        "print(x)"
      ],
      "execution_count": 1,
      "outputs": [
        {
          "output_type": "stream",
          "text": [
            "[1, 1, 2, 3, 5, 8, 13, 21, 34, 55]\n"
          ],
          "name": "stdout"
        }
      ]
    }
  ]
}