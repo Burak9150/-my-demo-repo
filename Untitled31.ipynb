{
  "nbformat": 4,
  "nbformat_minor": 0,
  "metadata": {
    "colab": {
      "name": "Untitled31.ipynb",
      "provenance": [],
      "authorship_tag": "ABX9TyOYcBvRktZv44/SuQx4V+1l",
      "include_colab_link": true
    },
    "kernelspec": {
      "name": "python3",
      "display_name": "Python 3"
    },
    "language_info": {
      "name": "python"
    }
  },
  "cells": [
    {
      "cell_type": "markdown",
      "metadata": {
        "id": "view-in-github",
        "colab_type": "text"
      },
      "source": [
        "<a href=\"https://colab.research.google.com/github/Burak9150/Python-soru-kutuphanesi/blob/main/Untitled31.ipynb\" target=\"_parent\"><img src=\"https://colab.research.google.com/assets/colab-badge.svg\" alt=\"Open In Colab\"/></a>"
      ]
    },
    {
      "cell_type": "markdown",
      "metadata": {
        "id": "tMzrSGtv6_hZ"
      },
      "source": [
        "Fonksiyon kullanarak yarıçapı girilen dairenin alanını hesaplayan Python programı"
      ]
    },
    {
      "cell_type": "code",
      "metadata": {
        "colab": {
          "base_uri": "https://localhost:8080/"
        },
        "id": "sAEZ-Q4A6-Pq",
        "outputId": "fd3c2146-db5e-4dbe-aa80-a04247c64bec"
      },
      "source": [
        "\n",
        "def daireAlan(yaricap):\n",
        "    alan = float(yaricap) * float(yaricap)*3.14\n",
        "    print (\"Alan :\",alan)\n",
        "    return alan\n",
        " \n",
        "r = input(\"Yarıçapı Gir :\")\n",
        " \n",
        "daireAlan(r)"
      ],
      "execution_count": 1,
      "outputs": [
        {
          "output_type": "stream",
          "text": [
            "Yarıçapı Gir :6\n",
            "Alan : 113.04\n"
          ],
          "name": "stdout"
        },
        {
          "output_type": "execute_result",
          "data": {
            "text/plain": [
              "113.04"
            ]
          },
          "metadata": {
            "tags": []
          },
          "execution_count": 1
        }
      ]
    }
  ]
}