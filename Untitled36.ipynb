{
  "nbformat": 4,
  "nbformat_minor": 0,
  "metadata": {
    "colab": {
      "name": "Untitled36.ipynb",
      "provenance": [],
      "authorship_tag": "ABX9TyPLDbVqbc6yU8WL999CWOtM",
      "include_colab_link": true
    },
    "kernelspec": {
      "name": "python3",
      "display_name": "Python 3"
    },
    "language_info": {
      "name": "python"
    }
  },
  "cells": [
    {
      "cell_type": "markdown",
      "metadata": {
        "id": "view-in-github",
        "colab_type": "text"
      },
      "source": [
        "<a href=\"https://colab.research.google.com/github/Burak9150/Python-soru-kutuphanesi/blob/main/Untitled36.ipynb\" target=\"_parent\"><img src=\"https://colab.research.google.com/assets/colab-badge.svg\" alt=\"Open In Colab\"/></a>"
      ]
    },
    {
      "cell_type": "code",
      "metadata": {
        "id": "hRfho1cMq-ge"
      },
      "source": [
        ""
      ],
      "execution_count": null,
      "outputs": []
    },
    {
      "cell_type": "markdown",
      "metadata": {
        "id": "Wype1Tkzq_DN"
      },
      "source": [
        "Dize olarak eksik bir palindrom verildiğinde , dizeyi palindrom yapmak için sonuna eklenmesi gereken minimum harfleri döndürün .\n",
        "Örnekler\n",
        "min_palindrome_steps(\"race\") ➞ 3\n",
        "# Add 3 letters: \"car\" to make \"racecar\"\n",
        "\n",
        "min_palindrome_steps(\"mada\") ➞ 1\n",
        "# Add 1 letter: \"m\" to make \"madam\"\n",
        "\n",
        "min_palindrome_steps(\"mirror\") ➞ 3\n",
        "# Add 3 letters: \"rim\" to make \"mirrorrim\""
      ]
    },
    {
      "cell_type": "code",
      "metadata": {
        "colab": {
          "base_uri": "https://localhost:8080/"
        },
        "id": "wv2hDjVsrId1",
        "outputId": "2b68f4c4-9063-4b05-9a47-b6a868177585"
      },
      "source": [
        "def cal_minSteps(s):\n",
        "    \n",
        "    slist = list(s)\n",
        "    counter = 0\n",
        "    \n",
        "    for i in range(0, len(slist), 1):\n",
        "        rlist = slist[i:]\n",
        "        if rlist != rlist[::-1]:\n",
        "            counter += 1\n",
        "        else:\n",
        "            break\n",
        "            \n",
        "    return counter\n",
        "cal_minSteps(\"race\")"
      ],
      "execution_count": 8,
      "outputs": [
        {
          "output_type": "execute_result",
          "data": {
            "text/plain": [
              "3"
            ]
          },
          "metadata": {
            "tags": []
          },
          "execution_count": 8
        }
      ]
    },
    {
      "cell_type": "code",
      "metadata": {
        "colab": {
          "base_uri": "https://localhost:8080/"
        },
        "id": "oQLfLC2PrUeF",
        "outputId": "ba3c6acf-6f5c-4043-a1bf-112993332fb4"
      },
      "source": [
        "text = input('Enter a text > ')\n",
        "text2 = text\n",
        "rev = text[::-1]\n",
        "sayac = 0\n",
        "for i in range(len(text2)):\n",
        "    text = text[1:]\n",
        "    rev = rev[:-1]\n",
        "    sayac += 1\n",
        "    if text == rev:\n",
        "        break\n",
        "which = text2[:sayac]\n",
        "which_reverse = which[::-1]\n",
        "print(f'''\n",
        "We need minimum {sayac} letters to be added to the end of {text2},\n",
        "These {sayac} letter is/are {which_reverse}.\n",
        "Thus, our palindrom is {text2 + which_reverse}.''')"
      ],
      "execution_count": 2,
      "outputs": [
        {
          "output_type": "stream",
          "text": [
            "Enter a text > race\n"
          ],
          "name": "stdout"
        }
      ]
    },
    {
      "cell_type": "code",
      "metadata": {
        "id": "irnBvZ-ArY_T"
      },
      "source": [
        "def min_palindrome_steps(txt):\n",
        "    if txt == txt[::-1]:\n",
        "        return 0\n",
        "    else:\n",
        "        a = list(txt)\n",
        "        a = a + [a[0]]\n",
        "        count = 1\n",
        "        if a == a[::-1]:\n",
        "            return count\n",
        "        else:\n",
        "            for i in range(1,len(a)):\n",
        "                count += 1\n",
        "                a.insert(-i,a[i])\n",
        "                if a == a[::-1]:\n",
        "                    break\n",
        "    return count"
      ],
      "execution_count": 6,
      "outputs": []
    }
  ]
}