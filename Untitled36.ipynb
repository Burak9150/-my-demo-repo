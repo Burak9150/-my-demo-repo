{
  "nbformat": 4,
  "nbformat_minor": 0,
  "metadata": {
    "colab": {
      "name": "Untitled36.ipynb",
      "provenance": [],
      "authorship_tag": "ABX9TyOfWsQhhvDfwv6ki8FYZ7lq",
      "include_colab_link": true
    },
    "kernelspec": {
      "name": "python3",
      "display_name": "Python 3"
    },
    "language_info": {
      "name": "python"
    }
  },
  "cells": [
    {
      "cell_type": "markdown",
      "metadata": {
        "id": "view-in-github",
        "colab_type": "text"
      },
      "source": [
        "<a href=\"https://colab.research.google.com/github/Burak9150/Python-soru-kutuphanesi/blob/main/Untitled36.ipynb\" target=\"_parent\"><img src=\"https://colab.research.google.com/assets/colab-badge.svg\" alt=\"Open In Colab\"/></a>"
      ]
    },
    {
      "cell_type": "code",
      "metadata": {
        "id": "hRfho1cMq-ge"
      },
      "source": [
        ""
      ],
      "execution_count": null,
      "outputs": []
    },
    {
      "cell_type": "markdown",
      "metadata": {
        "id": "p8-DM90rsYyd"
      },
      "source": [
        "Bir markete gittiniz. Markette her ürünün bir kod numarası var.\n",
        "1 : Domates 2 : Soğan 3 : Biber 4 : Yumurta 5 : Elma 6 : Armut ... vs. şeklinde.\n",
        "Kullanıcıya almak istediği ürünü sorunuz ve kod numarası ile seçim yaptırınız. Çıkış için \"q\" opsiyonunu sununuz. Kullanıcının her ürün seçimi sonrası \" .... domates sepete eklendi\" gibi bir dönüt veriniz. Kullanıcı ürün almaya devam ettikçe ürünleri bir listede toplayınız, almaktan vazgeçtiği durumda teşekkür edip, aldığı toplam ürünleri çıktı veren bir kod yazınız.\n",
        "Beklenen Çıktı:\n",
        "Teşekkür Ederiz...\n",
        "Sepetinizde Bulunan Ürünler: elma, armut, yumurta ... vs."
      ]
    },
    {
      "cell_type": "code",
      "metadata": {
        "id": "b5DjmuE6sJL5"
      },
      "source": [
        "dictt = {1 : 'Domates', 2 : 'Sogan', 3 : 'Biber', 4 : 'Yumurta', 5 : 'Elma', 6 : 'Armut'}\n",
        "liste = []\n",
        "print('''\n",
        "Hosgeldiniz!\n",
        "Domates icin 1'i, Sogan icin 2'yi, Biber icin 3'u, Yumurta icin 4'u, Elma icin 5'i, Armut icin 6'yi seciniz.\n",
        "************************************************************************************************************''')\n",
        "while True:\n",
        "    try:\n",
        "        secim = input(\"Secmek istediginiz urunun numarasini giriniz ya da cikmak icin 'q' tusuna basiniz. > \")\n",
        "        if secim.lower() == 'q':\n",
        "            break\n",
        "        int(secim)\n",
        "        if dictt[int(secim)] not in liste:\n",
        "            liste.append(dictt[int(secim)])\n",
        "            print(f'{dictt[int(secim)]} sepetinize eklendi.')\n",
        "        else:\n",
        "            print(f'{dictt[int(secim)]} sepetinizde bulunmaktadir.')\n",
        "    except:\n",
        "        print(f'Yanlis bir tusa bastiniz. Lutfen tekrar secim yapin.')\n",
        "print('''\n",
        "************************************************************************************************************\n",
        "Bizi tercih ettiginiz icin tesekkurler.\n",
        "Satin aldiginiz urunler:''')\n",
        "for i in liste:\n",
        "    print(i, end = '  ')\n",
        ":100:\n",
        "1\n",
        "\n"
      ],
      "execution_count": null,
      "outputs": []
    },
    {
      "cell_type": "code",
      "metadata": {
        "id": "TyduvKvTsI_R"
      },
      "source": [
        "dictt = {1 : 'Domates', 2 : 'Sogan', 3 : 'Biber', 4 : 'Yumurta', 5 : 'Elma', 6 : 'Armut'}\n",
        "liste = []\n",
        "print(\" Hosgeldiniz!\\\n",
        "Domates icin 1'i, Sogan icin 2'yi, Biber icin 3'u, \\\n",
        "Yumurta icin 4'u, Elma icin 5'i, Armut icin 6'yi seciniz. Cikmak icin Q ya basiniz\")\n",
        "\n",
        "while True:\n",
        "    result= input(\"Secmek istediginiz urunun numarasini giriniz ya da cikmak icin 'q' tusuna basiniz.\").lower()\n",
        "    \n",
        "    if result==\"q\":\n",
        "        print(\"cikis yapiliyor\")\n",
        "        break\n",
        "    elif dictt[int(result)]==1 or 2 or 3 or 4 or 5 or 6:\n",
        "            liste.append(dictt[int(result)])\n",
        "            \n",
        "    else:\n",
        "        print(\"dukkanda yok, yanlis secim gule gule \")\n",
        "        break\n",
        "print(liste)\n",
        "for i in range(5):\n",
        "\n",
        "    print(\"urun = {}  sayisi = {}\" .format( liste[i] , liste.count(dictt[i+1])) )"
      ],
      "execution_count": null,
      "outputs": []
    },
    {
      "cell_type": "code",
      "metadata": {
        "id": "3KZtWzUrsIjc"
      },
      "source": [
        "dictt = {1 : 'Domates', 2 : 'Sogan', 3 : 'Biber', 4 : 'Yumurta', 5 : 'Elma', 6 : 'Armut'}\n",
        "liste = []\n",
        "print('''\n",
        "Hosgeldiniz!\n",
        "Domates icin 1'i, Sogan icin 2'yi, Biber icin 3'u, Yumurta icin 4'u, Elma icin 5'i, Armut icin 6'yi seciniz.\n",
        "************************************************************************************************************''')\n",
        "while True:\n",
        "    secim = input(\"Secmek istediginiz urunun numarasini giriniz ya da cikmak icin 'q' tusuna basiniz. > \")\n",
        "    if secim.lower() == 'q':\n",
        "        break\n",
        "    elif secim in ['1', '2', '3', '4', '5', '6']:\n",
        "        if dictt[int(secim)] not in liste:\n",
        "            liste.append(dictt[int(secim)])\n",
        "            print(f'{dictt[int(secim)]} sepetinize eklendi.')\n",
        "        else:\n",
        "            print(f'{dictt[int(secim)]} sepetinizde bulunmaktadir.')\n",
        "    else:\n",
        "        print(f'Yanlis bir tusa bastiniz. Lutfen tekrar secim yapin.')\n",
        "print('''\n",
        "************************************************************************************************************\n",
        "Bizi tercih ettiginiz icin tesekkurler.''')\n",
        "print('Satin aldiginiz urunler: ', end = '')\n",
        "for i in liste:\n",
        "    print(i, end = ' ')"
      ],
      "execution_count": null,
      "outputs": []
    },
    {
      "cell_type": "code",
      "metadata": {
        "id": "vZOznfTlsn6F"
      },
      "source": [
        "dic = {1 : ‘Domates’, 2 : ‘Sogan’, 3 : ‘Biber’, 4 : ‘Yumurta’, 5 : ‘Elma’, 6 : ‘Armut’}\n",
        "ls = []\n",
        "select = ‘’\n",
        "print(‘’'\n",
        "Hosgeldiniz!\n",
        "Domates icin 1'i, Sogan icin 2'yi, Biber icin 3'u, Yumurta icin 4'u, Elma icin 5'i, Armut icin 6'yi seciniz.\n",
        "Alisverisi sonlandirmak icin ‘q’ tusuna basiniz\n",
        "-----------------------------------------------‘’')\n",
        "while select != ‘q’:\n",
        "    select = input(‘Sepete ekle=> ’)\n",
        "    if select == ‘q’:\n",
        "        print(‘-----------------------------------------------’)\n",
        "        print(‘Teşekkür Ederiz...’)\n",
        "        print(‘Sepetinizde Bulunan Ürünler: ‘)\n",
        "        for i in ls:\n",
        "            print(i, end=’ ’)\n",
        "        break\n",
        "    elif int(select) in dic.keys():\n",
        "        ls.append(dic[int(select)])\n",
        "    else:\n",
        "        print(‘hatali giris! Lutfen tekrar giriniz.’)"
      ],
      "execution_count": null,
      "outputs": []
    },
    {
      "cell_type": "code",
      "metadata": {
        "id": "MZya9EXlsq8Z"
      },
      "source": [
        "print(\"welcome the Palace Market\")\n",
        "dict_product = {1 : \"Peynir\", 2 : \"Zeytin\", 3 : \"Yumurta\", 4 : \"Reçel\", 5 : \"Bal\", 6 : \"Domates\", 7 : \"Salatalık\", 8 : \"Soğan\" , 9 : \"Patates\", 10 : \"Ejder Meyvesi\"}\n",
        "print(\"\"\"1 : \"Peynir\", 2 : \"Zeytin\", 3 : \"Yumurta\", 4 : \"Reçel\", 5 : \"Bal\", 6 : \"Domates\", 7 : \"Salatalık\", 8 : \"Soğan\" , 9 : \"Patates\", 10 : \"Ejder Meyvesi\" \"\"\")\n",
        "list_of_products = []\n",
        "while True:\n",
        "  select = input(\"please enter the product number: \")\n",
        "  if select.lower() == \"q\":\n",
        "    print(\"thank you for shopping...\")\n",
        "    print(list_of_products)\n",
        "    break\n",
        "  elif int(select) in dict_product:\n",
        "    v = dict_product[int(select)]\n",
        "    list_of_products.append(v)\n",
        "    print(f\"{dict_product[int(select)]} added to the list\")"
      ],
      "execution_count": null,
      "outputs": []
    },
    {
      "cell_type": "code",
      "metadata": {
        "id": "mtViCizHstsT"
      },
      "source": [
        "products = {1 : 'Tomato', 2 : 'Onion', 3 : 'Pepper', 4 : 'Milk', 5 : 'Egg', 6 : 'Apple', 7 : 'Pear', 'q' : 'Exit'}\n",
        "ask = '1:Tomato, 2:Onion, 3:Pepper, 4:Milk, 5:Egg, 6:Apple, 7:Pear, q:Exit \\\n",
        "                \\nEnter the code number of your products:'\n",
        "cart = []\n",
        "chosen = input(ask)\n",
        "for i in products:\n",
        "    if chosen.isnumeric():\n",
        "        if int(chosen) == i:\n",
        "            cart.append(products[i])\n",
        "            print('{} added your cart.'.format(products[i]))\n",
        "            chosen = input(ask)\n",
        "    else : \n",
        "        print('Thank You.Items in your cart :')\n",
        "        for j in cart:\n",
        "            print(j, end=\" \")\n",
        "                \n",
        "        break"
      ],
      "execution_count": null,
      "outputs": []
    },
    {
      "cell_type": "code",
      "metadata": {
        "id": "cmN5mBeNsx1R"
      },
      "source": [
        "print(\"Lütfen almak istediğiniz ürününün kodunu giriniz. Çıkmak için q giriniz.\")\n",
        "print(\"1 : Domates 2 : Soğan 3 : Biber 4 : Yumurta 5 : Elma 6 : Armut\")\n",
        "urunler = {1 : \"Domates\", 2 : \"Soğan\", 3 : \"Biber\", 4 : \"Yumurta\", 5 : \"Elma\", 6 : \"Armut\"}\n",
        "\n",
        "siparis = input().lower()\n",
        "sepet = []\n",
        "while siparis != \"q\":\n",
        "    siparis = int(siparis)\n",
        "    if siparis > 6 or siparis < 1 :\n",
        "        print(\"Yanlış giriş, tekrar giriniz.\")\n",
        "        continue\n",
        "    sepet.append(urunler[siparis])\n",
        "    print(f\"{urunler[siparis]} sepetinize eklendi.\")\n",
        "    siparis = input().lower()\n",
        "\n",
        "print(\"Teşekür ederiz.\")\n",
        "print(\"Sepetinizde bulunan ürünler:\", *set(sepet))"
      ],
      "execution_count": null,
      "outputs": []
    },
    {
      "cell_type": "code",
      "metadata": {
        "id": "-Ee6RRZis0dL"
      },
      "source": [
        "a = []\n",
        "print(\"WELCOME!\\nENTER THE PRODUCT CODE YOU WANT TO PURCHASE\\n1.Apple\\n2.Pear\\n3.Banana\\n4.Orange\\n5.Kiwi\\n\")\n",
        "b =list(range(len(c)))\n",
        "c = [\"Apple\", \"Pear\", \"Banana\", \"Orange\", \"Kiwi\"]\n",
        "\n",
        "user = input(\"Choose a fruit in the list than Enter fruit code please.If finish write 'q'\\n\").strip().title()\n",
        "print(c[int(user) - 1], \"updated your list\")\n",
        "a.append(c[int(user) - 1])\n",
        "\n",
        "for i,y in zip(b,c) :\n",
        "   user = input(\"Choose other fruit in the list.If finish write 'q'\").strip().title()\n",
        "   if user == \"Q\":\n",
        "     print(\"Your shopping list is completed .\")\n",
        "     break\n",
        "   else :\n",
        "      print(c[int(user) - 1], \"added to your list\")\n",
        "      a.append(c[int(user) - 1])\n",
        "      \n",
        "print(\"Thank you for shopping \\nYour shopping list is : \",*a )"
      ],
      "execution_count": null,
      "outputs": []
    }
  ]
}