{
  "nbformat": 4,
  "nbformat_minor": 0,
  "metadata": {
    "colab": {
      "name": "Untitled37.ipynb",
      "provenance": [],
      "authorship_tag": "ABX9TyOddvrGk/At82VF0v15rIVw",
      "include_colab_link": true
    },
    "kernelspec": {
      "name": "python3",
      "display_name": "Python 3"
    },
    "language_info": {
      "name": "python"
    }
  },
  "cells": [
    {
      "cell_type": "markdown",
      "metadata": {
        "id": "view-in-github",
        "colab_type": "text"
      },
      "source": [
        "<a href=\"https://colab.research.google.com/github/Burak9150/Python-soru-kutuphanesi/blob/main/Untitled37.ipynb\" target=\"_parent\"><img src=\"https://colab.research.google.com/assets/colab-badge.svg\" alt=\"Open In Colab\"/></a>"
      ]
    },
    {
      "cell_type": "markdown",
      "metadata": {
        "id": "f8jaJJL-uZDu"
      },
      "source": [
        "Bir dizedeki tüm sesli harfleri belirtilen bir karakterle değiştiren bir işlev oluşturun."
      ]
    },
    {
      "cell_type": "code",
      "metadata": {
        "id": "Ca7c7_QouO5g"
      },
      "source": [
        "text = input('Enter a text here > ')\n",
        "replacer = input('With what you want to replace the vowels > ')\n",
        "liste = []\n",
        "for i in text:\n",
        "    if i in ['a', 'e' ,'i' ,'u', 'o']:\n",
        "        i = replacer\n",
        "    liste.append(i)\n",
        "for i in liste:\n",
        "    print(i, end = '')"
      ],
      "execution_count": null,
      "outputs": []
    },
    {
      "cell_type": "code",
      "metadata": {
        "id": "phqNf0fJucKy"
      },
      "source": [
        "x = input(\"Enter a sentence:\")\n",
        "y = []\n",
        "#vowel = [\"a\",\"e\",\"i\",\"ö\",\"ü\"]\n",
        "for i in x:\n",
        "    if i == \"a\":\n",
        "        i = \"?\"\n",
        "    elif i == \"e\":\n",
        "        i = \"/\"\n",
        "    elif i == \"i\":\n",
        "        i = \"*\"\n",
        "    elif i == \"ü\":\n",
        "        i == \"&\"\n",
        "    elif i == \"ö\":\n",
        "        i == \"%\"    \n",
        "    y.append(i)\n",
        "print(*y)"
      ],
      "execution_count": null,
      "outputs": []
    },
    {
      "cell_type": "code",
      "metadata": {
        "id": "OfofocJDucB1"
      },
      "source": [
        "def replace_vowels(s, char):\n",
        "    s1 = ‘’\n",
        "    for i in s:\n",
        "        if i in [‘a’, ‘e’, ‘i’, ‘o’, ‘u’]:\n",
        "            s1+=char\n",
        "        else:\n",
        "            s1+=i\n",
        "    return s1"
      ],
      "execution_count": null,
      "outputs": []
    },
    {
      "cell_type": "code",
      "metadata": {
        "id": "_jzdHzZ2ub79"
      },
      "source": [
        "vowels = [\"a\",\"e\",\"i\",\"o\",\"ü\",\"ö\"]\n",
        "cheking_word = input(\"Please enter a word:  \")\n",
        "replace_chracter = input(\"Enter the character you want to write instead of the vowel: \")\n",
        "changing_wowel_list = []\n",
        "for i in cheking_word:\n",
        "    \n",
        "    if i in vowels:\n",
        "        changing_wowel_list.append(i)\n",
        "for i in changing_wowel_list:\n",
        "    cheking_word = cheking_word.replace(i,replace_chracter)\n",
        "        \n",
        "       \n",
        "\n",
        "        \n",
        "        \n",
        "    \n",
        "print(cheking_word)"
      ],
      "execution_count": null,
      "outputs": []
    },
    {
      "cell_type": "code",
      "metadata": {
        "id": "bB9h-Fr7ublZ"
      },
      "source": [
        ""
      ],
      "execution_count": null,
      "outputs": []
    }
  ]
}