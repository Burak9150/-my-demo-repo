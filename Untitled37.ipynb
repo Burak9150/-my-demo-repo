{
  "nbformat": 4,
  "nbformat_minor": 0,
  "metadata": {
    "colab": {
      "name": "Untitled37.ipynb",
      "provenance": [],
      "authorship_tag": "ABX9TyNt02pVUp2lgTyZ/pxltT4g",
      "include_colab_link": true
    },
    "kernelspec": {
      "name": "python3",
      "display_name": "Python 3"
    },
    "language_info": {
      "name": "python"
    }
  },
  "cells": [
    {
      "cell_type": "markdown",
      "metadata": {
        "id": "view-in-github",
        "colab_type": "text"
      },
      "source": [
        "<a href=\"https://colab.research.google.com/github/Burak9150/Python-soru-kutuphanesi/blob/main/Untitled37.ipynb\" target=\"_parent\"><img src=\"https://colab.research.google.com/assets/colab-badge.svg\" alt=\"Open In Colab\"/></a>"
      ]
    },
    {
      "cell_type": "markdown",
      "metadata": {
        "id": "f8jaJJL-uZDu"
      },
      "source": [
        "Bu meydan okuma, klasik video oyunu \"Snake\"e dayanmaktadır.\n",
        "\n",
        "Oyun ekranının bir n * nkare olduğunu varsayalım ve yılan oyuna sol üst köşede bulunan uzunluk (yani sadece kafa) ile başlar 1.\n",
        "\n",
        "Örneğin n = 7, oyun şuna benziyorsa:\n",
        "\n",
        "\n",
        "\n",
        "Oyunun bu versiyonunda, her yemek yediğinde yılanın uzunluğu iki katına çıkar (örneğin uzunluk 4 ise, yemek yedikten sonra 8 olur).\n",
        "\n",
        "nOyun ekranının kenarını alan ve yılanın oyun ekranındaki alanı bitmeden önce kaç kez yiyebileceğini döndüren bir işlev oluşturun .\n",
        "\n",
        "Örnekler\n",
        "snakefill(3) ➞ 3\n",
        "\n",
        "snakefill(6) ➞ 5\n",
        "\n",
        "snakefill(24) ➞ 9"
      ]
    },
    {
      "cell_type": "code",
      "metadata": {
        "id": "bB9h-Fr7ublZ"
      },
      "source": [
        "x = int(input(\"Enter row and column size:\"))\n",
        "i = 0\n",
        "a = -1 # yılanın boyu ilk döngüde zaten 1 olduğu için a değeri -1 olarak tanımlandı.\n",
        "while 2 ** i < x ** 2: # 2 ** 1 formulü yılanın boyunu verir.\n",
        "    a += 1\n",
        "    i += 1\n",
        "print(\"snakefill:\", x ** 2, \"and snake can eat before it runs out of space in the game screen: \",a  )"
      ],
      "execution_count": null,
      "outputs": []
    },
    {
      "cell_type": "code",
      "metadata": {
        "id": "JRMQ2SOnx6kP"
      },
      "source": [
        "def snakefill(n):\n",
        "    i = 2**0\n",
        "    count = 0\n",
        "    if n == 1:\n",
        "        return count\n",
        "    else:\n",
        "        while i < n*n:\n",
        "            count +=1\n",
        "            i += 2**count\n",
        "        return count"
      ],
      "execution_count": null,
      "outputs": []
    },
    {
      "cell_type": "code",
      "metadata": {
        "id": "fHZ91WhYx6eu"
      },
      "source": [
        "num = int(input('Enter a number for the game screen > '))\n",
        "sayac = 0\n",
        "while num ** 2 > 2 ** (sayac + 1):\n",
        "    sayac += 1\n",
        "print('The screen runs out of space after the snake eats {} number of times.'.format(sayac))"
      ],
      "execution_count": null,
      "outputs": []
    },
    {
      "cell_type": "code",
      "metadata": {
        "id": "aM0Cw6m_x6aN"
      },
      "source": [
        "alan=int(input(\"please enter area information\"))\n",
        "sayac=1\n",
        "while (2**sayac)+1<=(alan*alan):\n",
        "      sayac += 1\n",
        "print(sayac-1)"
      ],
      "execution_count": null,
      "outputs": []
    },
    {
      "cell_type": "code",
      "metadata": {
        "id": "PN5dDuJkx6AS"
      },
      "source": [
        "game_area = int(input(\"Please write a (row and column) number for square game are:\"))\n",
        "snake_length = 1\n",
        "counter = 0\n",
        "while snake_length < game_area * game_area:\n",
        "    snake_length = snake_length + snake_length\n",
        "    if snake_length < game_area * game_area:\n",
        "        counter += 1\n",
        "print(f\"The snake eats {counter} times\")"
      ],
      "execution_count": null,
      "outputs": []
    },
    {
      "cell_type": "code",
      "metadata": {
        "id": "Mxn7w4IByI09"
      },
      "source": [
        "def snakefill(n):\n",
        "    snake = 1\n",
        "    food = -1\n",
        "    while snake < n*n:\n",
        "        snake*=2\n",
        "        food+=1\n",
        "    return food"
      ],
      "execution_count": null,
      "outputs": []
    },
    {
      "cell_type": "code",
      "metadata": {
        "id": "vSyh4FU5yIVL"
      },
      "source": [
        ""
      ],
      "execution_count": null,
      "outputs": []
    }
  ]
}