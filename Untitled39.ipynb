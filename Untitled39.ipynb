{
  "nbformat": 4,
  "nbformat_minor": 0,
  "metadata": {
    "colab": {
      "name": "Untitled39.ipynb",
      "provenance": [],
      "authorship_tag": "ABX9TyOkPiVSWQpvtZs02XqDs03F",
      "include_colab_link": true
    },
    "kernelspec": {
      "name": "python3",
      "display_name": "Python 3"
    },
    "language_info": {
      "name": "python"
    }
  },
  "cells": [
    {
      "cell_type": "markdown",
      "metadata": {
        "id": "view-in-github",
        "colab_type": "text"
      },
      "source": [
        "<a href=\"https://colab.research.google.com/github/Burak9150/Python-soru-kutuphanesi/blob/main/Untitled39.ipynb\" target=\"_parent\"><img src=\"https://colab.research.google.com/assets/colab-badge.svg\" alt=\"Open In Colab\"/></a>"
      ]
    },
    {
      "cell_type": "markdown",
      "metadata": {
        "id": "k2XRhoLdzSWV"
      },
      "source": [
        "num = [48, 10, 11, 21, 36, 5, 6, 52, 28, 29,\n",
        "       53, 54, 45, 19, 20, 47, 55, 39, 41, 7,\n",
        "       9, 17, 26, 27, 42, 22, 37, 51, 46, 18,\n",
        "       44, 30, 34, 13, 15, 35, 33, 16, 50, 24]\n",
        "Elemanları ardışık sayılardan oluşan karışık halde bir liste veriliyor. Listenin en küçük elemanı ile en büyük elemanı arasında yer alan, ancak listede gösterilmeyen eksik sayılardan çift olanları çıktı veren python kodu yazınız.\n",
        "Beklenen Çıktı:\n",
        "8\n",
        "12\n",
        "14\n",
        "32\n",
        "38\n",
        "40"
      ]
    },
    {
      "cell_type": "code",
      "metadata": {
        "id": "Dmq0_855zN-l"
      },
      "source": [
        "num = [48, 10, 11, 21, 36, 5, 6, 52, 28, 29, 53, 54, 45, 19, 20, 47, 55, 39, 41, 7, 9, 17, 26, 27, 42, 22, 37, 51, 46, 18, 44, 30, 34, 13, 15, 35, 33, 16, 50, 24]\n",
        "num.sort()\n",
        "minimum = min(num)\n",
        "maximum = max(num)\n",
        "new_list = []\n",
        "for i in range(minimum, maximum + 1):\n",
        "    if i not in num and i % 2 == 0:\n",
        "        new_list.append(i)\n",
        "print(new_list)"
      ],
      "execution_count": null,
      "outputs": []
    },
    {
      "cell_type": "code",
      "metadata": {
        "id": "A_25rlzRzUaf"
      },
      "source": [
        "num = [48, 10, 11, 21, 36, 5, 6, 52, 28, 29, 53, 54, 45, 19, 20, 47, 55, 39, 41, 7, 9, 17, 26, 27, 42, 22, 37, 51, 46, 18, 44, 30, 34, 13, 15, 35, 33, 16, 50, 24]\n",
        "print(list(filter(lambda i:i not in num and i % 2 == 0, range(min(num),max(num)))))"
      ],
      "execution_count": null,
      "outputs": []
    },
    {
      "cell_type": "code",
      "metadata": {
        "id": "p5TbDxXDzUVu"
      },
      "source": [
        "num = [48, 10, 11, 21, 36, 5, 6, 52, 28, 29,\n",
        "       53, 54, 45, 19, 20, 47, 55, 39, 41, 7,\n",
        "       9, 17, 26, 27, 42, 22, 37, 51, 46, 18,\n",
        "       44, 30, 34, 13, 15, 35, 33, 16, 50, 24]\n",
        "num_max=max(num)\n",
        "num_min=min(num)\n",
        "print(num_max)\n",
        "print(num_min)\n",
        "if num_min%2==0:\n",
        "  tam_liste=list(range(num_min, num_max+1, 2))\n",
        "else:\n",
        "  tam_liste=list(range(num_min+1, num_max+1, 2))\n",
        "print(tam_liste)\n",
        "for i in num:\n",
        "  if i in tam_liste:\n",
        "    tam_liste.remove(i)\n",
        "print(tam_liste)"
      ],
      "execution_count": null,
      "outputs": []
    },
    {
      "cell_type": "code",
      "metadata": {
        "id": "8zbeHoOezUS1"
      },
      "source": [
        "num = [48, 10, 11, 21, 36, 5, 6, 52, 28, 29,\n",
        "       53, 54, 45, 19, 20, 47, 55, 39, 41, 7,\n",
        "       9, 17, 26, 27, 42, 22, 37, 51, 46, 18,\n",
        "       44, 30, 34, 13, 15, 35, 33, 16, 50, 24]\n",
        "liste=[]\n",
        "for i in range(min(num),max(num)):\n",
        "    if i not in num and i%2==0:\n",
        "      liste.append(i)\n",
        "print(liste)"
      ],
      "execution_count": null,
      "outputs": []
    },
    {
      "cell_type": "code",
      "metadata": {
        "id": "cHf8xRcMzTpL"
      },
      "source": [
        "num = [48, 10, 11, 21, 36, 5, 6, 52, 28, 29,\n",
        "       53, 54, 45, 19, 20, 47, 55, 39, 41, 7,\n",
        "       9, 17, 26, 27, 42, 22, 37, 51, 46, 18,\n",
        "       44, 30, 34, 13, 15, 35, 33, 16, 50, 24]\n",
        "for x in range(min(num), max(num)):\n",
        "    print(x) if x % 2 == 0 and (x not in num) else None"
      ],
      "execution_count": null,
      "outputs": []
    },
    {
      "cell_type": "code",
      "metadata": {
        "id": "ixHw9InW1r8i"
      },
      "source": [
        "num = [48, 10, 11, 21, 36, 5, 6, 52, 28, 29,\n",
        "       53, 54, 45, 19, 20, 47, 55, 39, 41, 7,\n",
        "       9, 17, 26, 27, 42, 22, 37, 51, 46, 18,\n",
        "       44, 30, 34, 13, 15, 35, 33, 16, 50, 24]\n",
        "for i in range(min(num), (max(num) +1)) :\n",
        "    if (i not in num) and (i%2==0) :\n",
        "        print(i)"
      ],
      "execution_count": null,
      "outputs": []
    },
    {
      "cell_type": "code",
      "metadata": {
        "id": "D4fTRFvN1r2J"
      },
      "source": [
        "num = [48, 10, 11, 21, 36, 5, 6, 52, 28, 29,\n",
        "       53, 54, 45, 19, 20, 47, 55, 39, 41, 7,\n",
        "       9, 17, 26, 27, 42, 22, 37, 51, 46, 18,\n",
        "       44, 30, 34, 13, 15, 35, 33, 16, 50, 24]\n",
        "print([i for i in range(min(num),max(num)) if i%2==0 and i not in num])"
      ],
      "execution_count": null,
      "outputs": []
    },
    {
      "cell_type": "code",
      "metadata": {
        "id": "yNBKnmWO1ruj"
      },
      "source": [
        ""
      ],
      "execution_count": null,
      "outputs": []
    }
  ]
}