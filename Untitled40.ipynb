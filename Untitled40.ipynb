{
  "nbformat": 4,
  "nbformat_minor": 0,
  "metadata": {
    "colab": {
      "name": "Untitled40.ipynb",
      "provenance": [],
      "authorship_tag": "ABX9TyN53HkBC6SU4qCwkBKuaBgr",
      "include_colab_link": true
    },
    "kernelspec": {
      "name": "python3",
      "display_name": "Python 3"
    },
    "language_info": {
      "name": "python"
    }
  },
  "cells": [
    {
      "cell_type": "markdown",
      "metadata": {
        "id": "view-in-github",
        "colab_type": "text"
      },
      "source": [
        "<a href=\"https://colab.research.google.com/github/Burak9150/Python-soru-kutuphanesi/blob/main/Untitled40.ipynb\" target=\"_parent\"><img src=\"https://colab.research.google.com/assets/colab-badge.svg\" alt=\"Open In Colab\"/></a>"
      ]
    },
    {
      "cell_type": "markdown",
      "metadata": {
        "id": "yvaPFMC82e1Z"
      },
      "source": [
        "Given a signed 32-bit integer x, return x with its digits reversed. If reversing x causes the value to go outside the signed 32-bit integer range [-2^31, 2^31 - 1], then return 0.\n",
        "Assume the environment does not allow you to store 64-bit integers (signed or unsigned)."
      ]
    },
    {
      "cell_type": "code",
      "metadata": {
        "id": "Xju4gSZL1_27"
      },
      "source": [
        "def reversed(x):\n",
        "  if -2**31 <= x <= 2**31 - 1:\n",
        "    if x==0:\n",
        "      return 0\n",
        "    elif x<0:\n",
        "      return int(str(x).strip(\"-\")[::-1])*-1\n",
        "    else :\n",
        "      return int(str(x)[::-1])\n",
        "  else:\n",
        "    return 0"
      ],
      "execution_count": null,
      "outputs": []
    },
    {
      "cell_type": "code",
      "metadata": {
        "id": "mQcMukgA2gQp"
      },
      "source": [
        "x=int(input(\"sayı giriniz : \"))\n",
        "if (-2**31<x and x<2**31):\n",
        "  if x>0:\n",
        "    x=str(x)\n",
        "    y=x[::-1]\n",
        "    y=int(y)\n",
        "  elif x<0:\n",
        "    x=x+(-2*x)\n",
        "    x=str(x)\n",
        "    y=x[::-1]\n",
        "    y=int(y)\n",
        "    y=(-y)\n",
        "print(y)"
      ],
      "execution_count": null,
      "outputs": []
    },
    {
      "cell_type": "code",
      "metadata": {
        "id": "CTxo4T5q2gJN"
      },
      "source": [
        "x = int(input('Enter a number :'))\n",
        "list_x = list(str(x))\n",
        "if x in range(-2**31, 2**31-1):\n",
        "    y, z = 0, 1\n",
        "    for i in list_x:\n",
        "        if list_x[len(list_x)-z] == '0':\n",
        "            list_x.remove('0')\n",
        "        if x < 0 :\n",
        "            print(list_x[y], end=\"\")\n",
        "            y = len(list_x)-z\n",
        "            z += 1\n",
        "        elif x > 0:\n",
        "            y= len(list_x)-z            \n",
        "            print(list_x[y], end=\"\")\n",
        "            z += 1\n",
        "        else :\n",
        "            print(x)\n",
        "else :\n",
        "    print(0)"
      ],
      "execution_count": null,
      "outputs": []
    },
    {
      "cell_type": "code",
      "metadata": {
        "id": "JOxniBkR2gGa"
      },
      "source": [
        ""
      ],
      "execution_count": null,
      "outputs": []
    }
  ]
}