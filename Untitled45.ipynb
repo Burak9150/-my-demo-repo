{
  "nbformat": 4,
  "nbformat_minor": 0,
  "metadata": {
    "colab": {
      "name": "Untitled45.ipynb",
      "provenance": [],
      "authorship_tag": "ABX9TyMaM15dYvAZ+X1W3BCYoLvA",
      "include_colab_link": true
    },
    "kernelspec": {
      "name": "python3",
      "display_name": "Python 3"
    },
    "language_info": {
      "name": "python"
    }
  },
  "cells": [
    {
      "cell_type": "markdown",
      "metadata": {
        "id": "view-in-github",
        "colab_type": "text"
      },
      "source": [
        "<a href=\"https://colab.research.google.com/github/Burak9150/Python-soru-kutuphanesi/blob/main/Untitled45.ipynb\" target=\"_parent\"><img src=\"https://colab.research.google.com/assets/colab-badge.svg\" alt=\"Open In Colab\"/></a>"
      ]
    },
    {
      "cell_type": "markdown",
      "metadata": {
        "id": "k5BPHwL24YJt"
      },
      "source": [
        "Verilen n, rakamlarının toplamını alın n. Bu değerin birden fazla hanesi varsa, tek haneli bir sayı üretilene kadar bu şekilde düşürmeye devam edin. Girdi, negatif olmayan bir tam sayı olacaktır.\n",
        "Örnekler\n",
        "    16  -->  1 + 6 = 7\n",
        "   942  -->  9 + 4 + 2 = 15  -->  1 + 5 = 6\n",
        "132189  -->  1 + 3 + 2 + 1 + 8 + 9 = 24  -->  2 + 4 = 6\n",
        "493193  -->  4 + 9 + 3 + 1 + 9 + 3 = 29  -->  2 + 9 = 11  -->  1 + 1 = 2"
      ]
    },
    {
      "cell_type": "code",
      "metadata": {
        "colab": {
          "base_uri": "https://localhost:8080/"
        },
        "id": "qeorR1yU4Pkg",
        "outputId": "81899617-7c2c-4f9e-b1b8-24b99690a712"
      },
      "source": [
        "def sayisal_kok(x):\n",
        "    x = str(x)\n",
        "    uzunluk = len(x)\n",
        "    while uzunluk > 1:\n",
        "        toplam = 0\n",
        "        for i in str(x):\n",
        "            toplam += int(i)\n",
        "            x = toplam\n",
        "        uzunluk = len(str(toplam))\n",
        "    return toplam\n",
        "\n",
        "sayisal_kok(493193)"
      ],
      "execution_count": 1,
      "outputs": [
        {
          "output_type": "execute_result",
          "data": {
            "text/plain": [
              "2"
            ]
          },
          "metadata": {
            "tags": []
          },
          "execution_count": 1
        }
      ]
    },
    {
      "cell_type": "code",
      "metadata": {
        "colab": {
          "base_uri": "https://localhost:8080/"
        },
        "id": "nGbcdyi84hLe",
        "outputId": "92963b69-7b17-49e5-a010-1263edec9e78"
      },
      "source": [
        "def tekhane(number):\n",
        "  totals = number\n",
        "  while True:\n",
        "    k= 0\n",
        "    for i in str(totals):\n",
        "      k += int(i)\n",
        "    totals = k\n",
        "    if len(str(totals)) == 1:\n",
        "      print(totals)\n",
        "      break\n",
        "    \n",
        "\n",
        "tekhane(132189)"
      ],
      "execution_count": 2,
      "outputs": [
        {
          "output_type": "stream",
          "text": [
            "6\n"
          ],
          "name": "stdout"
        }
      ]
    },
    {
      "cell_type": "code",
      "metadata": {
        "colab": {
          "base_uri": "https://localhost:8080/"
        },
        "id": "ik-Fo-Z34hI2",
        "outputId": "9dbb9a0c-6d91-4378-aa37-0d11d90d51c5"
      },
      "source": [
        "def reduce(num):\n",
        "    while num >= 10:\n",
        "         num = int(num/10)+(num-(int(num/10)*10))\n",
        "    return num\n",
        "print(reduce(129))"
      ],
      "execution_count": 3,
      "outputs": [
        {
          "output_type": "stream",
          "text": [
            "3\n"
          ],
          "name": "stdout"
        }
      ]
    },
    {
      "cell_type": "code",
      "metadata": {
        "colab": {
          "base_uri": "https://localhost:8080/"
        },
        "id": "5VgIjeI-4q7L",
        "outputId": "186cc5d9-9c86-427a-e122-e1f04317ed78"
      },
      "source": [
        "def reduce(num):\n",
        "    while num >= 10:\n",
        "         num = sum(map(int, str(num)))\n",
        "    return num\n",
        "print(reduce(129))"
      ],
      "execution_count": 4,
      "outputs": [
        {
          "output_type": "stream",
          "text": [
            "3\n"
          ],
          "name": "stdout"
        }
      ]
    }
  ]
}