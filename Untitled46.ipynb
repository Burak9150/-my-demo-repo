{
  "nbformat": 4,
  "nbformat_minor": 0,
  "metadata": {
    "colab": {
      "name": "Untitled46.ipynb",
      "provenance": [],
      "authorship_tag": "ABX9TyONTlbl60YZc3cPe/BzdmvL",
      "include_colab_link": true
    },
    "kernelspec": {
      "name": "python3",
      "display_name": "Python 3"
    },
    "language_info": {
      "name": "python"
    }
  },
  "cells": [
    {
      "cell_type": "markdown",
      "metadata": {
        "id": "view-in-github",
        "colab_type": "text"
      },
      "source": [
        "<a href=\"https://colab.research.google.com/github/Burak9150/Python-soru-kutuphanesi/blob/main/Untitled46.ipynb\" target=\"_parent\"><img src=\"https://colab.research.google.com/assets/colab-badge.svg\" alt=\"Open In Colab\"/></a>"
      ]
    },
    {
      "cell_type": "code",
      "metadata": {
        "id": "lx-FX-jGL30y"
      },
      "source": [
        ""
      ],
      "execution_count": null,
      "outputs": []
    },
    {
      "cell_type": "markdown",
      "metadata": {
        "id": "sqiN3b-QL4dx"
      },
      "source": [
        "Senin görevin verilen bir dizgiyi sıralamak. Dizedeki her kelime tek bir sayı içerecektir. Bu sayı, kelimenin sonuçta olması gereken konumdur.\n",
        "\n",
        "Not: Rakamlar 1'den 9'a kadar olabilir. Yani ilk kelime 1 olacak (0 değil).\n",
        "\n",
        "Giriş dizesi boşsa, boş bir dize döndürün. Giriş Dizesindeki sözcükler yalnızca geçerli ardışık sayılar içerecektir.\n",
        "\n",
        "Örnekler\n",
        "\"is2 Thi1s T4est 3a\"  -->  \"Thi1s is2 3a T4est\"\n",
        "\"4of Fo1r pe6ople g3ood th5e the2\"  -->  \"Fo1r the2 g3ood 4of th5e pe6ople\"\n",
        "\"\"  -->  \"\""
      ]
    },
    {
      "cell_type": "code",
      "metadata": {
        "colab": {
          "base_uri": "https://localhost:8080/"
        },
        "id": "C4u8iZGr5DRC",
        "outputId": "2130a40e-efd6-45c0-cb6e-52326dc2c901"
      },
      "source": [
        "x=\"is2 Thi1s T4est 3a\"  \n",
        "x=x.split()\n",
        "l=[]\n",
        "k=\"\"\n",
        "for i in x:\n",
        "  for j in i:\n",
        "    if j.isdigit():\n",
        "       l.append((int(j),i))\n",
        "l.sort(key=lambda x:x[0])\n",
        "for i in l:\n",
        "  k+=i[1]+\" \"\n",
        "print(k)"
      ],
      "execution_count": 48,
      "outputs": [
        {
          "output_type": "stream",
          "text": [
            "Thi1s is2 3a T4est \n"
          ],
          "name": "stdout"
        }
      ]
    },
    {
      "cell_type": "code",
      "metadata": {
        "colab": {
          "base_uri": "https://localhost:8080/"
        },
        "id": "ZwJsY6fVBXTG",
        "outputId": "e1c7c4e6-537a-4103-95d4-667f0364ab31"
      },
      "source": [
        "sentence = \"is2 Thi1s T4est 3a\"\n",
        "\n",
        "def order(sentence):\n",
        "    \n",
        "    words = [(int(l), w) for w in sentence.split() for l in w if l.isdigit()]\n",
        "    words.sort(key=lambda t: t[0])\n",
        "    return \" \".join(t[1] for t in words)\n",
        "\n",
        "print(order(sentence))"
      ],
      "execution_count": 13,
      "outputs": [
        {
          "output_type": "stream",
          "text": [
            "Thi1s is2 3a T4est\n"
          ],
          "name": "stdout"
        }
      ]
    }
  ]
}