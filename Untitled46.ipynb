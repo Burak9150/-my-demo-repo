{
  "nbformat": 4,
  "nbformat_minor": 0,
  "metadata": {
    "colab": {
      "name": "Untitled46.ipynb",
      "provenance": [],
      "authorship_tag": "ABX9TyORpk3PTq2zKS4v40w0/ma4",
      "include_colab_link": true
    },
    "kernelspec": {
      "name": "python3",
      "display_name": "Python 3"
    },
    "language_info": {
      "name": "python"
    }
  },
  "cells": [
    {
      "cell_type": "markdown",
      "metadata": {
        "id": "view-in-github",
        "colab_type": "text"
      },
      "source": [
        "<a href=\"https://colab.research.google.com/github/Burak9150/Python-soru-kutuphanesi/blob/main/Untitled46.ipynb\" target=\"_parent\"><img src=\"https://colab.research.google.com/assets/colab-badge.svg\" alt=\"Open In Colab\"/></a>"
      ]
    },
    {
      "cell_type": "code",
      "metadata": {
        "id": "lx-FX-jGL30y"
      },
      "source": [
        ""
      ],
      "execution_count": null,
      "outputs": []
    },
    {
      "cell_type": "markdown",
      "metadata": {
        "id": "sqiN3b-QL4dx"
      },
      "source": [
        "Sana bir söz verilecek. Senin işin, kelimenin ortadaki karakterini döndürmek. Sözcüğün uzunluğu tek ise, ortadaki karakteri döndürün. Sözcüğün uzunluğu çift ise, ortadaki 2 karakteri döndürün.\n",
        "\n",
        "#Örnekler:\n",
        "\n",
        "Kata.getMiddle(\"test\") should return \"es\"\n",
        "\n",
        "Kata.getMiddle(\"testing\") should return \"t\"\n",
        "\n",
        "Kata.getMiddle(\"middle\") should return \"dd\"\n",
        "\n",
        "Kata.getMiddle(\"A\") should return \"A\""
      ]
    },
    {
      "cell_type": "code",
      "metadata": {
        "id": "nABfIy52Nmdr",
        "outputId": "34bce7d9-c305-4fb0-fc73-0199ad30bc65",
        "colab": {
          "base_uri": "https://localhost:8080/"
        }
      },
      "source": [
        "def get_middle(s):\n",
        "    \n",
        "    #your code here\n",
        "    if len(s)%2==1:\n",
        "      n=list(s)\n",
        "      x=(len(s))//2\n",
        "      a=s[x]\n",
        "    elif len(s)%2==0:\n",
        "      n=list(s)\n",
        "      x=(len(s))//2\n",
        "      a=s[x-1]+s[x]\n",
        "    return a\n",
        "print(get_middle(\"clarusway\"))"
      ],
      "execution_count": 56,
      "outputs": [
        {
          "output_type": "stream",
          "text": [
            "u\n"
          ],
          "name": "stdout"
        }
      ]
    },
    {
      "cell_type": "code",
      "metadata": {
        "id": "lD0mzJfwNmVo",
        "outputId": "cc4ac8a6-d0e0-4139-d6d4-10fa06bd5cf5",
        "colab": {
          "base_uri": "https://localhost:8080/",
          "height": 35
        }
      },
      "source": [
        "def get_middle(s):\n",
        "    i = (len(s) - 1) // 2\n",
        "    return s[i:-i] or s\n",
        "get_middle(\"clarusway\")"
      ],
      "execution_count": 68,
      "outputs": [
        {
          "output_type": "execute_result",
          "data": {
            "application/vnd.google.colaboratory.intrinsic+json": {
              "type": "string"
            },
            "text/plain": [
              "'u'"
            ]
          },
          "metadata": {
            "tags": []
          },
          "execution_count": 68
        }
      ]
    },
    {
      "cell_type": "code",
      "metadata": {
        "id": "H5qKMi9kNl33"
      },
      "source": [
        "def get_middle(s):\n",
        "    strLen = len(s)\n",
        "    if(strLen%2==0):#even\n",
        "        return s[strLen/2-1:strLen/2+1]\n",
        "    else:#odd\n",
        "        return s[strLen/2]"
      ],
      "execution_count": null,
      "outputs": []
    }
  ]
}