{
  "nbformat": 4,
  "nbformat_minor": 0,
  "metadata": {
    "colab": {
      "name": "Untitled47.ipynb",
      "provenance": [],
      "authorship_tag": "ABX9TyP9yW7gNY0g9+qk2ydiZcGi",
      "include_colab_link": true
    },
    "kernelspec": {
      "name": "python3",
      "display_name": "Python 3"
    },
    "language_info": {
      "name": "python"
    }
  },
  "cells": [
    {
      "cell_type": "markdown",
      "metadata": {
        "id": "view-in-github",
        "colab_type": "text"
      },
      "source": [
        "<a href=\"https://colab.research.google.com/github/Burak9150/Python-soru-kutuphanesi/blob/main/Untitled47.ipynb\" target=\"_parent\"><img src=\"https://colab.research.google.com/assets/colab-badge.svg\" alt=\"Open In Colab\"/></a>"
      ]
    },
    {
      "cell_type": "markdown",
      "metadata": {
        "id": "Ix0y76JgqbLw"
      },
      "source": [
        "Dizeyi iki karakterlik çiftlere ayıracak şekilde çözümü tamamlayın. Dize tek sayıda karakter içeriyorsa, son çiftin eksik ikinci karakterini bir alt çizgi ('_') ile değiştirmelidir."
      ]
    },
    {
      "cell_type": "code",
      "metadata": {
        "id": "fpnBO2swqC4E"
      },
      "source": [
        "def solution(s):\n",
        " k=0\n",
        " l=[]\n",
        " if len(s)%2==0:\n",
        "  for i in range(len(s)//2):\n",
        "    y=s[k:k+2]\n",
        "    l.append(y)\n",
        "    k+=2\n",
        " else:\n",
        "  s+=\"-\"\n",
        "  for i in range(len(s)//2):\n",
        "    y=s[k:k+2]\n",
        "    l.append(y)\n",
        "    k+=2\n",
        " return l\n",
        "print(solution(\"asdfghj\"))"
      ],
      "execution_count": null,
      "outputs": []
    },
    {
      "cell_type": "code",
      "metadata": {
        "id": "1VrGCb47qL8p"
      },
      "source": [
        "def solution(s):\n",
        "    result = []\n",
        "    if len(s) % 2:\n",
        "        s += '_'\n",
        "    for i in range(0, len(s), 2):\n",
        "        result.append(s[i:i+2])\n",
        "    return result"
      ],
      "execution_count": null,
      "outputs": []
    }
  ]
}