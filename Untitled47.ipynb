{
  "nbformat": 4,
  "nbformat_minor": 0,
  "metadata": {
    "colab": {
      "name": "Untitled47.ipynb",
      "provenance": [],
      "authorship_tag": "ABX9TyNgpgGPwCN1O+MpJ6lEaI8N",
      "include_colab_link": true
    },
    "kernelspec": {
      "name": "python3",
      "display_name": "Python 3"
    },
    "language_info": {
      "name": "python"
    }
  },
  "cells": [
    {
      "cell_type": "markdown",
      "metadata": {
        "id": "view-in-github",
        "colab_type": "text"
      },
      "source": [
        "<a href=\"https://colab.research.google.com/github/Burak9150/Python-soru-kutuphanesi/blob/main/Untitled47.ipynb\" target=\"_parent\"><img src=\"https://colab.research.google.com/assets/colab-badge.svg\" alt=\"Open In Colab\"/></a>"
      ]
    },
    {
      "cell_type": "markdown",
      "metadata": {
        "id": "Ix0y76JgqbLw"
      },
      "source": [
        "Bir çocuk yüksek bir binanın n. katında topla oynuyor. Bu katın yüksekliği h , bilinmektedir.\n",
        "\n",
        "Topu camdan dışarı atıyor. Top (örneğin), yüksekliğinin üçte ikisine kadar seker (0.66'lık bir sıçrama).\n",
        "\n",
        "Annesi yerden 1.5 metre yükseklikte bir pencereden dışarı bakıyor.\n",
        "\n",
        "Anne, topun penceresinin önünden geçtiğini kaç kez görecek (düştüğü ve sıçradığı zamanlar dahil ?\n",
        "\n",
        "Geçerli bir deney için üç koşulun karşılanması gerekir:\n",
        "Metre cinsinden şamandıra parametresi \"h\" 0'dan büyük olmalıdır\n",
        "Float parametresi \"sıçrama\" 0'dan büyük ve 1'den küçük olmalıdır\n",
        "Float parametresi \"pencere\" h'den küçük olmalıdır.\n",
        "Yukarıdaki üç koşulun tümü yerine getirilirse, pozitif bir tamsayı döndürün, aksi takdirde -1 döndürün.\n",
        "\n",
        "Not:\n",
        "Top sadece, ribaund topunun yüksekliği pencere parametresinden kesinlikle daha büyükse görülebilir .\n",
        "\n",
        "Örnekler:\n",
        "- h = 3, bounce = 0.66, window = 1.5, result is 3\n",
        "\n",
        "- h = 3, bounce = 1, window = 1.5, result is -1 \n",
        "\n",
        "(Condition 2) not fulfilled)."
      ]
    },
    {
      "cell_type": "code",
      "metadata": {
        "id": "fpnBO2swqC4E"
      },
      "source": [
        "def bouncingBall(h, bounce, window):\n",
        "    if not 0 < bounce < 1: return -1\n",
        "    count = 0\n",
        "    while h > window:\n",
        "        count += 1\n",
        "        h *= bounce\n",
        "        if h > window: count += 1\n",
        "    return count or -1"
      ],
      "execution_count": 1,
      "outputs": []
    },
    {
      "cell_type": "code",
      "metadata": {
        "id": "1VrGCb47qL8p"
      },
      "source": [
        "def bouncingBall(h, bounce, window):\n",
        "    seen = -1\n",
        "    \n",
        "    if 0 < bounce < 1:\n",
        "        while h > window > 0:\n",
        "            seen += 2\n",
        "            h *= bounce\n",
        "    \n",
        "    return seen"
      ],
      "execution_count": null,
      "outputs": []
    },
    {
      "cell_type": "code",
      "metadata": {
        "id": "cSbRvb07hOE-"
      },
      "source": [
        "def bouncingBall(h, bounce, window):\n",
        "    if h <= 0 or bounce <= 0 or bounce >= 1 or window >= h:\n",
        "        return -1\n",
        "    return 2 + bouncingBall(h * bounce, bounce, window)"
      ],
      "execution_count": null,
      "outputs": []
    },
    {
      "cell_type": "code",
      "metadata": {
        "id": "AyZHwvbUhOCO"
      },
      "source": [
        "def bouncingBall(h, bounce, window):\n",
        "    count = -1\n",
        "    if bounce >= 1 or bounce < 0: return -1 \n",
        "    while(h > window):\n",
        "        count += 2\n",
        "        h = h*bounce\n",
        "    \n",
        "    return count"
      ],
      "execution_count": null,
      "outputs": []
    }
  ]
}