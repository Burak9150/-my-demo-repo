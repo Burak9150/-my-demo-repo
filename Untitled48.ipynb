{
  "nbformat": 4,
  "nbformat_minor": 0,
  "metadata": {
    "colab": {
      "name": "Untitled48.ipynb",
      "provenance": [],
      "authorship_tag": "ABX9TyMwOct35ie0SO0g+N1r0AAI",
      "include_colab_link": true
    },
    "kernelspec": {
      "name": "python3",
      "display_name": "Python 3"
    },
    "language_info": {
      "name": "python"
    }
  },
  "cells": [
    {
      "cell_type": "markdown",
      "metadata": {
        "id": "view-in-github",
        "colab_type": "text"
      },
      "source": [
        "<a href=\"https://colab.research.google.com/github/Burak9150/Python-soru-kutuphanesi/blob/main/Untitled48.ipynb\" target=\"_parent\"><img src=\"https://colab.research.google.com/assets/colab-badge.svg\" alt=\"Open In Colab\"/></a>"
      ]
    },
    {
      "cell_type": "markdown",
      "metadata": {
        "id": "V7E7L2XANbi7"
      },
      "source": [
        "Göreviniz n küpten oluşan bir bina inşa etmektir. Alttaki küp n^3 hacme sahip olacak, yukarıdaki küp (n-1)^3 hacme sahip olacak ve üst kısım 1^3 hacme sahip olana kadar böyle devam edecek.\n",
        "\n",
        "Size binanın toplam hacmi m verilir. m verildiğinde, inşa etmeniz gereken n küp sayısını bulabilir misiniz?\n",
        "\n",
        "findNb işlevinin parametresi (find_nb, find-nb, findNb, ...)bir m tamsayısı olacaktır ve n^3 + (n-1)^3 + ... + 1^3 = m gibi bir n tamsayısını, eğer varsa -1'i döndürmeniz gerekir. öyle bir n yok\n",
        "\n",
        "Örnekler:\n",
        "findNb(1071225) --> 45\n",
        "\n",
        "findNb(91716553919377) --> -1"
      ]
    },
    {
      "cell_type": "code",
      "metadata": {
        "colab": {
          "base_uri": "https://localhost:8080/"
        },
        "id": "huBK8HaOhwhw",
        "outputId": "625fa6a9-85f3-442e-f1b1-defa1af3bd85"
      },
      "source": [
        "def find_nb(m):\n",
        "    n = 1\n",
        "    volume = 0\n",
        "    while volume < m:\n",
        "        volume += n**3\n",
        "        if volume == m:\n",
        "            return n\n",
        "        n += 1\n",
        "    return -1\n",
        "find_nb(1071225)"
      ],
      "execution_count": 14,
      "outputs": [
        {
          "output_type": "execute_result",
          "data": {
            "text/plain": [
              "45"
            ]
          },
          "metadata": {
            "tags": []
          },
          "execution_count": 14
        }
      ]
    },
    {
      "cell_type": "code",
      "metadata": {
        "colab": {
          "base_uri": "https://localhost:8080/"
        },
        "id": "f4y0J_YpwLtu",
        "outputId": "ec52e191-d091-4177-d569-11ac747d06d3"
      },
      "source": [
        "def find_nb(m):\n",
        "    i,sum = 1,1\n",
        "    while sum < m:\n",
        "        i+=1\n",
        "        sum+=i**3\n",
        "    return i if m==sum else -1\n",
        "find_nb(1071225)    "
      ],
      "execution_count": 13,
      "outputs": [
        {
          "output_type": "execute_result",
          "data": {
            "text/plain": [
              "45"
            ]
          },
          "metadata": {
            "tags": []
          },
          "execution_count": 13
        }
      ]
    }
  ]
}