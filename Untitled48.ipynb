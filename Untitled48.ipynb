{
  "nbformat": 4,
  "nbformat_minor": 0,
  "metadata": {
    "colab": {
      "name": "Untitled48.ipynb",
      "provenance": [],
      "authorship_tag": "ABX9TyN+D0qZnr3y3sJBdDZoefag",
      "include_colab_link": true
    },
    "kernelspec": {
      "name": "python3",
      "display_name": "Python 3"
    },
    "language_info": {
      "name": "python"
    }
  },
  "cells": [
    {
      "cell_type": "markdown",
      "metadata": {
        "id": "view-in-github",
        "colab_type": "text"
      },
      "source": [
        "<a href=\"https://colab.research.google.com/github/Burak9150/Python-soru-kutuphanesi/blob/main/Untitled48.ipynb\" target=\"_parent\"><img src=\"https://colab.research.google.com/assets/colab-badge.svg\" alt=\"Open In Colab\"/></a>"
      ]
    },
    {
      "cell_type": "markdown",
      "metadata": {
        "id": "V7E7L2XANbi7"
      },
      "source": [
        "Bir kelime dizisi verildiğinde, en yüksek puanlı kelimeyi bulmanız gerekir.\n",
        "\n",
        "Bir kelimenin her harfi, alfabedeki konumuna göre puan alır: a = 1, b = 2, c = 3vb.\n",
        "\n",
        "En yüksek puanlı kelimeyi bir dize olarak döndürmeniz gerekir.\n",
        "\n",
        "İki kelime aynı puanı alıyorsa, orijinal dizede en erken görünen kelimeyi döndürün.\n",
        "\n",
        "Tüm harfler küçük olacak ve tüm girişler geçerli olacaktır."
      ]
    },
    {
      "cell_type": "code",
      "metadata": {
        "colab": {
          "base_uri": "https://localhost:8080/",
          "height": 35
        },
        "id": "huBK8HaOhwhw",
        "outputId": "3e49ecc9-6b85-4dec-e76f-9b781fea4799"
      },
      "source": [
        "def high(x):\n",
        "    highest_score = 0\n",
        "    for word in x.split(' '):\n",
        "        score = sum(ord(c)-96 for c in word)\n",
        "        if score > highest_score:\n",
        "            highest_score = score\n",
        "            highest_word = word\n",
        "            \n",
        "    return highest_word\n",
        "high(\"what time are we climbing up the volcano\")"
      ],
      "execution_count": 10,
      "outputs": [
        {
          "output_type": "execute_result",
          "data": {
            "application/vnd.google.colaboratory.intrinsic+json": {
              "type": "string"
            },
            "text/plain": [
              "'volcano'"
            ]
          },
          "metadata": {
            "tags": []
          },
          "execution_count": 10
        }
      ]
    },
    {
      "cell_type": "code",
      "metadata": {
        "colab": {
          "base_uri": "https://localhost:8080/",
          "height": 35
        },
        "id": "f4y0J_YpwLtu",
        "outputId": "c4c3f5d2-cae3-407d-e320-2f441d1c8798"
      },
      "source": [
        "def high(x):\n",
        "    s, n = x.split(), [sum(ord(c) - 96 for c in y) for y in x.split()]\n",
        "    return s[n.index(max(n))]\n",
        "high(\"what time are we climbing up the volcano\")"
      ],
      "execution_count": 9,
      "outputs": [
        {
          "output_type": "execute_result",
          "data": {
            "application/vnd.google.colaboratory.intrinsic+json": {
              "type": "string"
            },
            "text/plain": [
              "'volcano'"
            ]
          },
          "metadata": {
            "tags": []
          },
          "execution_count": 9
        }
      ]
    },
    {
      "cell_type": "code",
      "metadata": {
        "id": "NzNwOM4JdNPm",
        "outputId": "5221aa2c-1121-489b-fd28-7a9bcfc86838",
        "colab": {
          "base_uri": "https://localhost:8080/",
          "height": 35
        }
      },
      "source": [
        "get_score = \"_abcdefghijklmnopqrstuvwxyz\".index\n",
        "\n",
        "\n",
        "def high(stg):\n",
        "    return max(stg.split(), key=lambda word: sum(get_score(c) for c in word))\n",
        "\n",
        "\n",
        "high(\"what time are we climbing up the volcano\")"
      ],
      "execution_count": 8,
      "outputs": [
        {
          "output_type": "execute_result",
          "data": {
            "application/vnd.google.colaboratory.intrinsic+json": {
              "type": "string"
            },
            "text/plain": [
              "'volcano'"
            ]
          },
          "metadata": {
            "tags": []
          },
          "execution_count": 8
        }
      ]
    },
    {
      "cell_type": "code",
      "metadata": {
        "id": "5JWsYXx5mo6O",
        "outputId": "00dff476-9dcd-4726-d0ac-9a25e5c916b9",
        "colab": {
          "base_uri": "https://localhost:8080/",
          "height": 35
        }
      },
      "source": [
        "def high(x):\n",
        "    words=x.split(' ')\n",
        "    list = []\n",
        "    for i in words:\n",
        "        scores = [sum([ord(char) - 96 for char in i])]\n",
        "        list.append(scores)\n",
        "    return words[list.index(max(list))]\n",
        "\n",
        "high(\"what time are we climbing up the volcano\")"
      ],
      "execution_count": 11,
      "outputs": [
        {
          "output_type": "execute_result",
          "data": {
            "application/vnd.google.colaboratory.intrinsic+json": {
              "type": "string"
            },
            "text/plain": [
              "'volcano'"
            ]
          },
          "metadata": {
            "tags": []
          },
          "execution_count": 11
        }
      ]
    }
  ]
}