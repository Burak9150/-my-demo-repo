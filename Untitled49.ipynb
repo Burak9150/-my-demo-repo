{
  "nbformat": 4,
  "nbformat_minor": 0,
  "metadata": {
    "colab": {
      "name": "Untitled49.ipynb",
      "provenance": [],
      "authorship_tag": "ABX9TyN4V4LLpN7Q+rhFLQ5otmBl",
      "include_colab_link": true
    },
    "kernelspec": {
      "display_name": "Python 3",
      "name": "python3"
    },
    "language_info": {
      "name": "python"
    }
  },
  "cells": [
    {
      "cell_type": "markdown",
      "metadata": {
        "id": "view-in-github",
        "colab_type": "text"
      },
      "source": [
        "<a href=\"https://colab.research.google.com/github/Burak9150/Python-soru-kutuphanesi/blob/main/Untitled49.ipynb\" target=\"_parent\"><img src=\"https://colab.research.google.com/assets/colab-badge.svg\" alt=\"Open In Colab\"/></a>"
      ]
    },
    {
      "cell_type": "markdown",
      "metadata": {
        "id": "5Jh8RgPv6_56"
      },
      "source": [
        "persistencePozitif bir parametre alan numve numtek bir basamağa ulaşana kadar basamakları çarpmanız gereken sayı olan çarpımsal kalıcılığını döndüren bir fonksiyon yazın .\n",
        "\n",
        "Örneğin:\n",
        "\n",
        " persistence(39) # returns 3, because 3*9=27, 2*7=14, 1*4=4\n",
        "                 # and 4 has only one digit\n",
        "                  \n",
        " persistence(999) # returns 4, because 9*9*9=729, 7*2*9=126,\n",
        "                  # 1*2*6=12, and finally 1*2=2\n",
        "\n",
        " persistence(4) # returns 0, because 4 is already a one-digit number\n"
      ]
    },
    {
      "cell_type": "code",
      "metadata": {
        "colab": {
          "base_uri": "https://localhost:8080/"
        },
        "id": "SGCZBxiRr-FF",
        "outputId": "20aaf27a-64a1-4a38-923e-fb0079878696"
      },
      "source": [
        "def persistence(n):\n",
        " sayaç=0\n",
        " while len(str(n))>1:\n",
        "   t=1\n",
        "   for i in str(n):\n",
        "      t*=int(i)\n",
        "   sayaç+=1\n",
        "   n=t\n",
        " return sayaç\n",
        "   \n",
        "persistence(999)\n",
        "\n",
        "\n",
        "    "
      ],
      "execution_count": 2,
      "outputs": [
        {
          "output_type": "execute_result",
          "data": {
            "text/plain": [
              "4"
            ]
          },
          "metadata": {},
          "execution_count": 2
        }
      ]
    },
    {
      "cell_type": "code",
      "metadata": {
        "id": "_xmrjc7i7BUn"
      },
      "source": [
        "def persistence(n):\n",
        "    ans=0\n",
        "    if len(str(n))==1:return ans\n",
        "    s=str(n)\n",
        "    k=1\n",
        "    for i in s:\n",
        "        k*=int(i)\n",
        "    ans+=persistence(k)+1\n",
        "    return ans"
      ],
      "execution_count": null,
      "outputs": []
    },
    {
      "cell_type": "code",
      "metadata": {
        "id": "4MHlZIrb77FW"
      },
      "source": [
        "def persistence(n):    \n",
        "    count = 0\n",
        "    while n >= 10:\n",
        "        count += 1\n",
        "        tmp = 1\n",
        "        for i, num in enumerate(str(n)):\n",
        "            tmp = tmp * int(str(n)[i])\n",
        "        n = tmp\n",
        "    return count  "
      ],
      "execution_count": null,
      "outputs": []
    },
    {
      "cell_type": "code",
      "metadata": {
        "id": "-DPVsKP177DB"
      },
      "source": [
        "def persistence(n, t=0):\n",
        "    n=str(n)\n",
        "    z=1\n",
        "    if len(n)!=1:\n",
        "        for x in n:\n",
        "            z*=int(x)\n",
        "        return persistence(z, t+1)\n",
        "    else:\n",
        "        return t"
      ],
      "execution_count": null,
      "outputs": []
    },
    {
      "cell_type": "code",
      "metadata": {
        "id": "0SVL4iF977Al"
      },
      "source": [
        "def persistence(n):\n",
        "    turn = 0\n",
        "    while 1:\n",
        "        a = [x for x in str(n)]\n",
        "        if len(a) < 2:\n",
        "            return 0\n",
        "        n = 1\n",
        "        for i in range(0,len(a)):\n",
        "            n = n * int(a[i])\n",
        "        turn = turn + 1\n",
        "        if n < 10:\n",
        "            return turn"
      ],
      "execution_count": null,
      "outputs": []
    },
    {
      "cell_type": "code",
      "metadata": {
        "id": "QqusqjCB7675"
      },
      "source": [
        " count = 0\n",
        "    while n >= 9:\n",
        "        count += 1\n",
        "        t = [int(d) for d in str(n)]\n",
        "        n = 1\n",
        "        for x in t:\n",
        "            n *= x\n",
        "    return count"
      ],
      "execution_count": null,
      "outputs": []
    },
    {
      "cell_type": "code",
      "metadata": {
        "id": "JFhBzu2O762t"
      },
      "source": [
        "def persistence(n):\n",
        "    n = str(n)\n",
        "    count = 0\n",
        "    while len(n) > 1:\n",
        "        p = 1\n",
        "        for i in n:\n",
        "            p *= int(i)\n",
        "        n = str(p)\n",
        "        count += 1\n",
        "    return count"
      ],
      "execution_count": null,
      "outputs": []
    }
  ]
}