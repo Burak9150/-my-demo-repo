{
  "nbformat": 4,
  "nbformat_minor": 0,
  "metadata": {
    "colab": {
      "name": "Untitled49.ipynb",
      "provenance": [],
      "authorship_tag": "ABX9TyMdMkjZv+t0643eaAaCNt7W",
      "include_colab_link": true
    },
    "kernelspec": {
      "name": "python3",
      "display_name": "Python 3"
    },
    "language_info": {
      "name": "python"
    }
  },
  "cells": [
    {
      "cell_type": "markdown",
      "metadata": {
        "id": "view-in-github",
        "colab_type": "text"
      },
      "source": [
        "<a href=\"https://colab.research.google.com/github/Burak9150/Python-soru-kutuphanesi/blob/main/Untitled49.ipynb\" target=\"_parent\"><img src=\"https://colab.research.google.com/assets/colab-badge.svg\" alt=\"Open In Colab\"/></a>"
      ]
    },
    {
      "cell_type": "code",
      "metadata": {
        "id": "SGCZBxiRr-FF"
      },
      "source": [
        "\n",
        "\n",
        "\n",
        "\n",
        "    "
      ],
      "execution_count": 1,
      "outputs": []
    },
    {
      "cell_type": "code",
      "metadata": {
        "id": "Fi86W_5g5l4_"
      },
      "source": [
        ""
      ],
      "execution_count": null,
      "outputs": []
    },
    {
      "cell_type": "markdown",
      "metadata": {
        "id": "aXiRRVHE5zlM"
      },
      "source": [
        "Bir cümledeki her harfin sayısını sayın.\n",
        "Çalıştığınız departman kelime/metin analizi yapan bir proje yapımını üstlenmiştir. Bu proje kapsamında girilen cümlelerdeki harf veya karakter sayısını hesaplamanız istenmektedir.\n",
        "\n",
        "Bir Python programı yazın;\n",
        "kullanıcıdan bir cümle alır,\n",
        "cümlenin her harfinin sayısını sayar,\n",
        "Harfleri/karakterleri anahtar olarak , sayılan sayıları ise bir sözlükte değer olarak toplar .\n",
        "Examples\n",
        "Sample inputs\tOutputs\n",
        "hippo runs to us!\t\n",
        "{'s': 2, 'r': 1, 't': 1, 'h': 1, 'n': 1, \n",
        "'i': 1, 'u': 2, 'o': 2, 'p': 2, ' ': 3, '!': 1}"
      ]
    },
    {
      "cell_type": "code",
      "metadata": {
        "id": "hA-N1EaRnJhe",
        "outputId": "d766b25a-8c12-4d47-8c88-cedf3b9373d5",
        "colab": {
          "base_uri": "https://localhost:8080/"
        }
      },
      "source": [
        "n=input(\"kelime giriniz : \")\n",
        "def kelime(n):\n",
        "  l={}\n",
        "  for i in n:\n",
        "      x=n.count(i)\n",
        "      l[i]=x\n",
        "    \n",
        "  return l\n",
        "print(kelime(n))"
      ],
      "execution_count": 1,
      "outputs": [
        {
          "output_type": "stream",
          "text": [
            "kelime giriniz : Ağlasam sesimi duyar mısınız, Mısralarımda; Dokunabilir misiniz, Gözyaşlarıma, ellerinizle?  Bilmezdim şarkıların bu kadar güzel, Kelimelerinse kifayetsiz olduğunu Bu derde düşmeden önce.  Bir yer var, biliyorum; Her şeyi söylemek mümkün; Epeyce yaklaşmışım, duyuyorum; Anlatamıyorum.\n",
            "{'A': 2, 'ğ': 2, 'l': 17, 'a': 20, 's': 9, 'm': 19, ' ': 34, 'e': 23, 'i': 19, 'd': 10, 'u': 12, 'y': 12, 'r': 18, 'ı': 11, 'n': 11, 'z': 7, ',': 6, 'M': 1, ';': 4, 'D': 1, 'o': 5, 'k': 7, 'b': 3, 'G': 1, 'ö': 3, 'ş': 6, '?': 1, 'B': 3, 'g': 1, 'ü': 4, 'K': 1, 'f': 1, 't': 2, 'c': 2, '.': 2, 'v': 1, 'H': 1, 'E': 1, 'p': 1}\n"
          ],
          "name": "stdout"
        }
      ]
    },
    {
      "cell_type": "code",
      "metadata": {
        "id": "BFHGUNIz_6UI",
        "outputId": "a6362910-9ef8-4366-bcf0-54d4b78586c2",
        "colab": {
          "base_uri": "https://localhost:8080/"
        }
      },
      "source": [
        "n=input(\"kelime giriniz : \")\n",
        "def kelime(n):\n",
        "  l={}\n",
        "  for i in n:\n",
        "    if i in l:\n",
        "      l[i]+=1\n",
        "    else:\n",
        "      l[i]=1\n",
        "  return l\n",
        "print(kelime(n))"
      ],
      "execution_count": 8,
      "outputs": [
        {
          "output_type": "stream",
          "text": [
            "kelime giriniz : 1234567890\n",
            "{'1': 1, '2': 1, '3': 1, '4': 1, '5': 1, '6': 1, '7': 1, '8': 1, '9': 1, '0': 1}\n"
          ],
          "name": "stdout"
        }
      ]
    }
  ]
}