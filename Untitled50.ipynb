{
  "nbformat": 4,
  "nbformat_minor": 0,
  "metadata": {
    "colab": {
      "name": "Untitled50.ipynb",
      "provenance": [],
      "authorship_tag": "ABX9TyO9XSv044V4QnwIai0OL4Ur",
      "include_colab_link": true
    },
    "kernelspec": {
      "name": "python3",
      "display_name": "Python 3"
    },
    "language_info": {
      "name": "python"
    }
  },
  "cells": [
    {
      "cell_type": "markdown",
      "metadata": {
        "id": "view-in-github",
        "colab_type": "text"
      },
      "source": [
        "<a href=\"https://colab.research.google.com/github/Burak9150/Python-soru-kutuphanesi/blob/main/Untitled50.ipynb\" target=\"_parent\"><img src=\"https://colab.research.google.com/assets/colab-badge.svg\" alt=\"Open In Colab\"/></a>"
      ]
    },
    {
      "cell_type": "markdown",
      "metadata": {
        "id": "Rp7PZ9BgSlhL"
      },
      "source": [
        "Argüman olarak bir dizi (arr) verildiğinde countSmileys, toplam gülen yüz sayısını döndürmesi gereken işlevi tamamlayın .\n",
        "\n",
        "Gülen bir yüz için kurallar:\n",
        "\n",
        "Her gülen yüz geçerli bir çift göz içermelidir. Göz olarak işaretlenebilir :veya;\n",
        "Gülen bir yüzün burnu olabilir ama öyle olması gerekmiyor. Bir burun için geçerli karakterler -veya~\n",
        "Her gülen yüz, ya )veya ile işaretlenmesi gereken gülümseyen bir ağza sahip olmalıdır.D\n",
        "Belirtilenler dışında ek karakterlere izin verilmez.\n",
        "\n",
        "Geçerli gülen yüz örnekleri: :) :D ;-D :~)\n",
        "Geçersiz gülen yüzler: ;( :> :} :]\n",
        "\n",
        "Örnek\n",
        "countSmileys([':)', ';(', ';}', ':-D']);       // should return 2;\n",
        "countSmileys([';D', ':-(', ':-)', ';~)']);     // should return 3;\n",
        "countSmileys([';]', ':[', ';*', ':$', ';-D']); // should return 1;"
      ]
    },
    {
      "cell_type": "code",
      "metadata": {
        "id": "KwXHFdJyZjGG"
      },
      "source": [
        "def count_smileys(arr):\n",
        "    eyes = [\":\", \";\"]\n",
        "    noses = [\"\", \"-\", \"~\"]\n",
        "    mouths = [\")\", \"D\"]\n",
        "    count = 0\n",
        "    for eye in eyes:\n",
        "        for nose in noses:\n",
        "            for mouth in mouths:\n",
        "                face = eye + nose + mouth\n",
        "                count += arr.count(face)\n",
        "    return count\n"
      ],
      "execution_count": null,
      "outputs": []
    },
    {
      "cell_type": "code",
      "metadata": {
        "id": "KYyKnzjvZj81"
      },
      "source": [
        "def count_smileys(arr):\n",
        "    count = 0\n",
        "    if not arr:\n",
        "      return 0\n",
        "    smileys = [\":)\", \";)\", \":~)\", \";~)\", \":-)\", \";-)\", \":D\", \";D\", \":~D\", \";~D\", \":-D\", \";-D\"]\n",
        "    for i in arr:\n",
        "      if i in smileys:\n",
        "        count += 1\n",
        "    return count"
      ],
      "execution_count": null,
      "outputs": []
    },
    {
      "cell_type": "code",
      "metadata": {
        "id": "VFwbwW-gZjzY"
      },
      "source": [
        "count_smileys=lambda a:sum(s and s[0]in':;'and s[-1]in')D'and s[1:-1]in('','-','~')for s in a)"
      ],
      "execution_count": null,
      "outputs": []
    },
    {
      "cell_type": "code",
      "metadata": {
        "id": "C91dOySfZjiZ"
      },
      "source": [
        "def count_smileys(arr):\n",
        "    return len(list(filter(lambda x: x in [':D',':~D',':-D',';D',';~D',';-D',':)',':~)',':-)',';)',';~)',';-)'],arr)))"
      ],
      "execution_count": null,
      "outputs": []
    },
    {
      "cell_type": "code",
      "metadata": {
        "id": "Rm4zGB5HZjfR"
      },
      "source": [
        "def count_smileys(arr):\n",
        "    arr = [i.replace('-', '').replace('~', '') for i in arr]\n",
        "    return sum(arr.count(i) for i in [':)', ':D', ';D', ';)'])"
      ],
      "execution_count": null,
      "outputs": []
    }
  ]
}