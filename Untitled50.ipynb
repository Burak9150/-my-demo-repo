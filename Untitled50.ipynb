{
  "nbformat": 4,
  "nbformat_minor": 0,
  "metadata": {
    "colab": {
      "name": "Untitled50.ipynb",
      "provenance": [],
      "authorship_tag": "ABX9TyMtTI/80n6cJO90U+RvR0d6",
      "include_colab_link": true
    },
    "kernelspec": {
      "name": "python3",
      "display_name": "Python 3"
    },
    "language_info": {
      "name": "python"
    }
  },
  "cells": [
    {
      "cell_type": "markdown",
      "metadata": {
        "id": "view-in-github",
        "colab_type": "text"
      },
      "source": [
        "<a href=\"https://colab.research.google.com/github/Burak9150/Python-soru-kutuphanesi/blob/main/Untitled50.ipynb\" target=\"_parent\"><img src=\"https://colab.research.google.com/assets/colab-badge.svg\" alt=\"Open In Colab\"/></a>"
      ]
    },
    {
      "cell_type": "code",
      "metadata": {
        "colab": {
          "base_uri": "https://localhost:8080/"
        },
        "id": "ZmJ6AnoWBv-f",
        "outputId": "d4e2538b-f100-4174-d77b-f5ad95156cff"
      },
      "source": [
        "def order_weight(strng):\n",
        "  strng=strng.split(\" \")\n",
        "  \n",
        "  l=[]\n",
        "  for i in strng:\n",
        "    t=0\n",
        "    for j in str(i):\n",
        "      t+=int(j)\n",
        "    l.append(t)\n",
        "  x=list(zip(l,strng))\n",
        "  y=sorted(x)\n",
        "  return y\n",
        "print(order_weight(\"56 65 74 100 99 68 86 180 90\"))"
      ],
      "execution_count": 9,
      "outputs": [
        {
          "output_type": "stream",
          "text": [
            "[(1, '100'), (9, '180'), (9, '90'), (11, '56'), (11, '65'), (11, '74'), (14, '68'), (14, '86'), (18, '99')]\n"
          ],
          "name": "stdout"
        }
      ]
    },
    {
      "cell_type": "markdown",
      "metadata": {
        "id": "Rp7PZ9BgSlhL"
      },
      "source": [
        "dizeyi toplamına göre sıralayın.aynı toplama sahip olanları alfabetik sıraya göre sıralayın."
      ]
    },
    {
      "cell_type": "code",
      "metadata": {
        "colab": {
          "base_uri": "https://localhost:8080/"
        },
        "id": "4CvibNHofBTD",
        "outputId": "80d41118-1bb0-4aaa-de68-2e02c5d8d1f5"
      },
      "source": [
        "def order_weight(strng):\n",
        "    # your code\n",
        "    bar = sorted(strng.split(' '))\n",
        "    baz = sorted(bar, key=foo)\n",
        "    return \" \".join(baz)\n",
        "    \n",
        "    \n",
        "def foo(n):\n",
        "  return sum([int(item) for item in n])\n",
        "print(order_weight(\"56 65 74 100 99 68 86 180 90\"))"
      ],
      "execution_count": 1,
      "outputs": [
        {
          "output_type": "stream",
          "text": [
            "100 180 90 56 65 74 68 86 99\n"
          ],
          "name": "stdout"
        }
      ]
    }
  ]
}