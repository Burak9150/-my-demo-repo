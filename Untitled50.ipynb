{
  "nbformat": 4,
  "nbformat_minor": 0,
  "metadata": {
    "colab": {
      "name": "Untitled50.ipynb",
      "provenance": [],
      "authorship_tag": "ABX9TyPNaOVn3z7vWHKs9fDQAeD9",
      "include_colab_link": true
    },
    "kernelspec": {
      "name": "python3",
      "display_name": "Python 3"
    },
    "language_info": {
      "name": "python"
    }
  },
  "cells": [
    {
      "cell_type": "markdown",
      "metadata": {
        "id": "view-in-github",
        "colab_type": "text"
      },
      "source": [
        "<a href=\"https://colab.research.google.com/github/Burak9150/Python-soru-kutuphanesi/blob/main/Untitled50.ipynb\" target=\"_parent\"><img src=\"https://colab.research.google.com/assets/colab-badge.svg\" alt=\"Open In Colab\"/></a>"
      ]
    },
    {
      "cell_type": "markdown",
      "metadata": {
        "id": "Rp7PZ9BgSlhL"
      },
      "source": [
        "Bir veya daha fazla kelimeden oluşan bir dize alan ve aynı dizeyi döndüren, ancak beş veya daha fazla harfli kelimenin tümü ters çevrilmiş (bu kata adı gibi) bir işlev yazın.\n",
        "\n",
        "Geçirilen dizeler yalnızca harflerden ve boşluklardan oluşacaktır.\n",
        "Boşluklar, yalnızca birden fazla kelime mevcut olduğunda dahil edilecektir.\n",
        "Örnekler:\n",
        "\n",
        "spinWords(\"Hey fellow warriors\") => \"Hey wollef sroirraw\" \n",
        "spinWords(\"This is a test\") => \"This is a test\" \n",
        "spinWords(\"This is another test\") => \"This is rehtona test\""
      ]
    },
    {
      "cell_type": "code",
      "metadata": {
        "colab": {
          "base_uri": "https://localhost:8080/",
          "height": 35
        },
        "id": "MOow9idZeSJE",
        "outputId": "11eb799f-c525-4f93-ad29-df3af40c0f60"
      },
      "source": [
        "def spin_words(sentence):\n",
        "  sentence=sentence.split(\" \")\n",
        "  l=\"\"\n",
        "  for i in sentence:\n",
        "    if len(i)<5:\n",
        "       l+=i+\" \" \n",
        "    elif len(i)>=5:\n",
        "      i=i[::-1]\n",
        "      l+=i+\" \"\n",
        "  return l.rstrip()\n",
        "spin_words(\"Hey fellow warriors\")"
      ],
      "execution_count": 12,
      "outputs": [
        {
          "output_type": "execute_result",
          "data": {
            "application/vnd.google.colaboratory.intrinsic+json": {
              "type": "string"
            },
            "text/plain": [
              "'wollef sroirraw'"
            ]
          },
          "metadata": {},
          "execution_count": 12
        }
      ]
    },
    {
      "cell_type": "code",
      "metadata": {
        "id": "tt5pU1NQeSB1"
      },
      "source": [
        "def spin_words(sentence):\n",
        "    # Your code goes here\n",
        "    return \" \".join([x[::-1] if len(x) >= 5 else x for x in sentence.split(\" \")])"
      ],
      "execution_count": null,
      "outputs": []
    },
    {
      "cell_type": "code",
      "metadata": {
        "id": "dg-bQiUGeR4l"
      },
      "source": [
        "def spin_words(sentence):\n",
        "    words = [word for word in sentence.split(\" \")]\n",
        "    words = [word if len(word) < 5 else word[::-1] for word in words]\n",
        "    return \" \".join(words)\n",
        "    "
      ],
      "execution_count": null,
      "outputs": []
    },
    {
      "cell_type": "code",
      "metadata": {
        "id": "j1zZF4yYeR1z"
      },
      "source": [
        "def spin_words(sentence):\n",
        "    output = []\n",
        "    for word in sentence.split(' '):\n",
        "        if len(word) > 4:\n",
        "            word = word[::-1]\n",
        "        output.append(word)\n",
        "    return ' '.join(output)"
      ],
      "execution_count": null,
      "outputs": []
    },
    {
      "cell_type": "code",
      "metadata": {
        "id": "FB2Su4SJeRT5"
      },
      "source": [
        "spin_words = lambda s: ' '.join([\n",
        "len(w) > 4 and w[::-1] or w\n",
        "for w in s.split()\n",
        "])"
      ],
      "execution_count": null,
      "outputs": []
    }
  ]
}