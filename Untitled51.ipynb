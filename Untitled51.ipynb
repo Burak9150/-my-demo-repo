{
  "nbformat": 4,
  "nbformat_minor": 0,
  "metadata": {
    "colab": {
      "name": "Untitled51.ipynb",
      "provenance": [],
      "authorship_tag": "ABX9TyO90kkYXTxKA2lOsLfNTZF3",
      "include_colab_link": true
    },
    "kernelspec": {
      "name": "python3",
      "display_name": "Python 3"
    },
    "language_info": {
      "name": "python"
    }
  },
  "cells": [
    {
      "cell_type": "markdown",
      "metadata": {
        "id": "view-in-github",
        "colab_type": "text"
      },
      "source": [
        "<a href=\"https://colab.research.google.com/github/Burak9150/Python-soru-kutuphanesi/blob/main/Untitled51.ipynb\" target=\"_parent\"><img src=\"https://colab.research.google.com/assets/colab-badge.svg\" alt=\"Open In Colab\"/></a>"
      ]
    },
    {
      "cell_type": "markdown",
      "metadata": {
        "id": "xCf3DzInB5zs"
      },
      "source": [
        "Verilen: ad karmalarını içeren bir dizi\n",
        "\n",
        "Dönüş: Bir ve işaretiyle ayrılması gereken son iki ad dışında, virgülle ayrılmış bir ad listesi olarak biçimlendirilmiş bir dize.\n",
        "\n",
        "Örnek:\n",
        "\n",
        "namelist([ {'name': 'Bart'}, {'name': 'Lisa'}, {'name': 'Maggie'} ])\n",
        "# returns 'Bart, Lisa & Maggie'\n",
        "\n",
        "namelist([ {'name': 'Bart'}, {'name': 'Lisa'} ])\n",
        "# returns 'Bart & Lisa'\n",
        "\n",
        "namelist([ {'name': 'Bart'} ])\n",
        "# returns 'Bart'\n",
        "\n",
        "namelist([])\n",
        "# returns ''"
      ]
    },
    {
      "cell_type": "code",
      "metadata": {
        "id": "295WIjSnBbcB"
      },
      "source": [
        "def namelist(names):\n",
        "    if len(names) > 1:\n",
        "        return '{} & {}'.format(', '.join(name['name'] for name in names[:-1]), \n",
        "                                names[-1]['name'])\n",
        "    elif names:\n",
        "        return names[0]['name']\n",
        "    else:\n",
        "        return ''"
      ],
      "execution_count": null,
      "outputs": []
    },
    {
      "cell_type": "markdown",
      "metadata": {
        "id": "aDncwdgjB4Hb"
      },
      "source": [
        ""
      ]
    },
    {
      "cell_type": "code",
      "metadata": {
        "id": "E_caHgzLBbV2"
      },
      "source": [
        "def namelist(names):\n",
        "    if len(names)==0: return ''\n",
        "    if len(names)==1: return names[0]['name']\n",
        "    return ', '.join([n['name'] for n in names[:-1]]) + ' & ' + names[-1]['name']"
      ],
      "execution_count": null,
      "outputs": []
    },
    {
      "cell_type": "code",
      "metadata": {
        "id": "_S9OIYUEJ9K1"
      },
      "source": [
        "def namelist(names):\n",
        "  return \", \".join([name[\"name\"] for name in names])[::-1].replace(\",\", \"& \",1)[::-1]"
      ],
      "execution_count": null,
      "outputs": []
    },
    {
      "cell_type": "code",
      "metadata": {
        "id": "byR2R6n9KGBw"
      },
      "source": [
        "def namelist(names):\n",
        "\n",
        "    names = [ hash[\"name\"] for hash in names ]\n",
        "    output = names[:-2]\n",
        "    output.append(\" & \".join(names[-2:]))\n",
        "    return \", \".join(output)"
      ],
      "execution_count": null,
      "outputs": []
    }
  ]
}