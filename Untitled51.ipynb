{
  "nbformat": 4,
  "nbformat_minor": 0,
  "metadata": {
    "colab": {
      "name": "Untitled51.ipynb",
      "provenance": [],
      "authorship_tag": "ABX9TyOuf5/LySFGS3IX6ZadQAmL",
      "include_colab_link": true
    },
    "kernelspec": {
      "name": "python3",
      "display_name": "Python 3"
    },
    "language_info": {
      "name": "python"
    }
  },
  "cells": [
    {
      "cell_type": "markdown",
      "metadata": {
        "id": "view-in-github",
        "colab_type": "text"
      },
      "source": [
        "<a href=\"https://colab.research.google.com/github/Burak9150/Python-soru-kutuphanesi/blob/main/Untitled51.ipynb\" target=\"_parent\"><img src=\"https://colab.research.google.com/assets/colab-badge.svg\" alt=\"Open In Colab\"/></a>"
      ]
    },
    {
      "cell_type": "markdown",
      "metadata": {
        "id": "xCf3DzInB5zs"
      },
      "source": [
        "Aşağıdaki çizim, belirli bir \"doğru\" dikdörtgenin karelere nasıl kesileceği hakkında bir fikir verir (\"doğru\" dikdörtgen, iki boyutun farklı olduğu anlamına gelir).\n",
        "\n",
        "alternatif metin\n",
        "\n",
        "Bu çizimi bir algoritmaya çevirebilir misiniz?\n",
        "\n",
        "Size iki boyut verilecek\n",
        "\n",
        "pozitif bir tamsayı uzunluğu\n",
        "pozitif bir tamsayı genişliği\n",
        "Her karenin boyutuyla bir koleksiyon veya dize (dile bağlı olarak; Shell bash, PowerShell, Pascal ve Fortran bir dize döndürür) döndürürsünüz.\n",
        "\n",
        "Genel formdaki örnekler:\n",
        "(dile bağlı olarak)\n",
        "\n",
        "  sqInRect(5, 3) should return [3, 2, 1, 1]\n",
        "  sqInRect(3, 5) should return [3, 2, 1, 1]\n",
        "  \n",
        "  You can see examples for your language in **\"SAMPLE TESTS\".**\n",
        "Notlar:\n",
        "lng == wdthbaşlangıç ​​durumu olarak tamamen farklı bir problem olacağı ve çizimin ile yorumlanması planlanmaktadır lng != wdth. (Bkz. kata, Kareye Kare. Ağaçları koruyun! http://www.codewars.com/kata/54eb33e5bc1a25440d000891 bu sorun için).\n",
        "\n",
        "İlk parametreler böylece olduğunda lng== wdth, çözüm [lng]en belirgin ama olurdu değil bu kata ruhuna öylesine, bu durumda, geri dönüş None/ nil/ null/ Nothing veya dönüş {}C ++, Array()Scala ile []Perl, Raku ile.\n",
        "\n",
        "Bu durumda, C'nin döndürülen yapısı , szbileşenine eşit olacaktır 0.\n",
        "\n",
        "Dizge döndürür \"nil\"Bash, PowerShell, Pascal ve Fortran ile."
      ]
    },
    {
      "cell_type": "code",
      "metadata": {
        "id": "295WIjSnBbcB"
      },
      "source": [
        "def sqInRect(a, b):\n",
        "    if a == b:\n",
        "        return None\n",
        "    \n",
        "    res = []\n",
        "    \n",
        "    while b:\n",
        "        b, a = sorted([a, b])\n",
        "        res += [b]\n",
        "        a, b = b, a-b\n",
        "    \n",
        "    return res"
      ],
      "execution_count": null,
      "outputs": []
    },
    {
      "cell_type": "markdown",
      "metadata": {
        "id": "aDncwdgjB4Hb"
      },
      "source": [
        ""
      ]
    },
    {
      "cell_type": "code",
      "metadata": {
        "id": "E_caHgzLBbV2"
      },
      "source": [
        "# Recursive solution\n",
        "def sqInRect(lng, wdth, recur = 0):\n",
        "    if lng == wdth:\n",
        "        return (None, [lng])[recur]            # If this is original function call, return None for equal sides (per kata requirement);\n",
        "                                               # if this is recursion call, we reached the smallest square, so get out of recursion.\n",
        "    lesser = min(lng, wdth)\n",
        "    return [lesser] + sqInRect(lesser, abs(lng - wdth), recur = 1"
      ],
      "execution_count": null,
      "outputs": []
    },
    {
      "cell_type": "code",
      "metadata": {
        "id": "_S9OIYUEJ9K1"
      },
      "source": [
        "def sqInRect(lng, wdth):\n",
        "    if lng==wdth:\n",
        "        return None\n",
        "    a=[]\n",
        "    while lng>0 and wdth>0:\n",
        "        if lng>=wdth:\n",
        "            a.append(wdth)\n",
        "            lng-=wdth\n",
        "        elif lng<wdth:\n",
        "            a.append(lng)\n",
        "            wdth-=lng\n",
        "    return a"
      ],
      "execution_count": null,
      "outputs": []
    },
    {
      "cell_type": "code",
      "metadata": {
        "id": "byR2R6n9KGBw"
      },
      "source": [
        "def sqInRect(lng, wdth):\n",
        "    if lng == wdth: return None\n",
        "    x, y = sorted([lng, wdth])\n",
        "    ans = []\n",
        "    while x > 0:\n",
        "        ans.append(x)\n",
        "        x, y = sorted([x, y-x])\n",
        "    return ans"
      ],
      "execution_count": null,
      "outputs": []
    }
  ]
}