{
  "nbformat": 4,
  "nbformat_minor": 0,
  "metadata": {
    "colab": {
      "name": "Untitled51.ipynb",
      "provenance": [],
      "authorship_tag": "ABX9TyMqIgjjlTaYMhjd001l+CMR",
      "include_colab_link": true
    },
    "kernelspec": {
      "name": "python3",
      "display_name": "Python 3"
    },
    "language_info": {
      "name": "python"
    }
  },
  "cells": [
    {
      "cell_type": "markdown",
      "metadata": {
        "id": "view-in-github",
        "colab_type": "text"
      },
      "source": [
        "<a href=\"https://colab.research.google.com/github/Burak9150/Python-soru-kutuphanesi/blob/main/Untitled51.ipynb\" target=\"_parent\"><img src=\"https://colab.research.google.com/assets/colab-badge.svg\" alt=\"Open In Colab\"/></a>"
      ]
    },
    {
      "cell_type": "markdown",
      "metadata": {
        "id": "xCf3DzInB5zs"
      },
      "source": [
        "Muhtemelen Facebook ve diğer sayfalardan \"beğenme\" sistemini biliyorsunuzdur. İnsanlar blog gönderilerini, resimleri veya diğer öğeleri \"beğenebilir\". Böyle bir öğenin yanında görüntülenmesi gereken metni oluşturmak istiyoruz.\n",
        "\n",
        "likesBir öğeyi beğenen kişilerin adlarını içeren bir diziyi alan işlevi uygulayın . Örneklerde gösterildiği gibi ekran metnini döndürmelidir:\n",
        "\n",
        "likes([]) # must be \"no one likes this\"\n",
        "likes([\"Peter\"]) # must be \"Peter likes this\"\n",
        "likes([\"Jacob\", \"Alex\"]) # must be \"Jacob and Alex like this\"\n",
        "likes([\"Max\", \"John\", \"Mark\"]) # must be \"Max, John and Mark like this\"\n",
        "likes([\"Alex\", \"Jacob\", \"Mark\", \"Max\"]) # must be \"Alex, Jacob and 2 others"
      ]
    },
    {
      "cell_type": "code",
      "metadata": {
        "id": "BeMcRI25BaEb"
      },
      "source": [
        "def likes(names):\n",
        "    l = len(names)\n",
        "    if l == 0: return 'no one likes this'\n",
        "    if l == 1: return '{} likes this'.format(names[0])\n",
        "    if l == 2: return '{} and {} like this'.format(names[0], names[1])\n",
        "    if l == 3: return '{}, {} and {} like this'.format(names[0], names[1], names[2])\n",
        "    return '{}, {} and {} others like this'.format(names[0], names[1], len(names)-2)"
      ],
      "execution_count": null,
      "outputs": []
    },
    {
      "cell_type": "code",
      "metadata": {
        "id": "jz4nTjWSBbsz"
      },
      "source": [
        "def likes(names):\n",
        "    output = {\n",
        "        0 : \"no one likes this\",\n",
        "        1 : \"{} likes this\",\n",
        "        2 : \"{} and {} like this\",\n",
        "        3 : \"{}, {} and {} like this\",\n",
        "        4 : \"{}, {} and {others} others like this\",\n",
        "    }\n",
        "    \n",
        "    count = len(names)\n",
        "    \n",
        "    return output[min(4,count)].format(*names[:3], others=count-2)"
      ],
      "execution_count": null,
      "outputs": []
    },
    {
      "cell_type": "code",
      "metadata": {
        "id": "6jHKGoewBbnT"
      },
      "source": [
        "def likes(names):\n",
        "    if not names:\n",
        "        return \"no one likes this\"\n",
        "    size = len(names)\n",
        "    if size == 1:\n",
        "        return \"%s likes this\" % names[0]\n",
        "    if size == 2:\n",
        "        return \"%s and %s like this\" % (names[0], names[1])\n",
        "    if size == 3:\n",
        "        return \"%s, %s and %s like this\" % (names[0], names[1], names[2])\n",
        "    if size >= 4:\n",
        "        return \"%s, %s and %s others like this\" % (names[0], names[1], len(names[2:]))"
      ],
      "execution_count": null,
      "outputs": []
    },
    {
      "cell_type": "code",
      "metadata": {
        "id": "H-FsR6AbBbkT"
      },
      "source": [
        "def likes(names):\n",
        "    if len(names) == 0:\n",
        "        return 'no one likes this'\n",
        "    elif len(names) == 1:\n",
        "        return str(names[0]+' likes this')\n",
        "    elif len(names) == 2:\n",
        "        return str(names[0]+' and '+names[1]+' like this')\n",
        "    elif len(names) == 3:\n",
        "        return str(names[0]+', '+names[1]+' and '+names[2]+' like this')\n",
        "    else:\n",
        "        return str(names[0]+', '+names[1]+' and '+str(len(names)-2)+' others like this')"
      ],
      "execution_count": null,
      "outputs": []
    },
    {
      "cell_type": "code",
      "metadata": {
        "id": "2Ua_oIEOBbhK"
      },
      "source": [
        "def likes(names):\n",
        "    formats = {\n",
        "            0: \"no one likes this\",\n",
        "            1: \"{} likes this\",\n",
        "            2: \"{} and {} like this\",\n",
        "            3: \"{}, {} and {} like this\",\n",
        "            4: \"{}, {} and {others} others like this\"\n",
        "        }\n",
        "    n = len(names)\n",
        "    return formats[min(n,4)].format(*names, others=n-2)"
      ],
      "execution_count": null,
      "outputs": []
    },
    {
      "cell_type": "code",
      "metadata": {
        "id": "295WIjSnBbcB"
      },
      "source": [
        "def likes(names):\n",
        "    n = len(names)\n",
        "    return {\n",
        "        0: 'no one likes this',\n",
        "        1: '{} likes this', \n",
        "        2: '{} and {} like this', \n",
        "        3: '{}, {} and {} like this', \n",
        "        4: '{}, {} and {others} others like this'\n",
        "    }[min(4, n)].format(*names[:3], others=n-2)"
      ],
      "execution_count": null,
      "outputs": []
    },
    {
      "cell_type": "markdown",
      "metadata": {
        "id": "aDncwdgjB4Hb"
      },
      "source": [
        ""
      ]
    },
    {
      "cell_type": "code",
      "metadata": {
        "id": "E_caHgzLBbV2"
      },
      "source": [
        ""
      ],
      "execution_count": null,
      "outputs": []
    }
  ]
}