{
  "nbformat": 4,
  "nbformat_minor": 0,
  "metadata": {
    "colab": {
      "name": "Untitled53.ipynb",
      "provenance": [],
      "authorship_tag": "ABX9TyP8L4koOL+gJQUFTDwwRS0V",
      "include_colab_link": true
    },
    "kernelspec": {
      "name": "python3",
      "display_name": "Python 3"
    },
    "language_info": {
      "name": "python"
    }
  },
  "cells": [
    {
      "cell_type": "markdown",
      "metadata": {
        "id": "view-in-github",
        "colab_type": "text"
      },
      "source": [
        "<a href=\"https://colab.research.google.com/github/Burak9150/Python-soru-kutuphanesi/blob/main/Untitled53.ipynb\" target=\"_parent\"><img src=\"https://colab.research.google.com/assets/colab-badge.svg\" alt=\"Open In Colab\"/></a>"
      ]
    },
    {
      "cell_type": "markdown",
      "metadata": {
        "id": "P932jhJm1CNz"
      },
      "source": [
        "Bu örnekte, bir kullanıcı giriş dizesinin alfasayısal olup olmadığını doğrulamanız gerekir. Verilen dize değil nil/null/NULL/None, bu yüzden bunu kontrol etmenize gerek yok.\n",
        "\n",
        "Dize, alfasayısal olması için aşağıdaki koşullara sahiptir:\n",
        "\n",
        "En az bir karakter ( \"\"geçersiz)\n",
        "İzin verilen karakterler büyük / küçük latin harfleri ve ile arasındaki rakamlardır 0.9"
      ]
    },
    {
      "cell_type": "code",
      "metadata": {
        "colab": {
          "base_uri": "https://localhost:8080/"
        },
        "id": "NEOabK9Y4Eb6",
        "outputId": "9be99af6-2885-433b-803e-61557ff13125"
      },
      "source": [
        "def alphanumeric(password):\n",
        "  t=0\n",
        "  k=0\n",
        "  for i in password:\n",
        "    if i.isalpha():\n",
        "      t+=1\n",
        "    elif i.isdigit():\n",
        "      k+=1\n",
        "    else:\n",
        "      return False\n",
        "  if t>0 or k>0:\n",
        "    return True\n",
        "  else:\n",
        "    return False\n",
        "alphanumeric(\"PassW0rd,\")"
      ],
      "execution_count": 7,
      "outputs": [
        {
          "output_type": "execute_result",
          "data": {
            "text/plain": [
              "False"
            ]
          },
          "metadata": {},
          "execution_count": 7
        }
      ]
    },
    {
      "cell_type": "code",
      "metadata": {
        "id": "t5pGLDip6lwG"
      },
      "source": [
        "def alphanumeric(string):\n",
        "    return string.isalnum()"
      ],
      "execution_count": null,
      "outputs": []
    },
    {
      "cell_type": "code",
      "metadata": {
        "id": "w1Sq38yC6lqm"
      },
      "source": [
        "def alphanumeric(string):\n",
        "    abc = 'abcdefghijklmnopqrstuvwxyz'\n",
        "    num = '0123456789'\n",
        "    for i in string:\n",
        "        if i not in abc and i.lower() not in abc and i not in num:\n",
        "            return False\n",
        "    return True"
      ],
      "execution_count": null,
      "outputs": []
    },
    {
      "cell_type": "code",
      "metadata": {
        "id": "_r1KnMbj6loF"
      },
      "source": [
        "alphanumeric = lambda string: string.isalnum()"
      ],
      "execution_count": null,
      "outputs": []
    },
    {
      "cell_type": "code",
      "metadata": {
        "id": "1Yz9LaToP6mz"
      },
      "source": [
        "def alphanumeric(string):\n",
        "    chars = 'abcdefghijklmnopqrstuvwxyzABCDEFGHIJKLMNOPQRSTUVWXYZ1234567890'\n",
        "    i = [i for i in string if i in chars]\n",
        "    return True if ''.join(i)== string else False\n",
        "    "
      ],
      "execution_count": null,
      "outputs": []
    },
    {
      "cell_type": "code",
      "metadata": {
        "id": "8f5p_mgV62sU"
      },
      "source": [
        "def alphanumeric(password):\n",
        "    return True if password.isalnum()and False not in{(48<=ord(i)<=127)for i in password}else False"
      ],
      "execution_count": null,
      "outputs": []
    },
    {
      "cell_type": "code",
      "metadata": {
        "id": "lCPnONHo66ZI"
      },
      "source": [
        "def alphanumeric(password):\n",
        "    if len(password) == 0: return False\n",
        "    for c in password:\n",
        "        if c.isalnum(): continue\n",
        "        return False\n",
        "    return True"
      ],
      "execution_count": null,
      "outputs": []
    }
  ]
}