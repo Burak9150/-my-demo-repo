{
  "nbformat": 4,
  "nbformat_minor": 0,
  "metadata": {
    "colab": {
      "name": "Untitled53.ipynb",
      "provenance": [],
      "authorship_tag": "ABX9TyMMiZX1K6HPyWvc9N4HwFyO",
      "include_colab_link": true
    },
    "kernelspec": {
      "name": "python3",
      "display_name": "Python 3"
    },
    "language_info": {
      "name": "python"
    }
  },
  "cells": [
    {
      "cell_type": "markdown",
      "metadata": {
        "id": "view-in-github",
        "colab_type": "text"
      },
      "source": [
        "<a href=\"https://colab.research.google.com/github/Burak9150/Python-soru-kutuphanesi/blob/main/Untitled53.ipynb\" target=\"_parent\"><img src=\"https://colab.research.google.com/assets/colab-badge.svg\" alt=\"Open In Colab\"/></a>"
      ]
    },
    {
      "cell_type": "markdown",
      "metadata": {
        "id": "P932jhJm1CNz"
      },
      "source": [
        "Numarayı Genişletilmiş Formda Yaz\n",
        "Size bir numara verilecek ve bunu Genişletilmiş Formda bir dize olarak döndürmeniz gerekecek . Örneğin:\n",
        "\n",
        "expanded_form(12) # Should return '10 + 2'\n",
        "expanded_form(42) # Should return '40 + 2'\n",
        "expanded_form(70304) # Should return '70000 + 300 + 4'"
      ]
    },
    {
      "cell_type": "code",
      "metadata": {
        "id": "JKVUqS-G1Aak",
        "colab": {
          "base_uri": "https://localhost:8080/",
          "height": 35
        },
        "outputId": "37a16586-54d3-42dd-d5ad-f79f8e0d916c"
      },
      "source": [
        "def sayı(n):\n",
        "  l=\"\"\n",
        "  k=1\n",
        "  for i in str(n):\n",
        "    if int(i)>0:\n",
        "      l+=i+\"0\"*(int(len(str(n)))-k)+\" + \"\n",
        "      k+=1\n",
        "    elif i==\"0\":\n",
        "      k+=1\n",
        "      continue\n",
        "  return l.rstrip(\"+ \")\n",
        "sayı(1045)\n",
        "\n"
      ],
      "execution_count": 13,
      "outputs": [
        {
          "output_type": "execute_result",
          "data": {
            "application/vnd.google.colaboratory.intrinsic+json": {
              "type": "string"
            },
            "text/plain": [
              "'1000 + 40 + 5'"
            ]
          },
          "metadata": {},
          "execution_count": 13
        }
      ]
    },
    {
      "cell_type": "code",
      "metadata": {
        "id": "sdQYVpZf1vdh",
        "colab": {
          "base_uri": "https://localhost:8080/",
          "height": 35
        },
        "outputId": "66f5baa8-04d4-4920-8e5b-4c2987a99e91"
      },
      "source": [
        "def expanded_form(num):\n",
        "    num = str(num)\n",
        "    st = ''\n",
        "    for j, i in enumerate(num):\n",
        "        if i != '0':\n",
        "            st += ' + {}{}'.format(i, (len(num[j+1:])*'0'))\n",
        "    return st.strip(' +')\n",
        "expanded_form(1045)"
      ],
      "execution_count": 16,
      "outputs": [
        {
          "output_type": "execute_result",
          "data": {
            "application/vnd.google.colaboratory.intrinsic+json": {
              "type": "string"
            },
            "text/plain": [
              "'1000 + 40 + 5'"
            ]
          },
          "metadata": {},
          "execution_count": 16
        }
      ]
    },
    {
      "cell_type": "code",
      "metadata": {
        "colab": {
          "base_uri": "https://localhost:8080/",
          "height": 35
        },
        "id": "UJAp4P1-3XvP",
        "outputId": "5dd2adff-4656-452a-df28-313cc3b9603f"
      },
      "source": [
        "def expanded_form(num):\n",
        "    num = list(str(num))\n",
        "    return ' + '.join(x + '0' * (len(num) - y - 1) for y,x in enumerate(num) if x != '0')\n",
        "expanded_form(1045)"
      ],
      "execution_count": 17,
      "outputs": [
        {
          "output_type": "execute_result",
          "data": {
            "application/vnd.google.colaboratory.intrinsic+json": {
              "type": "string"
            },
            "text/plain": [
              "'1000 + 40 + 5'"
            ]
          },
          "metadata": {},
          "execution_count": 17
        }
      ]
    },
    {
      "cell_type": "code",
      "metadata": {
        "colab": {
          "base_uri": "https://localhost:8080/",
          "height": 35
        },
        "id": "Boac5RuGBiWl",
        "outputId": "e3b2f6cd-4d81-492a-b7c1-2899da924ce9"
      },
      "source": [
        "def expanded_form(num):\n",
        "    s = str(num)\n",
        "    n = len(s)\n",
        "    return ' + '.join( [s[-i]+\"0\"*(i-1) for i in range(n,0,-1) if s[-i] != \"0\"])\n",
        "expanded_form(1045)"
      ],
      "execution_count": 18,
      "outputs": [
        {
          "output_type": "execute_result",
          "data": {
            "application/vnd.google.colaboratory.intrinsic+json": {
              "type": "string"
            },
            "text/plain": [
              "'1000 + 40 + 5'"
            ]
          },
          "metadata": {},
          "execution_count": 18
        }
      ]
    }
  ]
}