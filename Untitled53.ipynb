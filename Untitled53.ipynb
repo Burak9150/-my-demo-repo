{
  "nbformat": 4,
  "nbformat_minor": 0,
  "metadata": {
    "colab": {
      "name": "Untitled53.ipynb",
      "provenance": [],
      "authorship_tag": "ABX9TyNVrUQDP3tsiGpTsrVWHLpL",
      "include_colab_link": true
    },
    "kernelspec": {
      "name": "python3",
      "display_name": "Python 3"
    },
    "language_info": {
      "name": "python"
    }
  },
  "cells": [
    {
      "cell_type": "markdown",
      "metadata": {
        "id": "view-in-github",
        "colab_type": "text"
      },
      "source": [
        "<a href=\"https://colab.research.google.com/github/Burak9150/Python-soru-kutuphanesi/blob/main/Untitled53.ipynb\" target=\"_parent\"><img src=\"https://colab.research.google.com/assets/colab-badge.svg\" alt=\"Open In Colab\"/></a>"
      ]
    },
    {
      "cell_type": "markdown",
      "metadata": {
        "id": "P932jhJm1CNz"
      },
      "source": [
        "Giriş verileri, en az 1 ad içeren bir diziden ve nseçtiğiniz dilin desteklediği en büyük sayı kadar yüksek olabilen tek bir tam sayıdan oluşur (tabii ki böyle bir sınır varsa).\n",
        "\n",
        "Çıktı / Örnekler:\n",
        "Tek satırı döndür - n'inci kutu kola içen kişinin adı. Kutular 1'den başlayarak numaralandırılmıştır.\n",
        "\n",
        "who_is_next([\"Sheldon\", \"Leonard\", \"Penny\", \"Rajesh\", \"Howard\"], 1) == \"Sheldon\"\n",
        "who_is_next([\"Sheldon\", \"Leonard\", \"Penny\", \"Rajesh\", \"Howard\"], 52) == \"Penny\""
      ]
    },
    {
      "cell_type": "code",
      "metadata": {
        "id": "_r1KnMbj6loF"
      },
      "source": [
        "def whoIsNext(names, r):\n",
        "    while r > 5:\n",
        "        r = (r - 4) / 2\n",
        "    return names[r-1]"
      ],
      "execution_count": null,
      "outputs": []
    }
  ]
}