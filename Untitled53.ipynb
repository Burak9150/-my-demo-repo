{
  "nbformat": 4,
  "nbformat_minor": 0,
  "metadata": {
    "colab": {
      "name": "Untitled53.ipynb",
      "provenance": [],
      "authorship_tag": "ABX9TyNr0ZsM0SGfNZkRkxBENFTq",
      "include_colab_link": true
    },
    "kernelspec": {
      "name": "python3",
      "display_name": "Python 3"
    },
    "language_info": {
      "name": "python"
    }
  },
  "cells": [
    {
      "cell_type": "markdown",
      "metadata": {
        "id": "view-in-github",
        "colab_type": "text"
      },
      "source": [
        "<a href=\"https://colab.research.google.com/github/Burak9150/Python-soru-kutuphanesi/blob/main/Untitled53.ipynb\" target=\"_parent\"><img src=\"https://colab.research.google.com/assets/colab-badge.svg\" alt=\"Open In Colab\"/></a>"
      ]
    },
    {
      "cell_type": "markdown",
      "metadata": {
        "id": "P932jhJm1CNz"
      },
      "source": [
        "Her kelimenin ilk harfini sonuna taşıyın, ardından kelimenin sonuna \"ay\" ekleyin. Noktalama işaretlerine dokunmadan bırakın.\n",
        "\n",
        "Örnekler\n",
        "pig_it('Pig latin is cool') # igPay atinlay siay oolcay\n",
        "pig_it('Hello world !')     # elloHay orldway !"
      ]
    },
    {
      "cell_type": "code",
      "metadata": {
        "colab": {
          "base_uri": "https://localhost:8080/",
          "height": 35
        },
        "id": "dbXeiv_p7xbH",
        "outputId": "9615375a-0ce7-4e18-b2c5-950fa691c192"
      },
      "source": [
        "def pig_it(text):\n",
        "  t=[]\n",
        "  for i in text.split():\n",
        "    if i.isalpha(): \n",
        "      t+=[i[1:]+i[0]+\"ay\"]\n",
        "    else:\n",
        "        t+=[i]\n",
        "  return \" \".join(t)\n",
        "pig_it(\"This is my string\") "
      ],
      "execution_count": 66,
      "outputs": [
        {
          "output_type": "execute_result",
          "data": {
            "application/vnd.google.colaboratory.intrinsic+json": {
              "type": "string"
            },
            "text/plain": [
              "'hisTay siay ymay tringsay'"
            ]
          },
          "metadata": {},
          "execution_count": 66
        }
      ]
    },
    {
      "cell_type": "code",
      "metadata": {
        "id": "hOUCa2CAHdue"
      },
      "source": [
        "def pig_it(text):\n",
        "    lst = text.split()\n",
        "    return ' '.join( [word[1:] + word[:1] + 'ay' if word.isalpha() else word for word in lst])"
      ],
      "execution_count": null,
      "outputs": []
    },
    {
      "cell_type": "code",
      "metadata": {
        "id": "az-OXUbzP6t7"
      },
      "source": [
        "def pig_it(text):\n",
        "    return \" \".join(x[1:] + x[0] + \"ay\" if x.isalnum() else x for x in text.split())"
      ],
      "execution_count": null,
      "outputs": []
    },
    {
      "cell_type": "code",
      "metadata": {
        "id": "g1J2xzEAP6rX"
      },
      "source": [
        "def pig_it(text):\n",
        "    res = []\n",
        "    \n",
        "    for i in text.split():\n",
        "        if i.isalpha():\n",
        "            res.append(i[1:]+i[0]+'ay')\n",
        "        else:\n",
        "            res.append(i)\n",
        "            \n",
        "    return ' '.join(res)\n"
      ],
      "execution_count": null,
      "outputs": []
    },
    {
      "cell_type": "code",
      "metadata": {
        "id": "ImgDFJuuP6pS"
      },
      "source": [
        "from string import punctuation\n",
        "def pig_it(text):\n",
        "    words = text.split(' ')\n",
        "    return ' '.join(\n",
        "        [\n",
        "            '{}{}ay'.format(\n",
        "                word[1:],\n",
        "                word[0]\n",
        "            ) if word not in punctuation else word for word in words\n",
        "        ]\n",
        "    )"
      ],
      "execution_count": null,
      "outputs": []
    },
    {
      "cell_type": "code",
      "metadata": {
        "id": "1Yz9LaToP6mz"
      },
      "source": [
        ""
      ],
      "execution_count": null,
      "outputs": []
    }
  ]
}