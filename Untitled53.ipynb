{
  "nbformat": 4,
  "nbformat_minor": 0,
  "metadata": {
    "colab": {
      "name": "Untitled53.ipynb",
      "provenance": [],
      "authorship_tag": "ABX9TyNFEWd6U3RkudY0Y1PG1keS",
      "include_colab_link": true
    },
    "kernelspec": {
      "name": "python3",
      "display_name": "Python 3"
    },
    "language_info": {
      "name": "python"
    }
  },
  "cells": [
    {
      "cell_type": "markdown",
      "metadata": {
        "id": "view-in-github",
        "colab_type": "text"
      },
      "source": [
        "<a href=\"https://colab.research.google.com/github/Burak9150/Python-soru-kutuphanesi/blob/main/Untitled53.ipynb\" target=\"_parent\"><img src=\"https://colab.research.google.com/assets/colab-badge.svg\" alt=\"Open In Colab\"/></a>"
      ]
    },
    {
      "cell_type": "markdown",
      "metadata": {
        "id": "P932jhJm1CNz"
      },
      "source": [
        "anagram nedir? Eh, ikisi de aynı harfleri içeriyorsa, iki kelime birbirinin anagramıdır. Örneğin:\n",
        "\n",
        "'abba' & 'baab' == true\n",
        "\n",
        "'abba' & 'bbaa' == true\n",
        "\n",
        "'abba' & 'abbba' == false\n",
        "\n",
        "'abba' & 'abca' == false\n",
        "Listeden bir kelimenin tüm anagramlarını bulan bir fonksiyon yazın. Size bir kelime ve kelimeler içeren bir dizi olmak üzere iki girdi verilecektir. Tüm anagramların bir dizisini veya yoksa boş bir dizi döndürmelisiniz. Örneğin:\n",
        "\n",
        "anagrams('abba', ['aabb', 'abcd', 'bbaa', 'dada']) => ['aabb', 'bbaa']\n",
        "\n",
        "anagrams('racer', ['crazer', 'carer', 'racar', 'caers', 'racer']) => ['carer', 'racer']\n",
        "\n",
        "anagrams('laser', ['lazing', 'lazy',  'lacer']) => []"
      ]
    },
    {
      "cell_type": "code",
      "metadata": {
        "id": "JKVUqS-G1Aak",
        "colab": {
          "base_uri": "https://localhost:8080/"
        },
        "outputId": "0f135392-0342-4f5f-dbfc-070c48d3350b"
      },
      "source": [
        "def anagrams(word, words):\n",
        "    l=[]\n",
        "    x=\"\".join(sorted(word))\n",
        "    for i in words:\n",
        "      y=\"\".join(sorted(i))\n",
        "  \n",
        "      if x ==y:\n",
        "        l+=[i]\n",
        "    return l\n",
        "anagrams('abba', ['aabb', 'abcd', 'bbaa', 'dada'])\n",
        "\n"
      ],
      "execution_count": 28,
      "outputs": [
        {
          "output_type": "execute_result",
          "data": {
            "text/plain": [
              "['aabb', 'bbaa']"
            ]
          },
          "metadata": {},
          "execution_count": 28
        }
      ]
    },
    {
      "cell_type": "code",
      "metadata": {
        "id": "sdQYVpZf1vdh",
        "colab": {
          "base_uri": "https://localhost:8080/"
        },
        "outputId": "668d2031-ec96-411e-f51a-56774b77b8ff"
      },
      "source": [
        "def anagrams(word, words): return [item for item in words if sorted(item)==sorted(word)]\n",
        "anagrams('abba', ['aabb', 'abcd', 'bbaa', 'dada'])"
      ],
      "execution_count": 23,
      "outputs": [
        {
          "output_type": "execute_result",
          "data": {
            "text/plain": [
              "['aabb', 'bbaa']"
            ]
          },
          "metadata": {},
          "execution_count": 23
        }
      ]
    },
    {
      "cell_type": "code",
      "metadata": {
        "colab": {
          "base_uri": "https://localhost:8080/"
        },
        "id": "UJAp4P1-3XvP",
        "outputId": "8ad5aaa8-ab2e-4202-af35-9ef563025af5"
      },
      "source": [
        "from collections import Counter\n",
        "\n",
        "def anagrams(word, words):\n",
        "    counts = Counter(word)\n",
        "    return [w for w in words if Counter(w) == counts]\n",
        "anagrams('abba', ['aabb', 'abcd', 'bbaa', 'dada'])"
      ],
      "execution_count": 24,
      "outputs": [
        {
          "output_type": "execute_result",
          "data": {
            "text/plain": [
              "['aabb', 'bbaa']"
            ]
          },
          "metadata": {},
          "execution_count": 24
        }
      ]
    },
    {
      "cell_type": "code",
      "metadata": {
        "colab": {
          "base_uri": "https://localhost:8080/"
        },
        "id": "Boac5RuGBiWl",
        "outputId": "22e06434-461b-4f20-b509-a56717cc1a5f"
      },
      "source": [
        "def anagrams(word, words):\n",
        "    return filter(lambda x: sorted(word) == sorted(x), words)\n",
        "list(anagrams('abba', ['aabb', 'abcd', 'bbaa', 'dada']))"
      ],
      "execution_count": 27,
      "outputs": [
        {
          "output_type": "execute_result",
          "data": {
            "text/plain": [
              "['aabb', 'bbaa']"
            ]
          },
          "metadata": {},
          "execution_count": 27
        }
      ]
    }
  ]
}