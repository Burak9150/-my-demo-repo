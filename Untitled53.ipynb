{
  "nbformat": 4,
  "nbformat_minor": 0,
  "metadata": {
    "colab": {
      "name": "Untitled53.ipynb",
      "provenance": [],
      "authorship_tag": "ABX9TyMPxPENTQVkZJvxbwC4YQRD",
      "include_colab_link": true
    },
    "kernelspec": {
      "name": "python3",
      "display_name": "Python 3"
    },
    "language_info": {
      "name": "python"
    }
  },
  "cells": [
    {
      "cell_type": "markdown",
      "metadata": {
        "id": "view-in-github",
        "colab_type": "text"
      },
      "source": [
        "<a href=\"https://colab.research.google.com/github/Burak9150/Python-soru-kutuphanesi/blob/main/Untitled53.ipynb\" target=\"_parent\"><img src=\"https://colab.research.google.com/assets/colab-badge.svg\" alt=\"Open In Colab\"/></a>"
      ]
    },
    {
      "cell_type": "markdown",
      "metadata": {
        "id": "P932jhJm1CNz"
      },
      "source": [
        "Asal sayılar düzenli aralıklarla yerleştirilmez. Örnek için 2için 3boşluğudur 1. Gönderen 3için 5boşluğudur 2. Gönderen 7için 11öyle 4. 2 ile 50 arasında, aşağıdaki 2 boşluklu asal çiftlere sahibiz: 3-5, 5-7, 11-13, 17-19, 29-31, 41-43\n",
        "\n",
        "n uzunluğunda bir asal boşluk, iki ardışık asal sayı arasındaki n-1 ardışık bileşik sayı dizisidir (bkz: http://mathworld.wolfram.com/PrimeGaps.html ).\n",
        "\n",
        "Parametrelerle bir fonksiyon boşluğu yazacağız:\n",
        "\n",
        "g (integer >= 2) aradığımız boşluğu gösterir\n",
        "\n",
        "m (integer > 2) aramanın başlangıcını verir (m dahil)\n",
        "\n",
        "n (integer >= m) aramanın sonunu verir (n dahil)\n",
        "\n",
        "n 1100000'in ötesine geçmeyecek.\n",
        "\n",
        "Yukarıdaki örnekte , 2 boşluklu 3 ile 50 arasındaki ilk çift olan gap(2, 3, 50)geri dönecektir [3, 5] or (3, 5) or {3, 5}.\n",
        "\n",
        "Bu nedenle, bu işlev , bu sayılar aksi takdirde `nil veya null veya None veya Nothing (veya ... dile bağlı olarak) varsa , sınırlar arasında boşluk bırakılmış iki asal sayının ilk çiftini döndürmelidir .gmn\n",
        "\n",
        "C++'da Lua: böyle bir durumda dönüş {0, 0}. F#'da: dönüş [||]. Kotlin, Dart ve Prolog'da: return []. Pascal'da: TGap (0, 0) yazın.\n",
        "\n",
        "Örnekler:\n",
        "gap(2, 5, 7) --> [5, 7] or (5, 7) or {5, 7}\n",
        "\n",
        "gap(2, 5, 5) --> nil. In C++ {0, 0}. In F# [||]. In Kotlin, Dart and Prolog return []`\n",
        "\n",
        "gap(4, 130, 200) --> [163, 167] or (163, 167) or {163, 167}\n",
        "\n",
        "([193, 197] ayrıca 130 ile 200 arasında 4 boşluklu bir asal sayıdır ancak ilk çift değildir)\n",
        "\n",
        "gap(6,100,110) --> nil or {0, 0} or ...: 100 ile 110 arasında var 101, 103, 107, 109ama 101-1076 boşluk değil çünkü arada var 103ve 103-1096 boşluk değil çünkü arada var 107.\n",
        "\n",
        "Örnek Testlerde daha fazla iade örneği görebilirsiniz.\n",
        "\n",
        "Git için Not\n",
        "Go için: m ve n arasında boşluk olmadığında sıfır dilim beklenir. Örnek: boşluk(11,30000,100000) --> nil"
      ]
    },
    {
      "cell_type": "code",
      "metadata": {
        "colab": {
          "base_uri": "https://localhost:8080/"
        },
        "id": "cKSD_FgZUHSh",
        "outputId": "33c46364-b8cf-4a5c-ffb9-1780adfdae7f"
      },
      "source": [
        "ef gap(g, m, n):\n",
        "    prev = 2\n",
        "    for x in range(m|1, n + 1, 2):\n",
        "        if all(x%d for d in range(3, int(x**.5) + 1, 2)):\n",
        "            if x - prev == g: return [prev, x]\n",
        "            prev = x"
      ],
      "execution_count": 52,
      "outputs": [
        {
          "output_type": "execute_result",
          "data": {
            "text/plain": [
              "[]"
            ]
          },
          "metadata": {},
          "execution_count": 52
        }
      ]
    },
    {
      "cell_type": "code",
      "metadata": {
        "id": "DrlGMAcqkl7L"
      },
      "source": [
        "def gap(g, m, n):\n",
        "    prime = 0\n",
        "    for i in range(m,n+1):\n",
        "        for j in range(2,int(i**0.5)+1):\n",
        "            if i%j == 0:\n",
        "                break\n",
        "        else: \n",
        "            if i - prime == g: return [prime,i]\n",
        "            else: prime = i\n",
        "gap(2, 1, 11)"
      ],
      "execution_count": 59,
      "outputs": []
    },
    {
      "cell_type": "code",
      "metadata": {
        "colab": {
          "base_uri": "https://localhost:8080/"
        },
        "id": "DuJDtNYj-QLZ",
        "outputId": "34eb7bac-0073-4cc9-a63f-3fe6b7f6ab00"
      },
      "source": [
        "def gap(g, m, n):\n",
        "    prime = 0\n",
        "    for i in range(m,n+1):\n",
        "        for j in range(2,i):\n",
        "            if i%j == 0:\n",
        "                break\n",
        "        else: \n",
        "            if i - prime == g: return [prime,i]\n",
        "            else: prime = i\n",
        "gap(2,1,11)"
      ],
      "execution_count": 61,
      "outputs": [
        {
          "output_type": "execute_result",
          "data": {
            "text/plain": [
              "[3, 5]"
            ]
          },
          "metadata": {},
          "execution_count": 61
        }
      ]
    },
    {
      "cell_type": "code",
      "metadata": {
        "id": "3nLdmJOr7xhN"
      },
      "source": [
        "def is_prime(a):\n",
        "    return all(a % i for i in range(2, int(a**0.5)+1))\n",
        "        \n",
        "def gap(g, m, n):\n",
        "    for a in range(m, n-g+1):\n",
        "        if is_prime(a) and is_prime(a+g) and not any(is_prime(j) for j in range(a+1, a+g)):\n",
        "            return [a, a+g]"
      ],
      "execution_count": null,
      "outputs": []
    },
    {
      "cell_type": "code",
      "metadata": {
        "id": "KftVQvKu7xeH"
      },
      "source": [
        "def gap(g, m, n):\n",
        "    import math\n",
        "    simple = []\n",
        "    numbers = []\n",
        "    d = 3\n",
        "    for i in range(m,n+1):\n",
        "        if i%2==0:\n",
        "            pass\n",
        "        else:\n",
        "            while d*d <=i and  i%d !=0:\n",
        "                d+=2\n",
        "            if d*d>i:\n",
        "                simple.append(i)\n",
        "                p = math.fabs(i - simple[simple.index(i) - 1])\n",
        "                if p == g:\n",
        "                    return [i-g,i]\n",
        "            d = 3\n",
        "\n",
        "    return None"
      ],
      "execution_count": null,
      "outputs": []
    },
    {
      "cell_type": "code",
      "metadata": {
        "id": "dbXeiv_p7xbH"
      },
      "source": [
        "def prime(x):\n",
        "    if x < 3 or not x%2: return x==2\n",
        "    return all(x%i for i in range(3, int(x**0.5)+1, 2))\n",
        "\n",
        "D = {}\n",
        "def gap(g, m, n):\n",
        "    get = lambda x: D[x] if x in D else D.setdefault(x, prime(x))\n",
        "    for i in range(m, n-g+1):\n",
        "        if get(i) and get(i+g) and not any(map(get, range(i+1, i+g))):\n",
        "            return [i, i+g]"
      ],
      "execution_count": null,
      "outputs": []
    }
  ]
}