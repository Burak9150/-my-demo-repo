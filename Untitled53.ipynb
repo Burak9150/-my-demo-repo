{
  "nbformat": 4,
  "nbformat_minor": 0,
  "metadata": {
    "colab": {
      "name": "Untitled53.ipynb",
      "provenance": [],
      "authorship_tag": "ABX9TyM29jUZWMqECKTWIaOTq3fg",
      "include_colab_link": true
    },
    "kernelspec": {
      "name": "python3",
      "display_name": "Python 3"
    },
    "language_info": {
      "name": "python"
    }
  },
  "cells": [
    {
      "cell_type": "markdown",
      "metadata": {
        "id": "view-in-github",
        "colab_type": "text"
      },
      "source": [
        "<a href=\"https://colab.research.google.com/github/Burak9150/Python-soru-kutuphanesi/blob/main/Untitled53.ipynb\" target=\"_parent\"><img src=\"https://colab.research.google.com/assets/colab-badge.svg\" alt=\"Open In Colab\"/></a>"
      ]
    },
    {
      "cell_type": "markdown",
      "metadata": {
        "id": "P932jhJm1CNz"
      },
      "source": [
        "Fibonacci sayıları, aşağıdaki tamsayı dizisindeki (Fn) sayılardır:\n",
        "\n",
        "0, 1, 1, 2, 3, 5, 8, 13, 21, 34, 55, 89, 144, 233, ...\n",
        "\n",
        "gibi\n",
        "\n",
        "F(n) = F(n-1) + F(n-2), F(0) = 0 ve F(1) = 1 ile.\n",
        "\n",
        "Bir sayı verildiğinde, diyelim ki ürün (ürün için), iki Fibonacci sayısını F(n) ve F(n+1) doğrulayarak ararız.\n",
        "\n",
        "F(n) * F(n+1) = ürün.\n",
        "\n",
        "productFib işleviniz bir tamsayı (ürün) alır ve bir dizi döndürür:\n",
        "\n",
        "[F(n), F(n+1), true] or {F(n), F(n+1), 1} or (F(n), F(n+1), True)\n",
        "dile bağlı olarak F(n) * F(n+1) = ürün.\n",
        "\n",
        "Doğrulayan iki ardışık F(n) bulamazsanız F(n) * F(n+1) = prod, geri dönersiniz.\n",
        "\n",
        "[F(n), F(n+1), false] or {F(n), F(n+1), 0} or (F(n), F(n+1), False)\n",
        "F(n) gibi en küçüğü olmak F(n) * F(n+1) > prod.\n",
        "\n",
        "Bazı İade Örnekleri:\n",
        "(dile göre değişir)\n",
        "\n",
        "productFib(714) # should return (21, 34, true), \n",
        "                # since F(8) = 21, F(9) = 34 and 714 = 21 * 34\n",
        "\n",
        "productFib(800) # should return (34, 55, false), \n",
        "                # since F(8) = 21, F(9) = 34, F(10) = 55 and 21 * 34 < 800 < 34 * 55\n",
        "-----\n",
        "productFib(714) # should return [21, 34, true], \n",
        "productFib(800) # should return [34, 55, false], \n",
        "-----\n",
        "productFib(714) # should return {21, 34, 1}, \n",
        "productFib(800) # should return {34, 55, 0},        \n",
        "-----\n",
        "productFib(714) # should return {21, 34, true}, \n",
        "productFib(800) # should return {34, 55, false}, "
      ]
    },
    {
      "cell_type": "code",
      "metadata": {
        "id": "JKVUqS-G1Aak",
        "colab": {
          "base_uri": "https://localhost:8080/"
        },
        "outputId": "c14d8ac2-c622-4a26-9320-7750cdef82fc"
      },
      "source": [
        "def productFib(prod):\n",
        "  x=[0,1]\n",
        "  l=[]\n",
        "  while True:\n",
        "    k=0\n",
        "    t=x[-1]*x[-2]\n",
        "    k+=t\n",
        "    y=x[-1]+x[-2]\n",
        "    x.append(y)\n",
        "    if k==prod:\n",
        "      l.append(x[-3])\n",
        "      l.append(x[-2])\n",
        "      l.append(True)\n",
        "      return l\n",
        "      break\n",
        "    elif k>prod:\n",
        "        l.append(x[-3])\n",
        "        l.append(x[-2])\n",
        "        l.append(False)\n",
        "        return l\n",
        "        break\n",
        "\n",
        "  return k\n",
        "print(productFib(5895))\n",
        "\n"
      ],
      "execution_count": 4,
      "outputs": [
        {
          "output_type": "stream",
          "text": [
            "[89, 144, False]\n"
          ],
          "name": "stdout"
        }
      ]
    },
    {
      "cell_type": "code",
      "metadata": {
        "id": "sdQYVpZf1vdh",
        "colab": {
          "base_uri": "https://localhost:8080/"
        },
        "outputId": "0a490ed0-72df-4ab6-d182-cf11a54d54aa"
      },
      "source": [
        "def productFib(prod):\n",
        "    a, b = 0, 1\n",
        "    rez = 0\n",
        "    while rez < prod:\n",
        "        a, b = b, a + b\n",
        "        rez = a*b\n",
        "    return [a, b, rez == prod]\n",
        "productFib(5895)"
      ],
      "execution_count": 3,
      "outputs": [
        {
          "output_type": "execute_result",
          "data": {
            "text/plain": [
              "[89, 144, False]"
            ]
          },
          "metadata": {},
          "execution_count": 3
        }
      ]
    },
    {
      "cell_type": "code",
      "metadata": {
        "colab": {
          "base_uri": "https://localhost:8080/"
        },
        "id": "UJAp4P1-3XvP",
        "outputId": "ed81cf86-4eb0-4c04-cd67-91540c431aab"
      },
      "source": [
        "def productFib(prod):\n",
        "  a, b = 0, 1\n",
        "  while prod > a * b:\n",
        "    a, b = b, a + b\n",
        "  return [a, b, prod == a * b]\n",
        "productFib(5895)"
      ],
      "execution_count": 5,
      "outputs": [
        {
          "output_type": "execute_result",
          "data": {
            "text/plain": [
              "[89, 144, False]"
            ]
          },
          "metadata": {},
          "execution_count": 5
        }
      ]
    }
  ]
}