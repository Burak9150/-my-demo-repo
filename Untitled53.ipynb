{
  "nbformat": 4,
  "nbformat_minor": 0,
  "metadata": {
    "colab": {
      "name": "Untitled53.ipynb",
      "provenance": [],
      "authorship_tag": "ABX9TyMsKuNiOCvKVbYLx/K+HDcX",
      "include_colab_link": true
    },
    "kernelspec": {
      "name": "python3",
      "display_name": "Python 3"
    },
    "language_info": {
      "name": "python"
    }
  },
  "cells": [
    {
      "cell_type": "markdown",
      "metadata": {
        "id": "view-in-github",
        "colab_type": "text"
      },
      "source": [
        "<a href=\"https://colab.research.google.com/github/Burak9150/Python-soru-kutuphanesi/blob/main/Untitled53.ipynb\" target=\"_parent\"><img src=\"https://colab.research.google.com/assets/colab-badge.svg\" alt=\"Open In Colab\"/></a>"
      ]
    },
    {
      "cell_type": "markdown",
      "metadata": {
        "id": "P932jhJm1CNz"
      },
      "source": [
        "Çizim, kenarları 1, 1, 2, 3, 5, 8 olan 6 kareyi göstermektedir. Bu karelerin çevrelerinin toplamının aşağıdaki gibi olduğunu görmek kolaydır: 4 * (1 + 1 + 2 + 3 + 5 + 8) = 4 * 20 = 80\n",
        "\n",
        "Şekildeki gibi yerleştirilmiş n+1 kareler olduğunda bir dikdörtgendeki tüm karelerin çevrelerinin toplamını verebilir misiniz:\n",
        "\n",
        "alternatif metin\n",
        "\n",
        "İpucu:\n",
        "Fibonacci dizisini görün\n",
        "\n",
        "Referans:\n",
        "http://oeis.org/A000045\n",
        "\n",
        "Çevre işlevi, n parametresi için vardır; burada n + 1, karelerin sayısıdır (0'dan n'ye kadar numaralandırılmıştır) ve tüm karelerin toplam çevresini döndürür.\n",
        "\n",
        "perimeter(5)  should return 80\n",
        "perimeter(7)  should return 216"
      ]
    },
    {
      "cell_type": "code",
      "metadata": {
        "colab": {
          "base_uri": "https://localhost:8080/"
        },
        "id": "nR0xxaLZeGI_",
        "outputId": "17080d52-37b2-482a-d60d-2702ddaa1b52"
      },
      "source": [
        "def perimeter(n):\n",
        "    a, b, c = 0, 1, 1\n",
        "    for i in range(n):\n",
        "        a, b = b, a + b\n",
        "        c += b\n",
        "    return 4 * c\n",
        "perimeter(5)\n",
        " \n",
        "      "
      ],
      "execution_count": 1,
      "outputs": [
        {
          "output_type": "execute_result",
          "data": {
            "text/plain": [
              "80"
            ]
          },
          "metadata": {},
          "execution_count": 1
        }
      ]
    },
    {
      "cell_type": "code",
      "metadata": {
        "colab": {
          "base_uri": "https://localhost:8080/"
        },
        "id": "MS6WaBNzUHdg",
        "outputId": "a8ce96c0-f658-425d-b124-b9b56c3e3584"
      },
      "source": [
        "def memoize(fn, arg):\n",
        "    cache = {}\n",
        "    if arg not in cache:\n",
        "        cache[arg] = fn(arg)\n",
        "    return cache[arg]\n",
        "\n",
        "def fib(n):\n",
        "    a,b = 1,1\n",
        "    for i in range(n-1):\n",
        "        a,b = b,a+b\n",
        "    return a\n",
        "\n",
        "def perimeter(n):\n",
        "    return 4 * (memoize(fib,n+3) - 1)\n",
        "perimeter(5)"
      ],
      "execution_count": 2,
      "outputs": [
        {
          "output_type": "execute_result",
          "data": {
            "text/plain": [
              "80"
            ]
          },
          "metadata": {},
          "execution_count": 2
        }
      ]
    },
    {
      "cell_type": "code",
      "metadata": {
        "colab": {
          "base_uri": "https://localhost:8080/"
        },
        "id": "cKSD_FgZUHSh",
        "outputId": "d3641b61-9e6a-4bbb-d5e3-6494461a3a44"
      },
      "source": [
        "def perimeter(n):\n",
        "    a, b = 1, 2\n",
        "    while n:\n",
        "        a, b, n = b, a + b, n - 1\n",
        "    return 4 * (b - 1)\n",
        "perimeter(5)"
      ],
      "execution_count": 3,
      "outputs": [
        {
          "output_type": "execute_result",
          "data": {
            "text/plain": [
              "80"
            ]
          },
          "metadata": {},
          "execution_count": 3
        }
      ]
    }
  ]
}