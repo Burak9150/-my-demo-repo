{
  "nbformat": 4,
  "nbformat_minor": 0,
  "metadata": {
    "colab": {
      "name": "Untitled54.ipynb",
      "provenance": [],
      "authorship_tag": "ABX9TyNJaptwBj9jcxvxNSCrj66v",
      "include_colab_link": true
    },
    "kernelspec": {
      "name": "python3",
      "display_name": "Python 3"
    },
    "language_info": {
      "name": "python"
    }
  },
  "cells": [
    {
      "cell_type": "markdown",
      "metadata": {
        "id": "view-in-github",
        "colab_type": "text"
      },
      "source": [
        "<a href=\"https://colab.research.google.com/github/Burak9150/Python-soru-kutuphanesi/blob/main/Untitled54.ipynb\" target=\"_parent\"><img src=\"https://colab.research.google.com/assets/colab-badge.svg\" alt=\"Open In Colab\"/></a>"
      ]
    },
    {
      "cell_type": "markdown",
      "metadata": {
        "id": "7E20JnzMtrbJ"
      },
      "source": [
        "Polybius kare şifre markaları 5x5 kare ızgara kullanımı basit bir ikame şifredir. AZ harfleri ızgaraya yazılır, \"I\" ve \"J\" tipik olarak bir yuvayı paylaşır (çünkü 26 harf ve yalnızca 25 yuva vardır).\n",
        "\n",
        "1\t2\t3\t4\t5\n",
        "1\tA\tB\tC\tNS\tE\n",
        "2\tF\tG\tH\tben/j\tK\n",
        "3\tL\tm\tn\tÖ\tP\n",
        "4\tQ\tr\tS\tT\tsen\n",
        "5\tV\tW\tx\tY\tZ\n",
        "Bir mesajı şifrelemek için, her harf ızgaradaki satır ve sütun numaralarıyla değiştirilir.\n",
        "\n",
        "Düz metin veya şifreli metin mesajı alan ve karşılık gelen şifreli metni veya düz metni döndüren bir işlev oluşturun.\n",
        "\n",
        "Örnekler\n",
        "polybius(\"Hi\") ➞ \"2324\"\n",
        "\n",
        "polybius(\"2324  4423154215\") ➞ \"hi there\"\n",
        "\n",
        "polybius(\"543445 14343344 522433 21422415331443 52244423 4311311114\") ➞ \"you dont win friends with salad\"\n",
        "Notlar\n",
        "\"I\" ve \"J\" bir yuvayı paylaştığından, her ikisi de 24'e şifrelenir, ancak yalnızca \"I\" olarak deşifre edilir "
      ]
    },
    {
      "cell_type": "code",
      "metadata": {
        "colab": {
          "base_uri": "https://localhost:8080/",
          "height": 35
        },
        "id": "hfHEM610ti4p",
        "outputId": "c807ff8a-44dd-4977-8824-e16c7c22eada"
      },
      "source": [
        "def Polybius(k):\n",
        "  n={\"A\":\"11\",\"B\":\"12\",\"C\":\"13\",\"D\":\"14\",\"E\":\"15\",\n",
        "  \"F\":\"21\",\"G\":\"22\",\"H\":\"23\",\"J\":\"24\",\"I\":\"24\",\"K\":\"25\",\n",
        "  \"L\":\"31\",\"M\":\"32\",\"N\":\"33\",\"O\":\"34\",\"P\":\"35\",\"Q\":\"41\",\n",
        "  \"R\":\"42\",\"S\":\"43\",\"T\":\"44\",\"U\":\"45\",\"V\":\"51\",\"W\":\"52\",\n",
        "  \"X\":\"53\",\"Y\":\"54\",\"Z\":\"55\"}\n",
        "  t=\"\"\n",
        "  l=\"\"\n",
        "  d={b:a for (a,b) in n.items()}\n",
        "  for i in k:\n",
        "    if i.isdigit():\n",
        "      if i!=\" \" and len(t)!=2 :\n",
        "       t+=i\n",
        "      if len(t)==2 :\n",
        "        x=d.get(t).lower()\n",
        "        l+=x\n",
        "        t=\"\"\n",
        "      else:\n",
        "        continue\n",
        "    elif i.isalpha():\n",
        "      i=i.upper()\n",
        "      x=n.get(i)\n",
        "      l+=x\n",
        "    else:\n",
        "      l+=i\n",
        "  return l\n",
        "Polybius(\"543445 14343344 522433 21422415331443 52244423 4311311114\")"
      ],
      "execution_count": 3,
      "outputs": [
        {
          "output_type": "execute_result",
          "data": {
            "application/vnd.google.colaboratory.intrinsic+json": {
              "type": "string"
            },
            "text/plain": [
              "'you dont win friends with salad'"
            ]
          },
          "metadata": {},
          "execution_count": 3
        }
      ]
    },
    {
      "cell_type": "code",
      "metadata": {
        "colab": {
          "base_uri": "https://localhost:8080/",
          "height": 35
        },
        "id": "HNW66D5qt3zR",
        "outputId": "909bc856-37e1-48bf-e3a7-cfecfe836221"
      },
      "source": [
        "def polybius(text):\n",
        "    text = text.upper().replace(\"J\",\"I\").replace(\"'\",\"\").replace(\":\",\"\")\n",
        "    import string\n",
        "    upper = string.ascii_uppercase.replace(\"IJ\",\"I\")\n",
        "    dict1 = {}\n",
        "    for j in range(0,25):\n",
        "        row = j // 5 + 1\n",
        "        column = j % 5 + 1\n",
        "        dict1[\"{}{}\".format(row,column)] = upper[j]\n",
        "    if text[0].isalpha():\n",
        "        dict1 = {str(k): str(v) for v, k in dict1.items()}\n",
        "        dict1[\"J\"] = \"24\"\n",
        "        for i in text:\n",
        "            if i != \" \": text = text.replace(i, dict1[i])\n",
        "        return text\n",
        "    else:\n",
        "        decode = [i for i in text.split(\" \") if i]\n",
        "        for i in range(len(decode)) :\n",
        "            n = 2\n",
        "            decode[i] = [decode[i][j:j+n] for j in range(0,len(decode[i]),2)]\n",
        "            for k in range(len(decode[i])):\n",
        "                decode[i][k] = dict1[decode[i][k]]\n",
        "        for i in decode:\n",
        "            decode[decode.index(i)] = \"\".join(i)\n",
        "        return \" \".join(decode).lower()\n",
        "\n",
        "polybius(\"Just because I don't care doesn't mean that I don't understand\")"
      ],
      "execution_count": 4,
      "outputs": [
        {
          "output_type": "execute_result",
          "data": {
            "application/vnd.google.colaboratory.intrinsic+json": {
              "type": "string"
            },
            "text/plain": [
              "'24454344 12151311454315 24 14343344 13114215 143415433344 32151133 44231144 24 14343344 45331415424344113314'"
            ]
          },
          "metadata": {},
          "execution_count": 4
        }
      ]
    },
    {
      "cell_type": "code",
      "metadata": {
        "id": "KS5L3wYJt3q-"
      },
      "source": [
        "import string\n",
        "harfler = string.ascii_lowercase\n",
        "k, tablo = 0, {}\n",
        "for i in range(1, 6):\n",
        "    for j in range(1, 6):\n",
        "        if str(i) + str(j) != '24':\n",
        "            tablo[str(i) + str(j)] = harfler[k]\n",
        "            k += 1\n",
        "        else:\n",
        "            tablo[str(i) + str(j)] = harfler[k:k + 2]\n",
        "            k += 2\n",
        "\n",
        "def polybus_square(text):\n",
        "    n, result = 0, ''\n",
        "    while n < len(text):\n",
        "        if text[n].isdigit():\n",
        "            if text[n: n + 2] == '24':\n",
        "                result += 'I'\n",
        "            else:\n",
        "                result += tablo[text[n: n + 2]].upper()\n",
        "            n += 2\n",
        "        elif text[n].isalpha():\n",
        "            for a, b in tablo.items():\n",
        "                if text[n].lower() == b or text[n].lower() in b:\n",
        "                    result += a\n",
        "                    n += 1\n",
        "                    break\n",
        "        elif text[n] == ' ':\n",
        "            result += ' '\n",
        "            n += 1\n",
        "    return result\n",
        "\n",
        "polybus_square('aaa 133111424543521154 2443 442315 12154344 2444 431323343431 zzz')"
      ],
      "execution_count": null,
      "outputs": []
    },
    {
      "cell_type": "code",
      "metadata": {
        "colab": {
          "base_uri": "https://localhost:8080/",
          "height": 35
        },
        "id": "0VH_SYrvt3jS",
        "outputId": "245d5b70-d7c6-4543-d31c-c76827669294"
      },
      "source": [
        "def polybius(message):\n",
        "\n",
        "  text = \"\"\n",
        "\n",
        "  list1 = [\n",
        "           [\"A\", \"B\", \"C\", \"D\", \"E\"],\n",
        "           [\"F\", \"G\", \"H\", \"I/J\", \"K\"],\n",
        "           [\"L\", \"M\", \"N\", \"O\", \"P\"],\n",
        "           [\"Q\", \"R\", \"S\", \"T\", \"U\"],\n",
        "           [\"V\", \"W\", \"X\", \"Y\", \"Z\"]\n",
        "          ]\n",
        "\n",
        "  list1[1][3] = \"I\"\n",
        "\n",
        "  if message[0].isnumeric():\n",
        "    message = \"  \".join(message.split())\n",
        "    for i in range(0, len(message), 2):\n",
        "      for x in message[i+1:i+2]:\n",
        "        if x.isspace():\n",
        "          text += \" \"\n",
        "        else:\n",
        "          text += list1[(int(message[i]))-1][int(x)-1]\n",
        "  else:\n",
        "    for i in message:\n",
        "      if i.isspace():\n",
        "          text += \" \"    \n",
        "      for x in range(5):\n",
        "        for y in range(5):\n",
        "          if list1[x][y] == i.upper():\n",
        "             text += str(x+1) + str(y+1)\n",
        "             break;\n",
        "        else:\n",
        "            continue;\n",
        "        break;\n",
        "  \n",
        "  return text.lower()\n",
        "\n",
        "polybius(\"hi there\")"
      ],
      "execution_count": 5,
      "outputs": [
        {
          "output_type": "execute_result",
          "data": {
            "application/vnd.google.colaboratory.intrinsic+json": {
              "type": "string"
            },
            "text/plain": [
              "'2324 4423154215'"
            ]
          },
          "metadata": {},
          "execution_count": 5
        }
      ]
    },
    {
      "cell_type": "code",
      "metadata": {
        "id": "pYGaS4IEuaGA"
      },
      "source": [
        ""
      ],
      "execution_count": null,
      "outputs": []
    },
    {
      "cell_type": "code",
      "metadata": {
        "id": "SMA5is-WuaC7"
      },
      "source": [
        ""
      ],
      "execution_count": null,
      "outputs": []
    },
    {
      "cell_type": "code",
      "metadata": {
        "id": "5rGCWoxxuZ_9"
      },
      "source": [
        ""
      ],
      "execution_count": null,
      "outputs": []
    }
  ]
}