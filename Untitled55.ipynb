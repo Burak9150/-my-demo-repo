{
  "nbformat": 4,
  "nbformat_minor": 0,
  "metadata": {
    "colab": {
      "name": "Untitled55.ipynb",
      "provenance": [],
      "authorship_tag": "ABX9TyOh1wt7II7xGWSAH1BpvD7s",
      "include_colab_link": true
    },
    "kernelspec": {
      "name": "python3",
      "display_name": "Python 3"
    },
    "language_info": {
      "name": "python"
    }
  },
  "cells": [
    {
      "cell_type": "markdown",
      "metadata": {
        "id": "view-in-github",
        "colab_type": "text"
      },
      "source": [
        "<a href=\"https://colab.research.google.com/github/Burak9150/Python-soru-kutuphanesi/blob/main/Untitled55.ipynb\" target=\"_parent\"><img src=\"https://colab.research.google.com/assets/colab-badge.svg\" alt=\"Open In Colab\"/></a>"
      ]
    },
    {
      "cell_type": "markdown",
      "metadata": {
        "id": "oiuR0uyNZdOn"
      },
      "source": [
        "Bu kata'da bir dizgiyi tamsayıya dönüştürmek istiyoruz. Dizeler sadece sözcüklerdeki sayıları temsil eder.\n",
        "\n",
        "Örnekler:\n",
        "\n",
        "\"bir\" => 1\n",
        "\"yirmi\" => 20\n",
        "\"iki yüz kırk altı\" => 246\n",
        "\"yedi yüz seksen üç bin dokuz yüz on dokuz\" => 783919\n",
        "Ek Notlar:\n",
        "\n",
        "Minimum sayı \"sıfır\"dır (dahil)\n",
        "Desteklenmesi gereken maksimum sayı 1 milyondur (dahil)\n",
        "Örneğin \"yüz yirmi dört\"teki \"ve\" isteğe bağlıdır, bazı durumlarda mevcuttur ve diğerlerinde yoktur\n",
        "Test edilen tüm numaralar geçerlidir, bunları doğrulamanıza gerek yoktur"
      ]
    },
    {
      "cell_type": "code",
      "metadata": {
        "colab": {
          "base_uri": "https://localhost:8080/"
        },
        "id": "TT7OfoP93f-7",
        "outputId": "da6cca0b-d1ba-4076-855d-8f41a77c574d"
      },
      "source": [
        "ONES = ['zero', 'one', 'two', 'three', 'four', 'five', 'six', 'seven', 'eight', 'nine',\n",
        "        'ten', 'eleven', 'twelve', 'thirteen', 'fourteen', 'fifteen', 'sixteen', 'seventeen', \n",
        "        'eighteen', 'nineteen']\n",
        "TENS = ['twenty', 'thirty', 'forty', 'fifty', 'sixty', 'seventy', 'eighty', 'ninety']\n",
        "\n",
        "def parse_int(string):\n",
        "    print(string)\n",
        "    numbers = []\n",
        "    for token in string.replace('-', ' ').split(' '):\n",
        "        if token in ONES:\n",
        "            numbers.append(ONES.index(token))\n",
        "        elif token in TENS:\n",
        "            numbers.append((TENS.index(token) + 2) * 10)\n",
        "        elif token == 'hundred':\n",
        "            numbers[-1] *= 100\n",
        "        elif token == 'thousand':\n",
        "            numbers = [x * 1000 for x in numbers]\n",
        "        elif token == 'million':\n",
        "            numbers = [x * 1000000 for x in numbers]\n",
        "    return sum(numbers)\n",
        "parse_int(\"seven hundred eighty-three thousand nine hundred and nineteen\" )"
      ],
      "execution_count": 2,
      "outputs": [
        {
          "output_type": "stream",
          "name": "stdout",
          "text": [
            "seven hundred eighty-three thousand nine hundred and nineteen\n"
          ]
        },
        {
          "output_type": "execute_result",
          "data": {
            "text/plain": [
              "783919"
            ]
          },
          "metadata": {},
          "execution_count": 2
        }
      ]
    },
    {
      "cell_type": "code",
      "metadata": {
        "colab": {
          "base_uri": "https://localhost:8080/"
        },
        "id": "j0aNF-awZnLR",
        "outputId": "1378ecc2-0303-4861-be58-c64c63de7ea8"
      },
      "source": [
        "def parse_int(string):\n",
        "    units = [\n",
        "        \"zero\", \"one\", \"two\", \"three\", \"four\", \"five\", \"six\", \"seven\", \"eight\",\"nine\", \"ten\", \n",
        "        \"eleven\", \"twelve\", \"thirteen\", \"fourteen\", \"fifteen\", \"sixteen\", \"seventeen\", \"eighteen\",\n",
        "        \"nineteen\"\n",
        "        ]\n",
        "    tens = [\"\", \"\", \"twenty\", \"thirty\", \"forty\", \"fifty\", \"sixty\", \"seventy\", \"eighty\", \"ninety\"]\n",
        "    \n",
        "    string = string.replace('-', ' ')\n",
        "    string = string.replace(' and ',' ')\n",
        "    words = string.split()\n",
        "    ans = 0\n",
        "    final_ans = 0\n",
        "    \n",
        "    for word in words:\n",
        "        if word in units: ans += units.index(word)\n",
        "        elif word in tens: ans += tens.index(word)*10\n",
        "        elif word == 'hundred': ans *= 100\n",
        "        elif word == 'thousand': final_ans,ans = ans*1000, 0\n",
        "        elif word == 'million': return 1000000\n",
        "    final_ans += ans    \n",
        "    return final_ans\n",
        "parse_int(\"seven hundred eighty-three thousand nine hundred and nineteen\" )\n"
      ],
      "execution_count": 3,
      "outputs": [
        {
          "output_type": "execute_result",
          "data": {
            "text/plain": [
              "783919"
            ]
          },
          "metadata": {},
          "execution_count": 3
        }
      ]
    },
    {
      "cell_type": "code",
      "metadata": {
        "id": "AKTrjEylls3G"
      },
      "source": [
        "number_words = {'': 0, 'zero': 0, 'one': 1, 'two': 2, 'three': 3, 'four': 4, 'five': 5, 'six': 6,\n",
        "        'seven': 7, 'eight': 8, 'nine': 9, 'ten': 10, 'eleven': 11, 'twelve': 12, 'thirteen': 13,\n",
        "        'fourteen': 14, 'fifteen': 15, 'sixteen': 16, 'seventeen': 17, 'eighteen': 18,\n",
        "        'nineteen': 19, 'twenty': 20,  'thirty': 30, 'forty': 40, 'fifty': 50, 'sixty': 60,\n",
        "        'seventy': 70, 'eighty': 80, 'ninety': 90, 'one million': 1000000}\n",
        "\n",
        "def parse_int(string):\n",
        "    string_words = string.split()\n",
        "    if 'thousand' in string_words:\n",
        "        parts = string.partition('thousand')\n",
        "        return parse_int(parts[0].strip()) * 1000 + parse_int(parts[2].strip())\n",
        "    elif 'hundred' in string_words:\n",
        "        parts = string.partition('hundred')\n",
        "        return parse_int(parts[0].strip()) * 100 + parse_int(parts[2].strip())\n",
        "    elif '-' in string:\n",
        "        parts = string.replace('and ', '').split('-')\n",
        "        return number_words[parts[0]] + number_words[parts[1]]\n",
        "    else:\n",
        "        return number_words[string.replace('and ', '')]"
      ],
      "execution_count": 1,
      "outputs": []
    },
    {
      "cell_type": "code",
      "metadata": {
        "id": "jkhBWj4HZnHB"
      },
      "source": [
        ""
      ],
      "execution_count": 1,
      "outputs": []
    },
    {
      "cell_type": "code",
      "metadata": {
        "id": "FNtsmvkor2y3"
      },
      "source": [
        ""
      ],
      "execution_count": 1,
      "outputs": []
    },
    {
      "cell_type": "code",
      "metadata": {
        "id": "LK0aL6SBMQyK"
      },
      "source": [
        "\n"
      ],
      "execution_count": 1,
      "outputs": []
    }
  ]
}