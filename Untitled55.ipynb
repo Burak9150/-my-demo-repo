{
  "nbformat": 4,
  "nbformat_minor": 0,
  "metadata": {
    "colab": {
      "name": "Untitled55.ipynb",
      "provenance": [],
      "authorship_tag": "ABX9TyPZb4wDsz6UKttlgXPkIBZ/",
      "include_colab_link": true
    },
    "kernelspec": {
      "name": "python3",
      "display_name": "Python 3"
    },
    "language_info": {
      "name": "python"
    }
  },
  "cells": [
    {
      "cell_type": "markdown",
      "metadata": {
        "id": "view-in-github",
        "colab_type": "text"
      },
      "source": [
        "<a href=\"https://colab.research.google.com/github/Burak9150/Python-soru-kutuphanesi/blob/main/Untitled55.ipynb\" target=\"_parent\"><img src=\"https://colab.research.google.com/assets/colab-badge.svg\" alt=\"Open In Colab\"/></a>"
      ]
    },
    {
      "cell_type": "markdown",
      "metadata": {
        "id": "oiuR0uyNZdOn"
      },
      "source": [
        "Bir aralık dizisini kabul eden ve tüm aralık uzunluklarının toplamını döndüren sumIntervals/ adlı bir işlev yazın sum_intervals(). Örtüşen aralıklar yalnızca bir kez sayılmalıdır.\n",
        "\n",
        "Aralıklar\n",
        "Aralıklar, bir dizi şeklinde bir çift tamsayı ile temsil edilir. Aralığın ilk değeri her zaman ikinci değerden küçük olacaktır. Aralık örneği: [1, 5]1'den 5'e kadar bir aralıktır. Bu aralığın uzunluğu 4'tür.\n",
        "\n",
        "Örtüşen Aralıklar\n",
        "Çakışan aralıkları içeren liste:\n",
        "\n",
        "[\n",
        "   [1,4],\n",
        "   [7, 10],\n",
        "   [3, 5]\n",
        "]\n",
        "Bu aralıkların uzunluklarının toplamı 7'dir. [1, 4] ve [3, 5] çakıştığı için, aralığı 4 olan [1, 5] olarak ele alabiliriz.\n",
        "\n",
        "Örnekler:\n",
        "sumIntervals( [\n",
        "   [1,2],\n",
        "   [6, 10],\n",
        "   [11, 15]\n",
        "] ); // => 9\n",
        "\n",
        "sumIntervals( [\n",
        "   [1,4],\n",
        "   [7, 10],\n",
        "   [3, 5]\n",
        "] ); // => 7\n",
        "\n",
        "sumIntervals( [\n",
        "   [1,5],\n",
        "   [10, 20],\n",
        "   [1, 6],\n",
        "   [16, 19],\n",
        "   [5, 11]\n",
        "] ); // => 19"
      ]
    },
    {
      "cell_type": "code",
      "metadata": {
        "colab": {
          "base_uri": "https://localhost:8080/"
        },
        "id": "AdyDSkOUZcSr",
        "outputId": "96eeee49-acac-4177-af2d-67de20b05173"
      },
      "source": [
        "def sum_of_intervals(intervals):\n",
        "  if len(intervals)==1: return len([k  for i in intervals for j in i for k in range(i[0],j)])\n",
        "  elif len(intervals) > 1:\n",
        "    a=[k  for i in intervals for j in i for k in range(i[0],j)]\n",
        "  return len(set(a))\n",
        "print(sum_of_intervals([(1, 5)]))"
      ],
      "execution_count": 1,
      "outputs": [
        {
          "output_type": "stream",
          "name": "stdout",
          "text": [
            "4\n"
          ]
        }
      ]
    },
    {
      "cell_type": "code",
      "metadata": {
        "id": "Yqis_sQjZmM6"
      },
      "source": [
        "def sum_of_intervals(intervals):\n",
        "    result = set()\n",
        "    for start, stop in intervals:\n",
        "        for x in range(start, stop):\n",
        "            result.add(x)\n",
        "            \n",
        "    return len(result)"
      ],
      "execution_count": null,
      "outputs": []
    },
    {
      "cell_type": "code",
      "metadata": {
        "id": "oLDynPrnZnYZ"
      },
      "source": [
        "def sum_of_intervals(intervals):\n",
        "    return len(set([n for (a, b) in intervals for n in [i for i in range(a, b)]]))"
      ],
      "execution_count": null,
      "outputs": []
    },
    {
      "cell_type": "code",
      "metadata": {
        "id": "j0aNF-awZnLR"
      },
      "source": [
        "def sum_of_intervals(intervals): \n",
        "    s = []\n",
        "    for i in intervals:\n",
        "        s += list(range(i[0],i[1]))\n",
        "    return len(set(s))"
      ],
      "execution_count": null,
      "outputs": []
    },
    {
      "cell_type": "code",
      "metadata": {
        "id": "jkhBWj4HZnHB"
      },
      "source": [
        "def sum_of_intervals(intervals):\n",
        "    return len(set([i for a,b in intervals for i in range(a,b)]))"
      ],
      "execution_count": null,
      "outputs": []
    }
  ]
}