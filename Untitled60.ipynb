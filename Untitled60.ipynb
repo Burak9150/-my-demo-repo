{
  "nbformat": 4,
  "nbformat_minor": 0,
  "metadata": {
    "colab": {
      "name": "Untitled60.ipynb",
      "provenance": [],
      "authorship_tag": "ABX9TyMY+wNtuDeJ/6KGvo3c81YQ",
      "include_colab_link": true
    },
    "kernelspec": {
      "name": "python3",
      "display_name": "Python 3"
    },
    "language_info": {
      "name": "python"
    }
  },
  "cells": [
    {
      "cell_type": "markdown",
      "metadata": {
        "id": "view-in-github",
        "colab_type": "text"
      },
      "source": [
        "<a href=\"https://colab.research.google.com/github/Burak9150/Python-soru-kutuphanesi/blob/main/Untitled60.ipynb\" target=\"_parent\"><img src=\"https://colab.research.google.com/assets/colab-badge.svg\" alt=\"Open In Colab\"/></a>"
      ]
    },
    {
      "cell_type": "markdown",
      "metadata": {
        "id": "5szfj1ABykV2"
      },
      "source": [
        "Bir dize olarak bir URL verildiğinde, yalnızca alan adını ayrıştıran ve onu bir dize olarak döndüren bir işlev yazın. Örneğin:\n",
        "\n",
        "domain_name(\"http://github.com/carbonfive/raygun\") == \"github\" \n",
        "domain_name(\"http://www.zombie-bites.com\") == \"zombie-bites\"\n",
        "domain_name(\"https://www.cnet.com\") == \"cnet\""
      ]
    },
    {
      "cell_type": "code",
      "metadata": {
        "id": "Z_2_-6w9yjSv"
      },
      "source": [
        "def domain_name(url):\n",
        "    return url.split(\"//\")[-1].split(\"www.\")[-1].split(\".\")[0]"
      ],
      "execution_count": null,
      "outputs": []
    },
    {
      "cell_type": "code",
      "metadata": {
        "id": "3A9PkPZYylTX"
      },
      "source": [
        "import re\n",
        "def domain_name(url):\n",
        "    return re.search('(https?://)?(www\\d?\\.)?(?P<name>[\\w-]+)\\.', url).group('name')"
      ],
      "execution_count": null,
      "outputs": []
    },
    {
      "cell_type": "code",
      "metadata": {
        "id": "Lmi1TCPnylPl"
      },
      "source": [
        "def domain_name(url):\n",
        "    url = url.replace('www.','')\n",
        "    url = url.replace('https://','')\n",
        "    url = url.replace('http://','')\n",
        "    \n",
        "    return url[0:url.find('.')]"
      ],
      "execution_count": null,
      "outputs": []
    },
    {
      "cell_type": "code",
      "metadata": {
        "id": "YB-xdBYYylLF"
      },
      "source": [
        "def domain_name(url):\n",
        "    return url.split(\"://\")[-1].split(\".\")[-2]"
      ],
      "execution_count": null,
      "outputs": []
    },
    {
      "cell_type": "code",
      "metadata": {
        "id": "K3zJhsuIyk_o"
      },
      "source": [
        "def domain_name(url):\n",
        "    \n",
        "   if (\"www\" not in url): return url.split(\"//\")[1].split(\".\")[0]\n",
        "   else: return url.split(\".\")[1]"
      ],
      "execution_count": null,
      "outputs": []
    }
  ]
}