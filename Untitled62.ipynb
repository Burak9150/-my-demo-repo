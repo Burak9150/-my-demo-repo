{
  "nbformat": 4,
  "nbformat_minor": 0,
  "metadata": {
    "colab": {
      "name": "Untitled62.ipynb",
      "provenance": [],
      "authorship_tag": "ABX9TyP/DiGQJsSHXfRhZBEb4Kal",
      "include_colab_link": true
    },
    "kernelspec": {
      "name": "python3",
      "display_name": "Python 3"
    },
    "language_info": {
      "name": "python"
    }
  },
  "cells": [
    {
      "cell_type": "markdown",
      "metadata": {
        "id": "view-in-github",
        "colab_type": "text"
      },
      "source": [
        "<a href=\"https://colab.research.google.com/github/Burak9150/Python-soru-kutuphanesi/blob/main/Untitled62.ipynb\" target=\"_parent\"><img src=\"https://colab.research.google.com/assets/colab-badge.svg\" alt=\"Open In Colab\"/></a>"
      ]
    },
    {
      "cell_type": "markdown",
      "metadata": {
        "id": "KyNTOhPooSbE"
      },
      "source": [
        ""
      ]
    },
    {
      "cell_type": "code",
      "metadata": {
        "id": "uhCh6Z65oTDM"
      },
      "source": [
        "def sum_pairs(lst, s):\n",
        "    cache = set()\n",
        "    for i in lst:\n",
        "        if s - i in cache:\n",
        "            return [s - i, i]\n",
        "        cache.add(i)\n",
        "sum_pairs([10, 5, 2, 3, 7, 5],         10)"
      ],
      "execution_count": null,
      "outputs": []
    },
    {
      "cell_type": "code",
      "metadata": {
        "id": "pAHQmTkgoTAf"
      },
      "source": [
        "def sum_pairs(nums, sum_value):\n",
        "    seen = set()\n",
        "    for num in nums:\n",
        "        diff = sum_value - num\n",
        "        if diff in seen:\n",
        "            return [diff, num]\n",
        "        seen.add(num)"
      ],
      "execution_count": null,
      "outputs": []
    },
    {
      "cell_type": "code",
      "metadata": {
        "id": "VfpnA58qoS-E"
      },
      "source": [
        "def sum_pairs(ints, s):\n",
        "    d = set()\n",
        "    for n in ints:\n",
        "        if n in d: return [s - n, n]\n",
        "        d.add(s - n)"
      ],
      "execution_count": null,
      "outputs": []
    },
    {
      "cell_type": "code",
      "metadata": {
        "id": "S-Pffh2noS7o"
      },
      "source": [
        ""
      ],
      "execution_count": null,
      "outputs": []
    },
    {
      "cell_type": "code",
      "metadata": {
        "id": "_HYq0W8WoS40"
      },
      "source": [
        ""
      ],
      "execution_count": null,
      "outputs": []
    },
    {
      "cell_type": "code",
      "metadata": {
        "id": "wFEYWIeaif7b"
      },
      "source": [
        ""
      ],
      "execution_count": null,
      "outputs": []
    }
  ]
}