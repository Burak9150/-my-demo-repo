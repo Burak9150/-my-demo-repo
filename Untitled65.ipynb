{
  "nbformat": 4,
  "nbformat_minor": 0,
  "metadata": {
    "colab": {
      "name": "Untitled65.ipynb",
      "provenance": [],
      "authorship_tag": "ABX9TyMdpWHeuSiDol81dBDpV9We",
      "include_colab_link": true
    },
    "kernelspec": {
      "name": "python3",
      "display_name": "Python 3"
    },
    "language_info": {
      "name": "python"
    }
  },
  "cells": [
    {
      "cell_type": "markdown",
      "metadata": {
        "id": "view-in-github",
        "colab_type": "text"
      },
      "source": [
        "<a href=\"https://colab.research.google.com/github/Burak9150/Python-soru-kutuphanesi/blob/main/Untitled65.ipynb\" target=\"_parent\"><img src=\"https://colab.research.google.com/assets/colab-badge.svg\" alt=\"Open In Colab\"/></a>"
      ]
    },
    {
      "cell_type": "markdown",
      "metadata": {
        "id": "1JZMDB2trJZh"
      },
      "source": [
        "Bir mükemmel bir güç pozitif tamsayılar bir sınıflandırmadır:\n",
        "\n",
        "Matematikte mükemmel bir güç , başka bir pozitif tamsayının tamsayı gücü olarak ifade edilebilen pozitif bir tamsayıdır. Daha resmi olarak, m k = n olacak şekilde m > 1 ve k > 1 doğal sayıları varsa, n bir mükemmel güçtür .\n",
        "\n",
        "Göreviniz, verilen bir tamsayının mükemmel bir güç olup olmadığını kontrol etmektir. Mükemmel bir güç ise, bir çift mve kanıt olarak km k = n ile döndürün. Aksi takdirde Nothing, Nil, null, NULL, Noneveya dilinizin eşdeğerini döndürün.\n",
        "\n",
        "Not: Mükemmel bir güç için birkaç çift olabilir. Örneğin 81 = 3^4 = 9^2, öyle (3,4)ve (9,2)geçerli çözümlerdir. Bununla birlikte, testler bununla ilgilenir, bu nedenle bir sayı mükemmel bir güçse, bunu kanıtlayan herhangi bir çifti döndürün.\n",
        "\n",
        "Örnekler\n",
        "isPP(4) => [2,2]\n",
        "isPP(9) => [3,2]\n",
        "isPP(27) => [3,3]\n",
        "isPP(5) => None"
      ]
    },
    {
      "cell_type": "code",
      "metadata": {
        "id": "E_lwH_T7rKVO"
      },
      "source": [
        "def isPP(n):\n",
        "    for i in range(2, n+1):\n",
        "        for j in range(2, n+1):\n",
        "            if i**j > n:\n",
        "                break\n",
        "            elif i**j == n:\n",
        "                return [i, j]\n",
        "    return None"
      ],
      "execution_count": null,
      "outputs": []
    },
    {
      "cell_type": "code",
      "metadata": {
        "id": "NwSHf1ITrKSl"
      },
      "source": [
        "def isPP(n):\n",
        "    for i in range(2, int(n**.5) + 1):\n",
        "        number = n\n",
        "        times = 0\n",
        "        while number % i == 0:\n",
        "            number /= i\n",
        "            times += 1\n",
        "            if number == 1:\n",
        "                return [i, times]\n",
        "    return None"
      ],
      "execution_count": null,
      "outputs": []
    },
    {
      "cell_type": "code",
      "metadata": {
        "id": "Y9O4pS6urKQZ"
      },
      "source": [
        "from math import log\n",
        "\n",
        "def isPP(n, e=1e-12):\n",
        "    for p in range(2, int(log(n, 2)) + 1):\n",
        "        if int(n ** (1./p) + e) ** p == n:\n",
        "            return [int(n ** (1./p) + e), p]"
      ],
      "execution_count": null,
      "outputs": []
    },
    {
      "cell_type": "code",
      "metadata": {
        "id": "bugkB8berKNp"
      },
      "source": [
        "def isPP(n):\n",
        "    for exponent in xrange(2,8):\n",
        "        root = n ** (1.0/exponent)\n",
        "        if int(round(root)) ** exponent == n:\n",
        "            return [int(round(root)), exponent]"
      ],
      "execution_count": null,
      "outputs": []
    },
    {
      "cell_type": "code",
      "metadata": {
        "id": "3-KmXSZVrIOk"
      },
      "source": [
        "def isPP(n):\n",
        "    x, y = 2, 2\n",
        "    while x**2 <= n:\n",
        "        if x**y == n:\n",
        "            return[x,y]\n",
        "        if x**y > n:\n",
        "            x+=1\n",
        "            y = 1\n",
        "        y+=1        \n",
        "    return None"
      ],
      "execution_count": null,
      "outputs": []
    }
  ]
}