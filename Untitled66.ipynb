{
  "nbformat": 4,
  "nbformat_minor": 0,
  "metadata": {
    "colab": {
      "name": "Untitled66.ipynb",
      "provenance": [],
      "authorship_tag": "ABX9TyNxF53eMFBJ0OrHDT2OLpRM",
      "include_colab_link": true
    },
    "kernelspec": {
      "name": "python3",
      "display_name": "Python 3"
    },
    "language_info": {
      "name": "python"
    }
  },
  "cells": [
    {
      "cell_type": "markdown",
      "metadata": {
        "id": "view-in-github",
        "colab_type": "text"
      },
      "source": [
        "<a href=\"https://colab.research.google.com/github/Burak9150/Python-soru-kutuphanesi/blob/main/Untitled66.ipynb\" target=\"_parent\"><img src=\"https://colab.research.google.com/assets/colab-badge.svg\" alt=\"Open In Colab\"/></a>"
      ]
    },
    {
      "cell_type": "markdown",
      "metadata": {
        "id": "DAZEAYt9rJs3"
      },
      "source": [
        "81 sayısının özel bir özelliği vardır, rakamlarının toplamının belirli bir gücü 81'e (dokuz kare) eşittir. Seksen bir (81) bu özelliğe sahip ilk sayıdır (tek basamaklı sayılar dikkate alınmadan). Sıradaki 512. Her iki durumu da ayrıntılarıyla görelim\n",
        "\n",
        "8 + 1 = 9 ve 9 2 = 81\n",
        "\n",
        "512 = 5 + 1 + 2 = 8 ve 8 3 = 512\n",
        "\n",
        "power_sumDigTerm()Bir sayı nalan n-th termve bu sayı dizisinin çıktısını verebilecek bir fonksiyon yapmamız gerekiyor . Yukarıda sunduğumuz vakalar şu anlama gelir:\n",
        "\n",
        "power_sumDigTerm(1) == 81\n",
        "\n",
        "power_sumDigTerm(2) == 512\n",
        "\n",
        "Mutlu kodlama!"
      ]
    },
    {
      "cell_type": "code",
      "metadata": {
        "colab": {
          "base_uri": "https://localhost:8080/"
        },
        "id": "QNpOlCDPqlMP",
        "outputId": "9de70c81-011e-4ae8-b862-50e0746a4a61"
      },
      "source": [
        "def power_sumDigTerm(n):\n",
        "    return sorted(set([a**b for a in range(2, 100) for b in range(2,100) if a == sum(map(int, str(a**b)))]))[n-1]\n",
        "\n",
        "power_sumDigTerm(1)"
      ],
      "execution_count": 1,
      "outputs": [
        {
          "output_type": "execute_result",
          "data": {
            "text/plain": [
              "81"
            ]
          },
          "metadata": {},
          "execution_count": 1
        }
      ]
    },
    {
      "cell_type": "code",
      "metadata": {
        "id": "eneXDdXQqnGd"
      },
      "source": [
        "def power_sumDigTerm(n):\n",
        "    return sorted([i**j for j in range(2,50) for i in range(2,100) if i == sum([int(i) for i in str(i**j) ])])[n-1]"
      ],
      "execution_count": null,
      "outputs": []
    },
    {
      "cell_type": "code",
      "metadata": {
        "id": "1XDutliEqm8s"
      },
      "source": [
        "sod = lambda x: sum(map(int, str(x)))\n",
        "SEQ = [1] + sorted(a ** b for a in range(2, 100) for b in range(2, 30) if a == sod(a ** b))\n",
        "\n",
        "def power_sumDigTerm(n: int) -> int:\n",
        "    return SEQ[n]"
      ],
      "execution_count": null,
      "outputs": []
    },
    {
      "cell_type": "code",
      "metadata": {
        "id": "JTkv9tfEqm6B"
      },
      "source": [
        "def powerOfSum():\n",
        "    l = []\n",
        "    for nb in range(2, 150):\n",
        "        n = nb\n",
        "        for _ in range(2, 20):\n",
        "            n *= nb\n",
        "            if sum(map(int, str(n))) == nb:\n",
        "                l.append(n)\n",
        "    return sorted(l)[:50]\n",
        "def power_sumDigTerm(n):\n",
        "    a = powerOfSum()\n",
        "    return a[n-1]"
      ],
      "execution_count": null,
      "outputs": []
    }
  ]
}