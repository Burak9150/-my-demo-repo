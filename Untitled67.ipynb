{
  "nbformat": 4,
  "nbformat_minor": 0,
  "metadata": {
    "colab": {
      "name": "Untitled67.ipynb",
      "provenance": [],
      "authorship_tag": "ABX9TyOEK+kLGS9aWLs6O2Ifr2xK",
      "include_colab_link": true
    },
    "kernelspec": {
      "name": "python3",
      "display_name": "Python 3"
    },
    "language_info": {
      "name": "python"
    }
  },
  "cells": [
    {
      "cell_type": "markdown",
      "metadata": {
        "id": "view-in-github",
        "colab_type": "text"
      },
      "source": [
        "<a href=\"https://colab.research.google.com/github/Burak9150/Python-soru-kutuphanesi/blob/main/Untitled67.ipynb\" target=\"_parent\"><img src=\"https://colab.research.google.com/assets/colab-badge.svg\" alt=\"Open In Colab\"/></a>"
      ]
    },
    {
      "cell_type": "markdown",
      "metadata": {
        "id": "ophPY96zUhn0"
      },
      "source": [
        "Bir savaş var ve kimse bilmiyor - alfabe savaşı!\n",
        "Harfler nükleer sığınaklarında saklanıyor. Nükleer saldırılar savaş alanını vurdu ve birçoğunu öldürdü.\n",
        "\n",
        "Görev\n",
        "battlefieldDize kabul eden ve nükleer saldırıdan kurtulan harfleri döndüren bir fonksiyon yazın .\n",
        "\n",
        "battlefieldDize sadece küçük harflerden oluşur #, [ve ].\n",
        "Nükleer sığınak köşeli parantez ile gösterilir []. Köşeli parantez içindeki harfler, sığınağın içindeki harfleri temsil etmektedir.\n",
        "#Nükleer saldırı savaş vurmak bir yer anlamına gelir. #Savaş alanında en az bir tane varsa , sığınak dışındaki tüm harfler ölür. #Savaş alanında hiç kimse olmadığında , tüm harfler hayatta kalır (ancak böyle bir senaryoyu çok sık beklemeyin ;-P ).\n",
        "Barınakların biraz dayanıklılığı var. #Sığınağa yakın 2 veya daha fazla vuruş yapıldığında, sığınak yok olur ve içindeki tüm harfler buharlaşır. 'Sığınağa yakın', sığınak ile bir sonraki sığınak (veya savaş alanının başlangıcı/sonu) arasındaki yerde anlamına gelir. Aşağıdaki örnekler sizin için netleştiriyor.\n",
        "Örnek\n",
        "abde[fgh]ijk     => \"abdefghijk\"  (all letters survive because there is no # )\n",
        "ab#de[fgh]ijk    => \"fgh\" (all letters outside die because there is a # )\n",
        "ab#de[fgh]ij#k   => \"\"  (all letters dies, there are 2 # close to the shellter )\n",
        "##abde[fgh]ijk   => \"\"  (all letters dies, there are 2 # close to the shellter )\n",
        "##abde[fgh]ijk[mn]op => \"mn\" (letters from the second shelter survive, there is no # close)\n",
        "#ab#de[fgh]ijk[mn]op => \"mn\" (letters from the second shelter survive, there is no # close)\n",
        "#abde[fgh]i#jk[mn]op => \"mn\" (letters from the second shelter survive, there is only 1 # close)\n",
        "[a]#[b]#[c]  => \"ac\"\n",
        "[a]#b#[c][d] => \"d\"\n",
        "[a][b][c]    => \"abc\"\n",
        "##a[a]b[c]#  => \"c\""
      ]
    },
    {
      "cell_type": "code",
      "metadata": {
        "id": "3qmKsTUXUIwO"
      },
      "source": [
        "def alphabet_war(battlefield):\n",
        "    if '#' not in battlefield:\n",
        "        return battlefield.replace('[', '').replace(']', '')\n",
        "    sectors = [sep for bunker in battlefield.split('[') for sep in bunker.split(']')]\n",
        "    fields = sectors[0::2]\n",
        "    bunkers = sectors[1::2]\n",
        "    return ''.join(b for i, b in enumerate(bunkers) if ''.join(fields[i:i+2]).count('#') < 2)"
      ],
      "execution_count": null,
      "outputs": []
    },
    {
      "cell_type": "code",
      "metadata": {
        "id": "VxXbuoPpUc2o"
      },
      "source": [
        "import re\n",
        "def alphabet_war(b):\n",
        "    if '#' not in b:\n",
        "        return re.sub(r\"[\\[\\]]\",\"\",b)\n",
        "    p = re.compile('([a-z#]*)\\[([a-z]+)\\](?=([a-z#]*))')\n",
        "    return  ''.join( e[1] if (e[0]+e[2]).count('#') < 2 else'' for e in p.findall(b))"
      ],
      "execution_count": null,
      "outputs": []
    },
    {
      "cell_type": "markdown",
      "metadata": {
        "id": "SVz5hRF2Ueiu"
      },
      "source": [
        ""
      ]
    }
  ]
}