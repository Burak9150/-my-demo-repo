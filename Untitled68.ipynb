{
  "nbformat": 4,
  "nbformat_minor": 0,
  "metadata": {
    "colab": {
      "name": "Untitled68.ipynb",
      "provenance": [],
      "authorship_tag": "ABX9TyMACXbdpU5kyNtqml4CRFYB",
      "include_colab_link": true
    },
    "kernelspec": {
      "name": "python3",
      "display_name": "Python 3"
    },
    "language_info": {
      "name": "python"
    }
  },
  "cells": [
    {
      "cell_type": "markdown",
      "metadata": {
        "id": "view-in-github",
        "colab_type": "text"
      },
      "source": [
        "<a href=\"https://colab.research.google.com/github/Burak9150/Python-soru-kutuphanesi/blob/main/Untitled68.ipynb\" target=\"_parent\"><img src=\"https://colab.research.google.com/assets/colab-badge.svg\" alt=\"Open In Colab\"/></a>"
      ]
    },
    {
      "cell_type": "markdown",
      "metadata": {
        "id": "Z7uS3AfyvWXO"
      },
      "source": [
        "This problem was asked by Google.\n",
        "Given a list of integers S and a target number k, write a function that\n",
        "returns a subset of S that adds up to k. If such a subset cannot be made,\n",
        "then return null.\n",
        "Integers can appear more than once in the list. You may assume all numbers\n",
        "in the list are positive.\n",
        "For example, given S = [12, 1, 61, 5, 9, 2] and k = 24, return [12, 9, 2,\n",
        "1] since it sums up to 24."
      ]
    },
    {
      "cell_type": "code",
      "metadata": {
        "id": "lGb9hkIdvRBv"
      },
      "source": [
        "def küme(s,k):\n",
        "  l=[[]]\n",
        "  for j in s:\n",
        "    for i in l:\n",
        "      l=l+[list(i)+[j]]\n",
        "  t=[y for y in l if sum(y)==k ]\n",
        "  return t[0]\n",
        "print(küme([12, 1, 61, 5, 9, 2, 10, 4, 63, 11, 23, 6, 8], 24))"
      ],
      "execution_count": null,
      "outputs": []
    },
    {
      "cell_type": "code",
      "metadata": {
        "id": "r_J7dacwvQ73"
      },
      "source": [
        "import random\n",
        "def kac(n):\n",
        "    sonuc = 1\n",
        "    for i in range(1, len(n) + 1):\n",
        "        sonuc *= i ** i\n",
        "    return sonuc\n",
        "\n",
        "def olustur(liste, hedef):\n",
        "    sayac = 0\n",
        "    result = []\n",
        "    for i in liste:\n",
        "        if i > hedef:\n",
        "            liste.remove(i)\n",
        "    while True:\n",
        "        res = []\n",
        "        toplam = 0\n",
        "        a = random.choice(list(range(1, len(liste) + 1)))\n",
        "        for i in range(a):\n",
        "            b = random.choice(liste)\n",
        "            if b not in res:\n",
        "                res.append(b)\n",
        "                toplam += b\n",
        "            if toplam > hedef:\n",
        "                break\n",
        "            if toplam == hedef:\n",
        "                if res not in result:\n",
        "                    result.append(res)\n",
        "                    break\n",
        "        if len(result) >= 1:\n",
        "            break\n",
        "        sayac += 1\n",
        "        if sayac > kac(liste) and result == []:\n",
        "            return 'Null'\n",
        "    return result[0]\n",
        "\n",
        "olustur([12, 1, 61, 5, 9, 2, 10, 4, 63, 11, 23, 6, 8], 24)"
      ],
      "execution_count": null,
      "outputs": []
    },
    {
      "cell_type": "code",
      "metadata": {
        "id": "gc5dRuQLvQ4_"
      },
      "source": [
        ""
      ],
      "execution_count": null,
      "outputs": []
    },
    {
      "cell_type": "code",
      "metadata": {
        "id": "FZ8MyhKxvQzD"
      },
      "source": [
        ""
      ],
      "execution_count": null,
      "outputs": []
    },
    {
      "cell_type": "code",
      "metadata": {
        "id": "3G15rzaRvP8O"
      },
      "source": [
        ""
      ],
      "execution_count": null,
      "outputs": []
    }
  ]
}